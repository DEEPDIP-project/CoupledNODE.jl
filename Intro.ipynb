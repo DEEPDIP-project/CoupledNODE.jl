{
 "cells": [
  {
   "cell_type": "markdown",
   "metadata": {},
   "source": [
    "# C-NODEs in SciML\n",
    "\n",
    "To motivate the usefulness of this repo, we will start answering two questions: \n",
    "* (1) **what** are NODEs? \n",
    "* (2) **what** are C-NODEs? \n",
    "* (2) **why** do we want C-NODEs?"
   ]
  },
  {
   "cell_type": "markdown",
   "metadata": {},
   "source": [
    "# (1) What are NODEs?\n",
    "\n",
    "This is a generic differential equation (DE):\n",
    "\\begin{equation}\n",
    "\\begin{cases}\n",
    "\\frac{du}{dt} = f(t,u) \\\\\n",
    "u(t=0) = u_0\n",
    "\\end{cases}\n",
    "\\tag{1.0}\n",
    "\\end{equation}\n",
    "where we look for the time-dependent solution $u(t)$, given its initial condition $u_0$ and the force $f(t,u)$ acting on it.\n",
    "In general, we have an ordinary differential equation (ODE) when $$\\frac{du}{dt} = f(u, t)$$ contains a single independent variable $u$"
   ]
  },
  {
   "cell_type": "markdown",
   "metadata": {},
   "source": [
    "We have a Neural ODE (NODE) when the structure of the problem becomes: $$\\frac{du}{dt} = f(u,t) + NN(u |\\theta),$$ so there is an extra force terms that depends on some extra parameters $\\theta$ that are not part of the solution. This term is called $NN$ because it can be a neural network. So overall a NODE problem is a data-driven method, that aims to model the solution $u(t)$ when the ODE can not be solved exactly, or even if $f$ is unknown. Let's look at the details with an example."
   ]
  },
  {
   "cell_type": "markdown",
   "metadata": {},
   "source": [
    "#### Example 1: Logistic equation"
   ]
  },
  {
   "cell_type": "markdown",
   "metadata": {},
   "source": [
    "**Look at Example1 file.**\n",
    "\n",
    "*(To do: embed in some way)*"
   ]
  },
  {
   "cell_type": "markdown",
   "metadata": {},
   "source": [
    "# (2) What are C-NODEs?\n",
    "\n",
    "Coupled Neural ODEs (C-NODEs) are defined as:\n",
    "$$ \\begin{pmatrix} \\dfrac{du}{dt}\\\\ \\dfrac{dv}{dt} \\end{pmatrix} = \\begin{pmatrix} f(u,v,t)\\\\g(u,v,t) \\end{pmatrix} + \\begin{pmatrix}NN_f(u,v|\\theta_f) \\\\NN_g(u,v|\\theta_g) \\end{pmatrix}. $$\n",
    "Let's with an example how this works."
   ]
  },
  {
   "cell_type": "markdown",
   "metadata": {},
   "source": [
    "#### Example 2: Gray-Scott model\n",
    "(Example2.jl)"
   ]
  },
  {
   "cell_type": "markdown",
   "metadata": {},
   "source": [
    "# (3) Why coupled NODEs? \n",
    "Two main explanations:\n",
    "* we are working with coupled systems (like Gray-Scott)\n",
    "* Multiscale approach to PDEs"
   ]
  },
  {
   "cell_type": "markdown",
   "metadata": {},
   "source": [
    "## Multiscale approach to chaotic PDEs\n",
    "In a more realistic situation, the incognita is usually a vector field, so we will try to solve for $u(x,t): \\Omega \\times \\mathbb{R} \\rightarrow \\mathbb{R}^m$, where the spacial coordinate is $x\\in \\Omega \\subseteq \\mathbb{R}^D$ and the field $u$ is $m$-dimensional."
   ]
  },
  {
   "cell_type": "markdown",
   "metadata": {},
   "source": [
    "If the problem is simple, like the case of linear ODEs, $u$ will be perfectly representable using a few parameters, e.g phase and frequency of an harmonic oscillator, and an analytical solution will be probably available. \n",
    "If this is the case, one could rely on direct and efficient approaches like the one described at [this link](https://docs.sciml.ai/DiffEqDocs/stable/examples/classical_physics/)."
   ]
  },
  {
   "cell_type": "markdown",
   "metadata": {},
   "source": [
    "However most of the times, the analytical solution is not available. A common solution is the method of lines, that consists in discretizing the spacial dimension and study a vectorial representation of the function $u(x,t) \\rightarrow \\bar{u}(t)\\in \\mathbb{R}^N$, where $N\\ll D$. This discretization can also be interpreted as a **filter** $\\Phi\\in\\mathbb{R}^{D\\times N}$ that gets applied to the field: \n",
    "$$\\bar{u}= \\Phi u$$"
   ]
  },
  {
   "cell_type": "markdown",
   "metadata": {},
   "source": [
    "Once we have a discretized space, we also discretize the force $f\\rightarrow f_h$ using finite differences, while also assuming that the force is not time dependent. So we are left with \n",
    "\\begin{equation}\n",
    "\\tag{2.2.1}\n",
    "\\begin{cases}\n",
    "\\frac{d\\bar{u}}{dt} = f_h(\\bar{u}) \\\\\n",
    "\\bar{u}(t=0) = \\Phi u(t=0) = \\bar{u}_0\n",
    "\\end{cases}\n",
    "\\end{equation}\n"
   ]
  },
  {
   "cell_type": "markdown",
   "metadata": {},
   "source": [
    "Then the crucial question that we need to address is \n",
    "\\begin{equation}\n",
    "\\tag{2.2.2}\\bar{u}(t)\\stackrel{?}{=} \\Phi u(t),\n",
    "\\end{equation}\n",
    "or in words: **does the discretized solution evolve like the original?**\n",
    "\n",
    "The answer is that it depends on the harshness of the discretization, i.e. the value of $N$ for the specific problem.\n",
    "We distinguish two cases:\n",
    "* **DNS** (direct numerical simulation): if $N$ is large then eq.\\ref{eq:isclosed} is true, or we can say that the system is effectively *closed* because the discretized solution evolves following the behavior of the original system.\n",
    "However, especially if the system is chaotic, it is likely that the small scale behavior influences the large scale behavior. In this case we talk about:\n",
    "* **LES** (large eddy simulations): $N$ is too small to capture the small scale effects, thus the eq.\\ref{eq:ode} is *closed* because we would need $$\\frac{d\\bar{u}}{dt} = \\Phi f(u)$$ which can not be solved using $\\bar{u}(t)$ only. "
   ]
  },
  {
   "cell_type": "markdown",
   "metadata": {},
   "source": [
    "... TO BE CONTINUED ...\n",
    "\n",
    "We are mainly interested in differential equation models for vector fields that have some type of chaotic behavior. This means that we can expect that the problem can not be solved for a continuous variable $x\\in\\mathbb{R}$, so the solution has to be discretized on a finite grid. The definition of this grid also influences the definition of the force $f$, because usually the derivatives are approximated into finite differences. It is then important to consider that the grid is strictly connected to the boundary conditions: if $x=0$ is a fixed boundary, the staggered grid $x=n/2$ for $n=1,\\cdots,N$ would miss this boundary. \n",
    "For now, **we leave the grid problem to the user**. This means that we assume that the DE and all its elements will be defined by the user on a grid that makes sense for its problem, and we will **assume this constant user-defined grid for the solution** of the DE."
   ]
  },
  {
   "cell_type": "markdown",
   "metadata": {},
   "source": [
    "### Example 4 : Burgers\n",
    "Look [here](https://github.com/DEEPDIP-project/NeuralNS-SciML-Tutorials). It has to be adapted, generalized and moved to this repo.\n",
    "\n",
    "### Example 5 : Navier-Stokes\n",
    "It is here [here](https://github.com/DEEPDIP-project/NeuralNS-SciML-Tutorials). Make it compatible with this repo."
   ]
  },
  {
   "cell_type": "markdown",
   "metadata": {},
   "source": []
  }
 ],
 "metadata": {
  "kernelspec": {
   "display_name": "Julia 1.10.1",
   "language": "julia",
   "name": "julia-1.10"
  },
  "language_info": {
   "file_extension": ".jl",
   "mimetype": "application/julia",
   "name": "julia",
   "version": "1.10.1"
  }
 },
 "nbformat": 4,
 "nbformat_minor": 2
}
