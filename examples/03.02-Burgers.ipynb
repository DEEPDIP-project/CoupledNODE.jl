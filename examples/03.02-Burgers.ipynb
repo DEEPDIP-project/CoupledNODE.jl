{
 "cells": [
  {
   "outputs": [],
   "cell_type": "code",
   "source": [
    "const ArrayType = Array\n",
    "import DifferentialEquations: Tsit5\n",
    "const solver_algo = Tsit5()\n",
    "const MY_TYPE = Float32 # use float32 if you plan to use a GPU\n",
    "import CUDA # Test if CUDA is running\n",
    "if CUDA.functional()\n",
    "    CUDA.allowscalar(false)\n",
    "    const ArrayType = CuArray\n",
    "    import DiffEqGPU: GPUTsit5\n",
    "    const solver_algo = GPUTsit5()\n",
    "end"
   ],
   "metadata": {},
   "execution_count": null
  },
  {
   "cell_type": "markdown",
   "source": [
    "# Burgers equations with small scale"
   ],
   "metadata": {}
  },
  {
   "cell_type": "markdown",
   "source": [
    "We start by defining the right-hand side of the Burgers equation. We will use the finite difference method to compute the spatial derivatives.\n",
    "So the first step is to define the grid that we are going to use.\n",
    "We define a DNS and a LES"
   ],
   "metadata": {}
  },
  {
   "outputs": [],
   "cell_type": "code",
   "source": [
    "import CoupledNODE: Grid\n",
    "nux_dns = 1000\n",
    "dux_dns = 2π / nux_dns\n",
    "grid_u_dns = Grid(dim = 1, dx = dux_dns, nx = nux_dns)\n",
    "nux_les = 40 # This is I in Toby's paper\n",
    "dux_les = 2π / nux_les\n",
    "grid_u_les = Grid(dim = 1, dx = dux_les, nx = nux_les)"
   ],
   "metadata": {},
   "execution_count": null
  },
  {
   "cell_type": "markdown",
   "source": [
    "Construct the right-hand side of the Burgers equation"
   ],
   "metadata": {}
  },
  {
   "outputs": [],
   "cell_type": "code",
   "source": [
    "import CoupledNODE: create_burgers_rhs\n",
    "ν = 0.001f0\n",
    "force_params = (ν,)\n",
    "grid_B_dns = (grid_u_dns,)\n",
    "grid_B_les = (grid_u_les,)\n",
    "F_dns = create_burgers_rhs(grid_B_dns, force_params)\n",
    "F_les = create_burgers_rhs(grid_B_les, force_params)"
   ],
   "metadata": {},
   "execution_count": null
  },
  {
   "cell_type": "markdown",
   "source": [
    "and generate some initial conditions"
   ],
   "metadata": {}
  },
  {
   "outputs": [],
   "cell_type": "code",
   "source": [
    "u0_dns = generate_initial_conditions(grid_B_dns[1].nx, 1, kmax = 4);"
   ],
   "metadata": {},
   "execution_count": null
  },
  {
   "cell_type": "markdown",
   "source": [
    "Use a gaussian filter to get the coarse grid"
   ],
   "metadata": {}
  },
  {
   "outputs": [],
   "cell_type": "code",
   "source": [
    "ΔΦ = 5 * grid_B_les[1].dx\n",
    "Φ = create_filter_matrix(grid_B_les, grid_B_dns, ΔΦ, \"gaussian\")"
   ],
   "metadata": {},
   "execution_count": null
  },
  {
   "cell_type": "markdown",
   "source": [
    "or a top hat filter similar to the one used by Toby"
   ],
   "metadata": {}
  },
  {
   "outputs": [],
   "cell_type": "code",
   "source": [
    "ΔΦ = 3 * grid_B_les[1].dx\n",
    "Φ = create_filter_matrix(grid_B_les, grid_B_dns, ΔΦ, \"hat\")"
   ],
   "metadata": {},
   "execution_count": null
  },
  {
   "cell_type": "markdown",
   "source": [
    "Apply the filter to the initial condition"
   ],
   "metadata": {}
  },
  {
   "outputs": [],
   "cell_type": "code",
   "source": [
    "u0_les = Φ * u0_dns"
   ],
   "metadata": {},
   "execution_count": null
  },
  {
   "cell_type": "markdown",
   "source": [
    "### Subgrid scale (SGS)\n",
    "The Subgrid scale (SGS) is defined as the difference between the DNS and the reconstructed LES.\n",
    "Let's show an example of the SGS term for the Burgers equation:\n",
    "To get the reconstruction operator I need the small cell volume ω and the large cell volume Ω (nha that is only for average)"
   ],
   "metadata": {}
  },
  {
   "outputs": [],
   "cell_type": "code",
   "source": [
    "ω = grid_B_dns[1].dx\n",
    "Ω = grid_B_les[1].dx\n",
    "R = 1 / ω * transpose(Φ) * Ω"
   ],
   "metadata": {},
   "execution_count": null
  },
  {
   "cell_type": "markdown",
   "source": [
    "We construct R as a pseudo-inverse operator via the following"
   ],
   "metadata": {}
  },
  {
   "outputs": [],
   "cell_type": "code",
   "source": [
    "R = transpose(Φ) * inv(Matrix(Φ * transpose(Φ)))"
   ],
   "metadata": {},
   "execution_count": null
  },
  {
   "cell_type": "markdown",
   "source": [
    "And we use it to reconstruct the LES and create the SGS"
   ],
   "metadata": {}
  },
  {
   "outputs": [],
   "cell_type": "code",
   "source": [
    "u0_rec = R * u0_les\n",
    "sgs = u0_dns - u0_rec"
   ],
   "metadata": {},
   "execution_count": null
  },
  {
   "cell_type": "markdown",
   "source": [
    "Let's plot a comparison of the different terms"
   ],
   "metadata": {}
  },
  {
   "outputs": [],
   "cell_type": "code",
   "source": [
    "using LaTeXStrings\n",
    "plot(grid_B_dns[1].x, u0_dns, label = \"u\", title = \"Subgrid scale (SGS)\",\n",
    "    xlabel = \"x\", ylabel = L\"u\", legend = :topleft)\n",
    "plot!(grid_B_les[1].x, u0_les, seriestype = :stepmid, label = L\"\\bar{u}=\\mathbf{\\Phi} u\")\n",
    "plot!(grid_B_dns[1].x, u0_rec, label = L\"\\mathbf{R} \\bar{u}\")\n",
    "plot!(grid_B_dns[1].x, sgs, label = \"SGS\")"
   ],
   "metadata": {},
   "execution_count": null
  },
  {
   "cell_type": "markdown",
   "source": [
    "## Energy"
   ],
   "metadata": {}
  },
  {
   "cell_type": "markdown",
   "source": [
    "PDEs like the Burgers equation conserve energy. If we discretize the Burgers equation the energy conservation takes the following form:\n",
    "$$\n",
    "\\begin{equation}\n",
    "\\frac{dE}{dt} = \\bm{u}^T \\bm{\\omega} f(\\bm{u})\n",
    "\\end{equation}\n",
    "$$\n",
    "where $E$ is the energy of the system given by:\n",
    "$$\n",
    "\\begin{equation}\n",
    "E = \\frac{1}{2} \\bm{u}^T \\bm{\\omega} \\bm{u},\n",
    "\\end{equation}\n",
    "$$\n",
    "and $\\bm{\\omega} \\in \\mathbb{R}^{N\\times N}$ is the grid volumes of the diagonal elements.\n",
    "In a dissipative system as Burgers equation, the energy will decrease over time, so the condition becomes actually\n",
    "$$\n",
    "\\begin{equation}\n",
    "\\frac{dE}{dt} = \\bm{u}^T \\bm{\\omega} f(\\bm{u}) \\le 0.\n",
    "\\end{equation}\n",
    "$$"
   ],
   "metadata": {}
  },
  {
   "cell_type": "markdown",
   "source": [
    "If we define our filtering operation to return the following sgs:\n",
    "$$\n",
    "\\bm{u}' := \\bm{u} - \\bm{R} \\bar{\\bm{u}},\n",
    "$$\n",
    "then, the filtering transform the energy constraint as follows:\n",
    "$$\n",
    "\\begin{equation}\n",
    "\\frac{dE}{dt} = \\bar{\\bm{u}}^T \\bm{\\Omega} \\frac{d\\bar{\\bm{u}}}{dt} + \\left( \\bm{u}'\\right)^T \\bm{\\omega} \\frac{d\\bm{u}'}{dt} \\le 0,\n",
    "\\end{equation}\n",
    "$$\n",
    "where the energy is now decomposed as\n",
    "$$\n",
    "\\begin{align}\n",
    "E &=  \\frac{1}{2} \\bar{\\bm{u}}^T \\bm{\\omega} \\bar{\\bm{u}} +\\frac{1}{2} \\left(\\bm{u}'\\right)^T \\bm{\\omega} \\bm{u}'\\\\\n",
    "&:= \\bar{E} + E',\n",
    "\\end{align}\n",
    "$$\n",
    "which are the resolved and the sgs energy terms, respectively."
   ],
   "metadata": {}
  },
  {
   "cell_type": "markdown",
   "source": [
    "However, we do not want to handle the sgs term explicitly, because it lives on the fine grid. So instead we compress it using a linear filter $\\bm{T} \\in \\mathbb{R}^{M \\times N}$ introducing\n",
    "$$\n",
    "\\bm{s} = \\bm{T} \\bm{u}',\n",
    "$$\n",
    "which now represents the sgs as $\\bm{s} \\in \\mathbb{R}^{M}$."
   ],
   "metadata": {}
  },
  {
   "cell_type": "markdown",
   "source": [
    "Then the energy conservation becomes\n",
    "$$\n",
    "\\begin{equation}\n",
    "\\frac{dE}{dt} = \\bar{\\bm{u}}^T \\bm{\\Omega} \\frac{d\\bar{\\bm{u}}}{dt} +  \\bm{s}^T \\bm{\\Omega} \\frac{d\\bm{s}}{dt} \\le 0,\n",
    "\\end{equation}\n",
    "$$\n",
    "where\n",
    "$$\n",
    "\\begin{equation}\n",
    "\\frac{d\\bm{s}}{dt} = \\bm{T} \\frac{d\\bm{u}'}{dt}.\n",
    "\\end{equation}\n",
    "$$"
   ],
   "metadata": {}
  },
  {
   "cell_type": "markdown",
   "source": [
    "### Plot the energy\n",
    "First we have to solve the dynamics"
   ],
   "metadata": {}
  },
  {
   "outputs": [],
   "cell_type": "code",
   "source": [
    "import CoupledNODE: create_f_CNODE\n",
    "import DiffEqFlux: NeuralODE\n",
    "f_dns = create_f_CNODE((F_dns,), grid_B_dns; is_closed = false);\n",
    "f_les = create_f_CNODE((F_les,), grid_B_les; is_closed = false);\n",
    "using Random, LuxCUDA, Lux\n",
    "Random.seed!(123)\n",
    "rng = Random.default_rng()\n",
    "θ_dns, st_dns = Lux.setup(rng, f_dns);\n",
    "θ_les, st_les = Lux.setup(rng, f_les);\n",
    "t_sim = 40.0f0\n",
    "dt_dns = 0.005f0\n",
    "trange = (0.0f0, t_sim)\n",
    "saveat = 0.01f0\n",
    "dns = NeuralODE(f_dns,\n",
    "    trange,\n",
    "    solver_algo,\n",
    "    adaptive = false,\n",
    "    dt = dt_dns,\n",
    "    saveat = saveat);\n",
    "les = NeuralODE(f_les,\n",
    "    trange,\n",
    "    solver_algo,\n",
    "    adaptive = false,\n",
    "    dt = dt_dns,\n",
    "    saveat = saveat);\n",
    "u_dns = Array(dns(u0_dns, θ_dns, st_dns)[1]);"
   ],
   "metadata": {},
   "execution_count": null
  },
  {
   "cell_type": "markdown",
   "source": [
    "Drop sample dimension"
   ],
   "metadata": {}
  },
  {
   "outputs": [],
   "cell_type": "code",
   "source": [
    "u_dns = u_dns[:, 1, :]\n",
    "u_filt = Φ * u_dns\n",
    "\n",
    "E_dns = sum(u_dns .^ 2, dims = 1) * grid_B_dns[1].dx / 2\n",
    "E_filt = sum(u_filt .^ 2, dims = 1) * grid_B_les[1].dx / 2\n",
    "\n",
    "plot(E_dns[1, :], label = L\"E\", title = \"Energy\",\n",
    "    xlabel = \"Time steps\", ylabel = \"Energy\")\n",
    "plot!(E_filt[1, :], label = L\"\\bar{E}\")"
   ],
   "metadata": {},
   "execution_count": null
  },
  {
   "cell_type": "markdown",
   "source": [
    "### SGS projection\n",
    "First we get the sgs"
   ],
   "metadata": {}
  },
  {
   "outputs": [],
   "cell_type": "code",
   "source": [
    "u_prime = u_dns - R * u_filt"
   ],
   "metadata": {},
   "execution_count": null
  },
  {
   "cell_type": "markdown",
   "source": [
    "this is a solution living in the same dimension as the DNS, but this is too expensive to compute.\n",
    "For this reason we project it onto a lower dimensional space.\n",
    "[!] Notice that this SGS space will be coarser than the DNS, but it does NOT have to have the same dimensionality as the associated LES that we plan to solve!\n",
    "Toby would use a single value decomposition (SVD) to get the projection matrix $\\bm{T}$.\n",
    "We propose instead to use principal component analysis (PCA) to get the projection matrix"
   ],
   "metadata": {}
  },
  {
   "outputs": [],
   "cell_type": "code",
   "source": [
    "using MultivariateStats, LinearAlgebra"
   ],
   "metadata": {},
   "execution_count": null
  },
  {
   "cell_type": "markdown",
   "source": [
    "and we compute it using only a part of the data"
   ],
   "metadata": {}
  },
  {
   "outputs": [],
   "cell_type": "code",
   "source": [
    "ndata = size(u_prime, 2)\n",
    "split_idx = Int(floor(0.9 * ndata))\n",
    "permuted_idxs = randperm(ndata)\n",
    "train_idxs = permuted_idxs[1:split_idx]\n",
    "test_idxs = permuted_idxs[(split_idx + 1):end]\n",
    "train_data = u_prime[:, train_idxs]\n",
    "test_data = u_prime[:, test_idxs]"
   ],
   "metadata": {},
   "execution_count": null
  },
  {
   "cell_type": "markdown",
   "source": [
    "Train the PCA"
   ],
   "metadata": {}
  },
  {
   "outputs": [],
   "cell_type": "code",
   "source": [
    "sgs_size = J = 50\n",
    "sgs_size\n",
    "T = fit(PCA, train_data; maxoutdim = sgs_size)"
   ],
   "metadata": {},
   "execution_count": null
  },
  {
   "cell_type": "markdown",
   "source": [
    "this plot shows the explained variance of the PCA"
   ],
   "metadata": {}
  },
  {
   "outputs": [],
   "cell_type": "code",
   "source": [
    "plot(T.prinvars, label = \"PCA explained variance\")"
   ],
   "metadata": {},
   "execution_count": null
  },
  {
   "cell_type": "markdown",
   "source": [
    "And test its ability to reconstruct an unseen datapoint"
   ],
   "metadata": {}
  },
  {
   "outputs": [],
   "cell_type": "code",
   "source": [
    "test_reduced = predict(T, test_data)\n",
    "test_reconstructed = reconstruct(T, test_reduced)\n",
    "print(\"Reconstruction error: \", norm(test_data - test_reconstructed))\n",
    "plot(grid_B_dns[1].x, test_data[:, 1], label = \"Original\")\n",
    "plot!(grid_B_dns[1].x, test_reconstructed[:, 1], label = \"Reconstructed w PCA\")"
   ],
   "metadata": {},
   "execution_count": null
  },
  {
   "cell_type": "markdown",
   "source": [
    "Compare energy predicted with PCA"
   ],
   "metadata": {}
  },
  {
   "outputs": [],
   "cell_type": "code",
   "source": [
    "E_prime = sum(u_prime .^ 2, dims = 1) * grid_B_dns[1].dx / 2\n",
    "u_pca = predict(T, u_prime)\n",
    "E_pca = sum(u_pca .^ 2, dims = 1) * grid_B_dns[1].dx / 2\n",
    "plot(E_prime, E_pca, title = \"Energy SGS\", legend = false,\n",
    "    xlabel = L\"E'\", ylabel = L\"\\frac{1}{2}s^2\")\n",
    "finite_inds = isfinite.(E_prime) .& isfinite.(E_pca)\n",
    "E_prime_finite = E_prime[finite_inds]\n",
    "E_pca_finite = E_pca[finite_inds]\n",
    "scatter(E_prime_finite, E_pca_finite, title = \"Energy SGS\", legend = false,\n",
    "    xlabel = L\"E'\", ylabel = L\"\\frac{1}{2}s^2\")"
   ],
   "metadata": {},
   "execution_count": null
  },
  {
   "cell_type": "markdown",
   "source": [
    "plot the diagonal line as reference"
   ],
   "metadata": {}
  },
  {
   "outputs": [],
   "cell_type": "code",
   "source": [
    "plot!([0, maximum(E_prime_finite)], [0, maximum(E_prime_finite)], label = \"y=x\")"
   ],
   "metadata": {},
   "execution_count": null
  },
  {
   "cell_type": "markdown",
   "source": [
    "At this point we have a matrix $\\bm{T}$ that projects the SGS onto a lower dimensional space.\n",
    "In order to use the sgs, we can implement a closure model for the LES that uses the information stored in the sgs."
   ],
   "metadata": {}
  },
  {
   "cell_type": "markdown",
   "source": [
    "## A-priori fitting"
   ],
   "metadata": {}
  },
  {
   "cell_type": "markdown",
   "source": [
    "Generate data for the a-priori fitting"
   ],
   "metadata": {}
  },
  {
   "outputs": [],
   "cell_type": "code",
   "source": [
    "nsamples = 500\n",
    "nsamples = 10\n",
    "ntimes = size(u_dns)[2]\n",
    "all_u_dns = zeros(size(u_dns)[1], nsamples, ntimes)\n",
    "batch_size = 10\n",
    "n_batches = Int(nsamples / batch_size)\n",
    "for i in 1:n_batches\n",
    "    good = 0\n",
    "    all_u_dns_batch = zeros(size(u_dns)[1], batch_size, ntimes)\n",
    "    while good < ntimes\n",
    "        println(\"Generating batch $(i) (size: $(good) < $(ntimes)\")\n",
    "        all_u0_dns = generate_initial_conditions(grid_B_dns[1].nx, batch_size)\n",
    "        all_u_dns_batch = Array(dns(all_u0_dns, θ_dns, st_dns)[1])\n",
    "        good = size(all_u_dns_batch)[3]\n",
    "    end\n",
    "    all_u_dns[:, ((i - 1) * batch_size + 1):(i * batch_size), :] = all_u_dns_batch\n",
    "end"
   ],
   "metadata": {},
   "execution_count": null
  },
  {
   "cell_type": "markdown",
   "source": [
    "### Data filtering"
   ],
   "metadata": {}
  },
  {
   "outputs": [],
   "cell_type": "code",
   "source": [
    "all_F_dns = F_dns(reshape(\n",
    "    all_u_dns, size(all_u_dns, 1), size(all_u_dns, 2) * size(all_u_dns, 3)));\n",
    "all_F_dns = reshape(all_F_dns, size(all_u_dns));"
   ],
   "metadata": {},
   "execution_count": null
  },
  {
   "cell_type": "markdown",
   "source": [
    "Reshape in and target to have sample and t  in the same dimension (makes sense in a-priori fitting)"
   ],
   "metadata": {}
  },
  {
   "outputs": [],
   "cell_type": "code",
   "source": [
    "all_u_dns_flat = reshape(all_u_dns, nux_dns, size(all_u_dns)[2] * size(all_u_dns)[3]);\n",
    "all_F_dns_flat = reshape(all_F_dns, nux_dns, size(all_F_dns)[2] * size(all_F_dns)[3]);"
   ],
   "metadata": {},
   "execution_count": null
  },
  {
   "cell_type": "markdown",
   "source": [
    "Filter"
   ],
   "metadata": {}
  },
  {
   "outputs": [],
   "cell_type": "code",
   "source": [
    "all_u_les_flat = Φ * all_u_dns_flat\n",
    "target_F_flat = Φ * all_F_dns_flat"
   ],
   "metadata": {},
   "execution_count": null
  },
  {
   "cell_type": "markdown",
   "source": [
    "Train the PCA for those data"
   ],
   "metadata": {}
  },
  {
   "outputs": [],
   "cell_type": "code",
   "source": [
    "T = fit(PCA, all_u_dns_flat; maxoutdim = sgs_size)\n",
    "sgs_size\n",
    "if size(T, 2) != sgs_size\n",
    "    println(\"Warning: PCA did use fewer components than expected, so I will reduce the dimensionality of the SGS space to $(size(T,2))\")\n",
    "    sgs_size = size(T, 2)\n",
    "end"
   ],
   "metadata": {},
   "execution_count": null
  },
  {
   "cell_type": "markdown",
   "source": [
    "Get the sgs"
   ],
   "metadata": {}
  },
  {
   "outputs": [],
   "cell_type": "code",
   "source": [
    "target_sgs_flat = predict(T, all_u_dns_flat - R * all_u_les_flat)"
   ],
   "metadata": {},
   "execution_count": null
  },
  {
   "cell_type": "markdown",
   "source": [
    "the target rhs for the sgs is $T * \\frac{du'}{dt}$, where $\\frac{du'}{dt} = f_{dns} - R f_{les}$"
   ],
   "metadata": {}
  },
  {
   "outputs": [],
   "cell_type": "code",
   "source": [
    "target_F_sgs_flat = predict(T, all_F_dns_flat - R * target_F_flat)"
   ],
   "metadata": {},
   "execution_count": null
  },
  {
   "cell_type": "markdown",
   "source": [
    "and get them back to the original shape"
   ],
   "metadata": {}
  },
  {
   "outputs": [],
   "cell_type": "code",
   "source": [
    "all_u_les = reshape(all_u_les_flat, nux_les, size(all_u_dns)[2:end]...)\n",
    "target_F = reshape(target_F_flat, nux_les, size(all_F_dns)[2:end]...);\n",
    "target_sgs = reshape(target_sgs_flat, sgs_size, size(target_sgs_flat)[2:end]...);\n",
    "target_F_sgs = reshape(target_F_sgs_flat, sgs_size, size(target_F_sgs_flat)[2:end]...);"
   ],
   "metadata": {},
   "execution_count": null
  },
  {
   "cell_type": "markdown",
   "source": [
    "concatenate input and target"
   ],
   "metadata": {}
  },
  {
   "outputs": [],
   "cell_type": "code",
   "source": [
    "all_in = vcat(all_u_les_flat, target_sgs)\n",
    "target = vcat(target_F_flat, target_F_sgs)"
   ],
   "metadata": {},
   "execution_count": null
  },
  {
   "cell_type": "markdown",
   "source": [
    "Pack the grids"
   ],
   "metadata": {}
  },
  {
   "outputs": [],
   "cell_type": "code",
   "source": [
    "dux_s = 2π / sgs_size\n",
    "grid_s = Grid(dim = 1, dx = 2π / sgs_size, nx = sgs_size)\n",
    "grids = (grid_u_les, grid_s)"
   ],
   "metadata": {},
   "execution_count": null
  },
  {
   "cell_type": "markdown",
   "source": [
    "Now create the the Neural Network"
   ],
   "metadata": {}
  },
  {
   "outputs": [],
   "cell_type": "code",
   "source": [
    "using NNlib: gelu\n",
    "import CoupledNODE: create_fno_model\n",
    "ch_fno = [2, 5, 5, 5, 1];\n",
    "kmax_fno = [16, 16, 16, 8];\n",
    "σ_fno = [gelu, gelu, gelu, identity];\n",
    "\n",
    "first_layer_u = (\n",
    "    x -> let u = x[1], s = x[2]"
   ],
   "metadata": {},
   "execution_count": null
  },
  {
   "cell_type": "markdown",
   "source": [
    "make a tuple to use Parallel"
   ],
   "metadata": {}
  },
  {
   "outputs": [],
   "cell_type": "code",
   "source": [
    "        (u, s)\n",
    "    end,\n",
    "    Parallel(nothing, NoOpLayer(), Dense(grids[2].N => grids[1].N)),\n",
    "    x -> let u = x[1], s = x[2]"
   ],
   "metadata": {},
   "execution_count": null
  },
  {
   "cell_type": "markdown",
   "source": [
    "concatenate the input"
   ],
   "metadata": {}
  },
  {
   "outputs": [],
   "cell_type": "code",
   "source": [
    "        cat(u, s; dims = 3)\n",
    "    end\n",
    ")\n",
    "NN_u = create_fno_model(kmax_fno, ch_fno, σ_fno, grids[1], first_layer_u);\n",
    "first_layer_s = (\n",
    "    x -> let u = x[1], s = x[2]\n",
    "        (u, s)\n",
    "    end,\n",
    "    Parallel(nothing, Dense(grids[1].N => grids[2].N), NoOpLayer()),\n",
    "    x -> let u = x[1], s = x[2]\n",
    "        cat(u, s; dims = 3)\n",
    "    end\n",
    ")\n",
    "NN_sgs = create_fno_model(kmax_fno, ch_fno, σ_fno, grids[2], first_layer_s);"
   ],
   "metadata": {},
   "execution_count": null
  },
  {
   "cell_type": "markdown",
   "source": [
    "pack the NNs"
   ],
   "metadata": {}
  },
  {
   "outputs": [],
   "cell_type": "code",
   "source": [
    "NNs = (NN_u, NN_sgs);"
   ],
   "metadata": {},
   "execution_count": null
  },
  {
   "cell_type": "markdown",
   "source": [
    "if it works, then the unclosed cnode and the les should have the same result"
   ],
   "metadata": {}
  },
  {
   "cell_type": "markdown",
   "source": [
    "Use it to create the cnode"
   ],
   "metadata": {}
  },
  {
   "outputs": [],
   "cell_type": "code",
   "source": [
    "f_CNODE = create_f_CNODE(\n",
    "    (F_les, (u, v) -> v .* 0), grids, NNs; is_closed = true)\n",
    "θ, st = Lux.setup(rng, f_CNODE);"
   ],
   "metadata": {},
   "execution_count": null
  },
  {
   "cell_type": "markdown",
   "source": [
    "Trigger compilation and test the force"
   ],
   "metadata": {}
  },
  {
   "outputs": [],
   "cell_type": "code",
   "source": [
    "f_CNODE(all_in, θ, st)[1]\n",
    "\n",
    "import CoupledNODE: create_randloss_derivative\n",
    "myloss = create_randloss_derivative(all_in,\n",
    "    target,\n",
    "    f_CNODE,\n",
    "    st;\n",
    "    n_use = 64,\n",
    "    λ = 0,\n",
    "    λ_c = 0);\n",
    "\n",
    "# Initialize and trigger the compilation of the model\n",
    "using ComponentArrays\n",
    "pinit = ComponentArrays.ComponentArray(θ);\n",
    "print(myloss(pinit));\n",
    "# [!] Check that the loss does not get type warnings, otherwise it will be slower"
   ],
   "metadata": {},
   "execution_count": null
  },
  {
   "cell_type": "markdown",
   "source": [
    "We transform the NeuralODE into an optimization problem"
   ],
   "metadata": {}
  },
  {
   "outputs": [],
   "cell_type": "code",
   "source": [
    "# Select the autodifferentiation type\n",
    "import OptimizationOptimisers: Optimization\n",
    "adtype = Optimization.AutoZygote();\n",
    "optf = Optimization.OptimizationFunction((x, p) -> myloss(x), adtype);\n",
    "optprob = Optimization.OptimizationProblem(optf, pinit);"
   ],
   "metadata": {},
   "execution_count": null
  },
  {
   "cell_type": "markdown",
   "source": [
    "Select the training algorithm:\n",
    "In the previous example we have used a classic gradient method like Adam:"
   ],
   "metadata": {}
  },
  {
   "outputs": [],
   "cell_type": "code",
   "source": [
    "import OptimizationOptimisers: OptimiserChain, Adam, ClipNorm\n",
    "algo = OptimiserChain(Adam(1.0e-3), ClipNorm(1));"
   ],
   "metadata": {},
   "execution_count": null
  },
  {
   "cell_type": "markdown",
   "source": [
    "### Train the CNODE"
   ],
   "metadata": {}
  },
  {
   "outputs": [],
   "cell_type": "code",
   "source": [
    "import CoupledNODE: callback"
   ],
   "metadata": {},
   "execution_count": null
  },
  {
   "cell_type": "markdown",
   "source": [
    "switch to train mode to enable dropout"
   ],
   "metadata": {}
  },
  {
   "outputs": [],
   "cell_type": "code",
   "source": [
    "Lux.trainmode\n",
    "result_neuralode = Optimization.solve(optprob,\n",
    "    algo;\n",
    "    callback = callback,\n",
    "    maxiters = 1000);\n",
    "pinit = result_neuralode.u;\n",
    "θ = pinit;\n",
    "optprob = Optimization.OptimizationProblem(optf, pinit);"
   ],
   "metadata": {},
   "execution_count": null
  },
  {
   "cell_type": "markdown",
   "source": [
    "test this F to integrate time"
   ],
   "metadata": {}
  },
  {
   "outputs": [],
   "cell_type": "code",
   "source": [
    "import DiffEqFlux: NeuralODE\n",
    "Lux.testmode\n",
    "dt = 0.001f0\n",
    "trange = (0.0f0, 10.0f0)\n",
    "saveat_shock = 0.01f0\n",
    "tr = NeuralODE(f_CNODE,\n",
    "    trange,\n",
    "    solver_algo,\n",
    "    adaptive = false,\n",
    "    dt = dt,\n",
    "    saveat = saveat_shock);"
   ],
   "metadata": {},
   "execution_count": null
  },
  {
   "cell_type": "markdown",
   "source": [
    "Initial condition"
   ],
   "metadata": {}
  },
  {
   "outputs": [],
   "cell_type": "code",
   "source": [
    "u0_dns = generate_initial_conditions(grid_B_dns[1].nx, 3);\n",
    "u0_les = Φ * u0_dns\n",
    "s0 = predict(T, u0_dns - R * u0_les)"
   ],
   "metadata": {},
   "execution_count": null
  },
  {
   "cell_type": "markdown",
   "source": [
    "DNS"
   ],
   "metadata": {}
  },
  {
   "outputs": [],
   "cell_type": "code",
   "source": [
    "u_dns = Array(dns(u0_dns, θ_dns, st_dns)[1])"
   ],
   "metadata": {},
   "execution_count": null
  },
  {
   "cell_type": "markdown",
   "source": [
    "LES"
   ],
   "metadata": {}
  },
  {
   "outputs": [],
   "cell_type": "code",
   "source": [
    "u_les = Array(les(u0_les, θ_les, st_les)[1])"
   ],
   "metadata": {},
   "execution_count": null
  },
  {
   "cell_type": "markdown",
   "source": [
    "Trained-SGS"
   ],
   "metadata": {}
  },
  {
   "outputs": [],
   "cell_type": "code",
   "source": [
    "u_tr = Array(tr(vcat(u0_les, s0), θ, st)[1]);\n",
    "u_trained = u_tr[1:(grids[1].N), :, :]\n",
    "s_trained = u_tr[(grids[1].N + 1):end, :, :]"
   ],
   "metadata": {},
   "execution_count": null
  },
  {
   "cell_type": "markdown",
   "source": [
    "Plots"
   ],
   "metadata": {}
  },
  {
   "outputs": [],
   "cell_type": "code",
   "source": [
    "using Plots\n",
    "anim = Animation()\n",
    "fig = plot(layout = (3, 1), size = (800, 300))\n",
    "@gif for i in 1:2:size(u_tr, 3)\n",
    "    p1 = plot(grid_u_dns.x, u_dns[:, 1, i], xlabel = \"x\", ylabel = \"u\",\n",
    "        linetype = :steppre, label = \"dns\")\n",
    "    plot!(grid_u_les.x, u_les[:, 1, i], linetype = :steppre, label = \"les\")\n",
    "    plot!(grid_u_les.x, u_trained[:, 1, i], linetype = :steppre, label = \"trained\")\n",
    "    p2 = plot(grid_u_dns.x, u_dns[:, 2, i], xlabel = \"x\", ylabel = \"u\",\n",
    "        linetype = :steppre, legend = false)\n",
    "    plot!(grid_u_les.x, u_les[:, 2, i], linetype = :steppre, legend = false)\n",
    "    plot!(grid_u_les.x, u_trained[:, 2, i], linetype = :steppre, legend = false)\n",
    "    p3 = plot(grid_u_dns.x, u_dns[:, 3, i], xlabel = \"x\", ylabel = \"u\",\n",
    "        linetype = :steppre, legend = false)\n",
    "    plot!(grid_u_les.x, u_les[:, 3, i], linetype = :steppre, legend = false)\n",
    "    plot!(grid_u_les.x, u_trained[:, 3, i], linetype = :steppre, legend = false)\n",
    "    title = \"time: $(round((i - 1) * saveat_shock, digits = 2))\"\n",
    "    fig = plot(p1, p2, p3, layout = (3, 1), title = title)\n",
    "    frame(anim, fig)\n",
    "end\n",
    "if isdir(\"./plots\")\n",
    "    gif(anim, \"plots/03.02_burgers.gif\", fps = 15)\n",
    "else\n",
    "    gif(anim, \"examples/plots/03.02_burgers.gif\", fps = 15)\n",
    "end"
   ],
   "metadata": {},
   "execution_count": null
  },
  {
   "cell_type": "markdown",
   "source": [
    "---\n",
    "\n",
    "*This notebook was generated using [Literate.jl](https://github.com/fredrikekre/Literate.jl).*"
   ],
   "metadata": {}
  }
 ],
 "nbformat_minor": 3,
 "metadata": {
  "language_info": {
   "file_extension": ".jl",
   "mimetype": "application/julia",
   "name": "julia",
   "version": "1.10.3"
  },
  "kernelspec": {
   "name": "julia-1.10",
   "display_name": "Julia 1.10.3",
   "language": "julia"
  }
 },
 "nbformat": 4
}
