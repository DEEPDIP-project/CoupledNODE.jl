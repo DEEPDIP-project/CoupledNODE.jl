{
 "cells": [
  {
   "outputs": [],
   "cell_type": "code",
   "source": [
    "import DifferentialEquations: ODEProblem, solve, Tsit5\n",
    "using Plots\n",
    "\n",
    "function observation()\n",
    "    f_o(u, p, t) = u .* (0.0 .- 0.8 .* log.(u))\n",
    "    trange = (0.0, 6.0)\n",
    "    prob = ODEProblem(f_o, 0.01, trange, dt = 0.01, saveat = 0.01)\n",
    "    sol = solve(prob, Tsit5())\n",
    "    return sol.u\n",
    "end"
   ],
   "metadata": {},
   "execution_count": null
  },
  {
   "cell_type": "markdown",
   "source": [
    "Define a callback function to observe training"
   ],
   "metadata": {}
  },
  {
   "outputs": [],
   "cell_type": "code",
   "source": [
    "callback = function (p, l, pred; doplot = true)\n",
    "    l_l = length(lhist)\n",
    "    println(\"Loss[$(l_l)]: $(l)\")\n",
    "    push!(lhist, l)\n",
    "    if doplot"
   ],
   "metadata": {},
   "execution_count": null
  },
  {
   "cell_type": "markdown",
   "source": [
    "plot rolling average of loss, every 10 steps"
   ],
   "metadata": {}
  },
  {
   "outputs": [],
   "cell_type": "code",
   "source": [
    "        if l_l % 10 == 0\n",
    "            plot()\n",
    "            fig = plot(; xlabel = \"Iterations\", title = \"Loss\", yscale = :log10)\n",
    "            plot!(fig,\n",
    "                1:10:length(lhist),\n",
    "                [mean(lhist[i:min(i + 9, length(lhist))]) for i in 1:10:length(lhist)],\n",
    "                label = \"\")\n",
    "            display(fig)\n",
    "        end\n",
    "    end\n",
    "    return false\n",
    "end"
   ],
   "metadata": {},
   "execution_count": null
  },
  {
   "cell_type": "markdown",
   "source": [
    "---\n",
    "\n",
    "*This notebook was generated using [Literate.jl](https://github.com/fredrikekre/Literate.jl).*"
   ],
   "metadata": {}
  }
 ],
 "nbformat_minor": 3,
 "metadata": {
  "language_info": {
   "file_extension": ".jl",
   "mimetype": "application/julia",
   "name": "julia",
   "version": "1.10.2"
  },
  "kernelspec": {
   "name": "julia-1.10",
   "display_name": "Julia 1.10.2",
   "language": "julia"
  }
 },
 "nbformat": 4
}
