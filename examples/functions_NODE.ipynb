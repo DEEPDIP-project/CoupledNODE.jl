{
 "cells": [
  {
   "outputs": [],
   "cell_type": "code",
   "source": [
    "import Lux: Chain, SkipConnection, Parallel, Upsample, MeanPool"
   ],
   "metadata": {},
   "execution_count": null
  },
  {
   "cell_type": "markdown",
   "source": [
    "Returns the function to linearize the input"
   ],
   "metadata": {}
  },
  {
   "outputs": [],
   "cell_type": "code",
   "source": [
    "function Linearize_in(grids)\n",
    "    dim = length(grids)\n",
    "    if dim == 1\n",
    "        return u -> let u = u"
   ],
   "metadata": {},
   "execution_count": null
  },
  {
   "cell_type": "markdown",
   "source": [
    "make u linear"
   ],
   "metadata": {}
  },
  {
   "outputs": [],
   "cell_type": "code",
   "source": [
    "            u = reshape(u, grids[1].N, size(u)[end])\n",
    "            u\n",
    "        end\n",
    "    elseif dim == 2\n",
    "        return uv -> let u = uv[1], v = uv[2]"
   ],
   "metadata": {},
   "execution_count": null
  },
  {
   "cell_type": "markdown",
   "source": [
    "make u and v linear"
   ],
   "metadata": {}
  },
  {
   "outputs": [],
   "cell_type": "code",
   "source": [
    "            u = reshape(u, grids[1].N, size(u)[end])\n",
    "            v = reshape(v, grids[2].N, size(v)[end])\n",
    "            vcat(u, v)\n",
    "        end\n",
    "    elseif dim == 3\n",
    "        return uvw -> let u = uv[1], v = uv[2], w = uv[3]"
   ],
   "metadata": {},
   "execution_count": null
  },
  {
   "cell_type": "markdown",
   "source": [
    "make u, v and w linear"
   ],
   "metadata": {}
  },
  {
   "outputs": [],
   "cell_type": "code",
   "source": [
    "            u = reshape(u, grids[1].N, size(u)[end])\n",
    "            v = reshape(v, grids[2].N, size(v)[end])\n",
    "            w = reshape(w, grids[3].N, size(w)[end])\n",
    "            vcat(u, v, w)\n",
    "        end\n",
    "    end\n",
    "end\n",
    "\n",
    "function create_f_CNODE(create_forces, force_params, grids, NNs = nothing;\n",
    "        is_closed = false, gpu_mode = false)"
   ],
   "metadata": {},
   "execution_count": null
  },
  {
   "cell_type": "markdown",
   "source": [
    "Get the number of equations from the number of grids passed"
   ],
   "metadata": {}
  },
  {
   "outputs": [],
   "cell_type": "code",
   "source": [
    "    dim = length(grids)"
   ],
   "metadata": {},
   "execution_count": null
  },
  {
   "cell_type": "markdown",
   "source": [
    "Check which grids need to be resized"
   ],
   "metadata": {}
  },
  {
   "outputs": [],
   "cell_type": "code",
   "source": [
    "    max_dx = maximum([g.dx for g in grids])\n",
    "    max_dy = maximum([g.dy for g in grids])\n",
    "    if dim > 1\n",
    "        grids_to_rescale = [g.dx != max_dx || g.dy != max_dy ? 1 : 0 for g in grids]\n",
    "        for (i, needs_rescaling) in enumerate(grids_to_rescale)\n",
    "            if needs_rescaling == 1\n",
    "                println(\"Grid $i needs to be rescaled.\")\n",
    "            end\n",
    "        end\n",
    "    else\n",
    "        grids_to_rescale = [0]\n",
    "    end"
   ],
   "metadata": {},
   "execution_count": null
  },
  {
   "cell_type": "markdown",
   "source": [
    "Check if you want to use a GPU\n",
    "TODO: is this necessary?"
   ],
   "metadata": {}
  },
  {
   "outputs": [],
   "cell_type": "code",
   "source": [
    "    if gpu_mode\n",
    "        if !CUDA.functional()\n",
    "            println(\"ERROR: no GPU avail\")\n",
    "        end\n",
    "        grids = cu(grids)\n",
    "    end"
   ],
   "metadata": {},
   "execution_count": null
  },
  {
   "cell_type": "markdown",
   "source": [
    "Create the forces"
   ],
   "metadata": {}
  },
  {
   "outputs": [],
   "cell_type": "code",
   "source": [
    "    F = create_forces(grids, force_params)"
   ],
   "metadata": {},
   "execution_count": null
  },
  {
   "cell_type": "markdown",
   "source": [
    "Get the functions that will downscale and upscale the field s"
   ],
   "metadata": {}
  },
  {
   "outputs": [],
   "cell_type": "code",
   "source": [
    "    Upscaler = upscale_v(grids, grids_to_rescale, max_dx, max_dy)\n",
    "    Downscaler = downscale_v(grids, grids_to_rescale, max_dx, max_dy)"
   ],
   "metadata": {},
   "execution_count": null
  },
  {
   "cell_type": "markdown",
   "source": [
    "Check if you want to close the CNODE or not"
   ],
   "metadata": {}
  },
  {
   "outputs": [],
   "cell_type": "code",
   "source": [
    "    if !is_closed\n",
    "        return Chain(\n",
    "            Upscaler,\n",
    "            uv -> let u = uv[1], v = uv[2]"
   ],
   "metadata": {},
   "execution_count": null
  },
  {
   "cell_type": "markdown",
   "source": [
    "Return a tuple of the right hand side of the CNODE\n",
    "remove the placeholder dimension for the channels"
   ],
   "metadata": {}
  },
  {
   "outputs": [],
   "cell_type": "code",
   "source": [
    "                u = reshape(u, grid_for_force.nux, grid_for_force.nuy, size(u, 4))\n",
    "                v = reshape(v, grid_for_force.nvx, grid_for_force.nvy, size(v, 4))\n",
    "                F(u, v)\n",
    "            end,\n",
    "            Downscaler)\n",
    "    else"
   ],
   "metadata": {},
   "execution_count": null
  },
  {
   "cell_type": "markdown",
   "source": [
    "Define the NN term that concatenates the output of the NNs"
   ],
   "metadata": {}
  },
  {
   "outputs": [],
   "cell_type": "code",
   "source": [
    "        if dim == 1\n",
    "            if length(NNs) != 1\n",
    "                error(\"ERROR: NNs should be a single NN for 1D problems\")\n",
    "            end\n",
    "            NN_closure = Parallel(nothing, NNs[1])\n",
    "        elseif dim == 2\n",
    "            if length(NNs) != 2\n",
    "                error(\"ERROR: NNs should be a tuple of two NNs for 2D problems\")\n",
    "            end\n",
    "            NN_closure = Parallel(nothing, NNs[1], NNs[2])\n",
    "        elseif dim == 3\n",
    "            if length(NNs) != 3\n",
    "                error(\"ERROR: NNs should be a tuple of three NNs for 3D problems\")\n",
    "            end\n",
    "            NN_closure = Parallel(nothing, NNs[1], NNs[2], NNs[3])\n",
    "        else\n",
    "            error(\"ERROR: Unsupported number of dimensions: $dim\")\n",
    "        end"
   ],
   "metadata": {},
   "execution_count": null
  },
  {
   "cell_type": "markdown",
   "source": [
    "And use it to close the CNODE"
   ],
   "metadata": {}
  },
  {
   "outputs": [],
   "cell_type": "code",
   "source": [
    "        return Chain(Upscaler,"
   ],
   "metadata": {},
   "execution_count": null
  },
  {
   "cell_type": "markdown",
   "source": [
    "For the NN I want u and v concatenated in the channel dimension"
   ],
   "metadata": {}
  },
  {
   "outputs": [],
   "cell_type": "code",
   "source": [
    "            uv -> let u = uv[1], v = uv[2]\n",
    "                cat(u, v, dims = 3)\n",
    "            end,"
   ],
   "metadata": {},
   "execution_count": null
  },
  {
   "cell_type": "markdown",
   "source": [
    "Apply the right hand side of the CNODE"
   ],
   "metadata": {}
  },
  {
   "outputs": [],
   "cell_type": "code",
   "source": [
    "            SkipConnection(NN_closure,\n",
    "                (f_NN, uv) -> let u = uv[:, :, 1, :], v = uv[:, :, 2, :]\n",
    "                    F(u, v) + f_NN\n",
    "                end),\n",
    "            Downscaler)\n",
    "    end\n",
    "end\n",
    "\n",
    "\"\"\"\n",
    "    downscale_v(grid, resize_v=false)\n",
    "\n",
    "Generate the layer that downscales `v` and expects as input a tuple `(u, v)`.\n",
    "If `resize_v` is `true`, the layer upscales `v` to twice the target size and applies mean pooling.\n",
    "\n",
    "Arguments:\n",
    "- `grid`: Grid object that represents the spatial discretization of the variables `u` and `v`.\n",
    "- `resize_v`: A boolean indicating whether to resize v.\n",
    "\n",
    "Returns:\n",
    "- Function that takes a tuple (u, v) returns the linearized concatenation of `u` and `v`.\n",
    "\"\"\"\n",
    "function downscale_v(grids, grids_to_rescale, max_dx, max_dy)\n",
    "    dim = length(grids)"
   ],
   "metadata": {},
   "execution_count": null
  },
  {
   "cell_type": "markdown",
   "source": [
    "Get the explicit function to linearize the input"
   ],
   "metadata": {}
  },
  {
   "outputs": [],
   "cell_type": "code",
   "source": [
    "    linearize_layer = Linearize_in(grids)\n",
    "\n",
    "    if dim == 1 || !any(grids_to_rescale)"
   ],
   "metadata": {},
   "execution_count": null
  },
  {
   "cell_type": "markdown",
   "source": [
    "There is no need to downscale"
   ],
   "metadata": {}
  },
  {
   "outputs": [],
   "cell_type": "code",
   "source": [
    "        return linearize_layer\n",
    "    else"
   ],
   "metadata": {},
   "execution_count": null
  },
  {
   "cell_type": "markdown",
   "source": [
    "To downscale we do the following:\n",
    "1. Create a skippable layer that:\n",
    "      a. Extracts the u-v-w component that needs to be downscaled\n",
    "      b. Upscales it to twice the target size\n",
    "      c. Applies mean pooling\n",
    "2. Apply a skip connection that gets scaled and unscaled u-v-w components\n",
    "3. Concatenate the u-v-w components and return them"
   ],
   "metadata": {}
  },
  {
   "cell_type": "markdown",
   "source": [
    "TODO !!! This does nothing for now"
   ],
   "metadata": {}
  },
  {
   "outputs": [],
   "cell_type": "code",
   "source": [
    "        error(\"Not implemented yet\")\n",
    "        dw_v = Chain("
   ],
   "metadata": {},
   "execution_count": null
  },
  {
   "cell_type": "markdown",
   "source": [
    "extract only the v component"
   ],
   "metadata": {}
  },
  {
   "outputs": [],
   "cell_type": "code",
   "source": [
    "            uv -> let v = uv[2]"
   ],
   "metadata": {},
   "execution_count": null
  },
  {
   "cell_type": "markdown",
   "source": [
    "to apply upsample you need a 4th dumb dimension to represent the channels/batch"
   ],
   "metadata": {}
  },
  {
   "outputs": [],
   "cell_type": "code",
   "source": [
    "                v = reshape(v, size(v, 1), size(v, 2), size(v, 3), 1)\n",
    "                v\n",
    "            end,"
   ],
   "metadata": {},
   "execution_count": null
  },
  {
   "cell_type": "markdown",
   "source": [
    "to downscale we first have to upscale to twice the target size"
   ],
   "metadata": {}
  },
  {
   "outputs": [],
   "cell_type": "code",
   "source": [
    "            Upsample(:trilinear, size = (2 * grid.nvx, 2 * grid.nvy)),\n",
    "            MeanPool((2, 2)))\n",
    "        return Chain(SkipConnection(dw_v,\n",
    "            (v_dw, uv) -> let u = uv[1]"
   ],
   "metadata": {},
   "execution_count": null
  },
  {
   "cell_type": "markdown",
   "source": [
    "make u and v linear"
   ],
   "metadata": {}
  },
  {
   "outputs": [],
   "cell_type": "code",
   "source": [
    "                nbatch = size(u)[end]\n",
    "                u = reshape(u, grid.Nu, nbatch)\n",
    "                v = reshape(v_dw, grid.Nv, nbatch)"
   ],
   "metadata": {},
   "execution_count": null
  },
  {
   "cell_type": "markdown",
   "source": [
    "and concatenate"
   ],
   "metadata": {}
  },
  {
   "outputs": [],
   "cell_type": "code",
   "source": [
    "                vcat(u, v)\n",
    "            end))\n",
    "    end\n",
    "end\n",
    "\n",
    "\"\"\"\n",
    "    upscale_v(grid, resize_v=false)\n",
    "\n",
    "Generate the layer that upscales `v`.\n",
    "This function expects as input the linearized concatenation of u and v and returns a tuple (u, v).\n",
    "\n",
    "Arguments:\n",
    "- `grid`: Grid object that represents the spatial discretization of the variables `u` and `v`.\n",
    "- `resize_v`: A boolean indicating whether to resize the v component.\n",
    "\n",
    "Returns:\n",
    "- Function that reshapes `u` and `v` on the grid and returns a tuple (u, v)\n",
    "\"\"\""
   ],
   "metadata": {},
   "execution_count": null
  },
  {
   "cell_type": "markdown",
   "source": [
    "Returns the function to concatenate"
   ],
   "metadata": {}
  },
  {
   "outputs": [],
   "cell_type": "code",
   "source": [
    "function Concatenate_in(grids)\n",
    "    dim = length(grids)\n",
    "    if dim == 1\n",
    "        return u -> let u = u"
   ],
   "metadata": {},
   "execution_count": null
  },
  {
   "cell_type": "markdown",
   "source": [
    "add a placeholder dimension for the channels"
   ],
   "metadata": {}
  },
  {
   "outputs": [],
   "cell_type": "code",
   "source": [
    "            u = reshape(u, grids[1].nx, 1, size(u)[end])\n",
    "            u\n",
    "        end\n",
    "    elseif dim == 2\n",
    "        return uv -> let u = uv[1:(grids[1].N), :], v = uv[(grids[1].N + 1):end, :]"
   ],
   "metadata": {},
   "execution_count": null
  },
  {
   "cell_type": "markdown",
   "source": [
    "reshape u and v on their grid while adding a placeholder dimension for the channels"
   ],
   "metadata": {}
  },
  {
   "outputs": [],
   "cell_type": "code",
   "source": [
    "            u = reshape(u, grid[1].nx, grid[2].ny, 1, size(u, 2))\n",
    "            v = reshape(v, grid[2].nx, grid[2].ny, 1, size(v, 2))\n",
    "            (u, v)\n",
    "        end\n",
    "    elseif dim == 3\n",
    "        return uvw -> let u = uvw[1:(grids[1].N), :],\n",
    "            v = uvw[(grids[1].N + 1):(grids[1].N + grids[2].N), :],\n",
    "            w = uvw[(grids[1].N + grids[2].N + 1):end, :]"
   ],
   "metadata": {},
   "execution_count": null
  },
  {
   "cell_type": "markdown",
   "source": [
    "reshape u, v and w on their grid while adding a placeholder dimension for the channels"
   ],
   "metadata": {}
  },
  {
   "outputs": [],
   "cell_type": "code",
   "source": [
    "            u = reshape(u, grid[1].nx, grid[1].ny, 1, size(u, 2))\n",
    "            v = reshape(v, grid[2].nx, grid[2].ny, 1, size(v, 2))\n",
    "            w = reshape(w, grid[3].nx, grid[3].ny, 1, size(w, 2))\n",
    "            (u, v, w)\n",
    "        end\n",
    "    end\n",
    "end"
   ],
   "metadata": {},
   "execution_count": null
  },
  {
   "cell_type": "markdown",
   "source": [
    "Generate the layer that upscales v\n",
    "expects as input the linearized concatenation of u and v\n",
    "returns a tuple (u,v)"
   ],
   "metadata": {}
  },
  {
   "outputs": [],
   "cell_type": "code",
   "source": [
    "function upscale_v(grids, grids_to_rescale, max_dx, max_dy)\n",
    "    dim = length(grids)"
   ],
   "metadata": {},
   "execution_count": null
  },
  {
   "cell_type": "markdown",
   "source": [
    "Get the explicit function to concatenate the input"
   ],
   "metadata": {}
  },
  {
   "outputs": [],
   "cell_type": "code",
   "source": [
    "    concatenate_layer = Concatenate_in(grids)\n",
    "\n",
    "    if dim == 1 || !any(grids_to_rescale)\n",
    "        return concatenate_layer\n",
    "    else"
   ],
   "metadata": {},
   "execution_count": null
  },
  {
   "cell_type": "markdown",
   "source": [
    "TODO!!! This does nothing for now"
   ],
   "metadata": {}
  },
  {
   "outputs": [],
   "cell_type": "code",
   "source": [
    "        error(\"Not implemented yet\")\n",
    "        up_v = Chain("
   ],
   "metadata": {},
   "execution_count": null
  },
  {
   "cell_type": "markdown",
   "source": [
    "extract only the v component"
   ],
   "metadata": {}
  },
  {
   "outputs": [],
   "cell_type": "code",
   "source": [
    "            uv -> let v = uv[(grid.Nu + 1):end, :]"
   ],
   "metadata": {},
   "execution_count": null
  },
  {
   "cell_type": "markdown",
   "source": [
    "reshape v on the grid"
   ],
   "metadata": {}
  },
  {
   "outputs": [],
   "cell_type": "code",
   "source": [
    "                v = reshape(v, grid.nvx, grid.nvy, 1, size(v, 2))\n",
    "                v\n",
    "            end,\n",
    "            Upsample(:trilinear, size = (grid.nux, grid.nuy)))\n",
    "        return Chain(SkipConnection(up_v,\n",
    "            (v_up, uv) -> let u = uv[1:(grid.Nu), :]"
   ],
   "metadata": {},
   "execution_count": null
  },
  {
   "cell_type": "markdown",
   "source": [
    "make u on the grid"
   ],
   "metadata": {}
  },
  {
   "outputs": [],
   "cell_type": "code",
   "source": [
    "                u = reshape(u, grid.nux, grid.nuy, 1, size(u, 2))\n",
    "                (u, v_up)\n",
    "            end))\n",
    "    end\n",
    "end"
   ],
   "metadata": {},
   "execution_count": null
  },
  {
   "cell_type": "markdown",
   "source": [
    "---\n",
    "\n",
    "*This notebook was generated using [Literate.jl](https://github.com/fredrikekre/Literate.jl).*"
   ],
   "metadata": {}
  }
 ],
 "nbformat_minor": 3,
 "metadata": {
  "language_info": {
   "file_extension": ".jl",
   "mimetype": "application/julia",
   "name": "julia",
   "version": "1.10.2"
  },
  "kernelspec": {
   "name": "julia-1.10",
   "display_name": "Julia 1.10.2",
   "language": "julia"
  }
 },
 "nbformat": 4
}
