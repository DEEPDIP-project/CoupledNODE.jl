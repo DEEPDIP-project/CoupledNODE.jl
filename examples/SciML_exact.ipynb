{
 "cells": [
  {
   "cell_type": "markdown",
   "source": [
    "# Exploration of SciML\n",
    "In this notebook we will explore SciML ecosystem and its capabilities. As a study-case we will take the Gray-Scott model (example 02.01) and will try to :\n",
    "1. Calculate exact solution using the different SciML approaches.\n",
    "2. Use a neural closure term to learn the parameters using a priori fitting.\n",
    "We will benchmark some of the key parts and compare the obtained results."
   ],
   "metadata": {}
  },
  {
   "cell_type": "markdown",
   "source": [
    "## Helper functions\n",
    "- Helper function to reshape `ODESolution` to our matrices. Returns an object with dimentions `(x, y,n_samples, t)`"
   ],
   "metadata": {}
  },
  {
   "outputs": [],
   "cell_type": "code",
   "source": [
    "function reshape_ODESolution(ODE_sol, grid)\n",
    "    u = reshape(ODE_sol[1:(grid.N), :, :], grid.nx, grid.ny, size(ODE_sol, 2), :)\n",
    "    v = reshape(ODE_sol[(grid_GS.N + 1):end, :, :], grid.nx, grid.ny, size(ODE_sol, 2), :)\n",
    "    return u, v\n",
    "end"
   ],
   "metadata": {},
   "execution_count": null
  },
  {
   "cell_type": "markdown",
   "source": [
    "- Helper function to plot a Gray-Scott heatmap"
   ],
   "metadata": {}
  },
  {
   "outputs": [],
   "cell_type": "code",
   "source": [
    "function GS_heatmap(data; title = \"\", color = :reds)\n",
    "    return heatmap(data,\n",
    "        axis = false,\n",
    "        cbar = false,\n",
    "        aspect_ratio = 1,\n",
    "        color = color,\n",
    "        title = title,\n",
    "        framestyle = :none)\n",
    "end"
   ],
   "metadata": {},
   "execution_count": null
  },
  {
   "cell_type": "markdown",
   "source": [
    "## Definition of the problem\n",
    "As a reminder, the GS model is defined from\n",
    "$\\begin{equation}\\begin{cases} \\frac{du}{dt} = D_u \\Delta u - uv^2 + f(1-u)  \\equiv F_u(u,v) \\\\ \\frac{dv}{dt} = D_v \\Delta v + uv^2 - (f+k)v  \\equiv G_v(u,v)\\end{cases} \\end{equation}$\n",
    "where $u(x,y,t):\\mathbb{R}^2\\times \\mathbb{R}\\rightarrow \\mathbb{R}$ is the concentration of species 1, while $v(x,y,t)$ is the concentration of species two. This model reproduce the effect of the two species diffusing in their environment, and reacting together.\n",
    "This effect is captured by the ratios between $D_u$ and $D_v$ (diffusion coefficients) and $f$ and $k$ (reaction rates).\n",
    "Here we define elements common to all cases: a 2D grid, initial conditions, forces $F_u$ and $G_v$."
   ],
   "metadata": {}
  },
  {
   "cell_type": "markdown",
   "source": [
    "Definition of the grid"
   ],
   "metadata": {}
  },
  {
   "outputs": [],
   "cell_type": "code",
   "source": [
    "import CoupledNODE: Grid, grid_to_linear, linear_to_grid\n",
    "dx = dy = 1.0\n",
    "nx = ny = 64\n",
    "grid_GS = Grid(dim = 2, dx = dx, nx = nx, dy = dy, ny = ny)"
   ],
   "metadata": {},
   "execution_count": null
  },
  {
   "cell_type": "markdown",
   "source": [
    "Definition of the initial condition as a random perturbation over a constant background to add variety.\n",
    "Notice that this initial conditions are different from those of the previous example."
   ],
   "metadata": {}
  },
  {
   "outputs": [],
   "cell_type": "code",
   "source": [
    "import Random\n",
    "rng = Random.seed!(1234);\n",
    "function initial_condition(grid_u, grid_v, U₀, V₀, ε_u, ε_v; nsimulations = 1)\n",
    "    u_init = U₀ .+ ε_u .* Random.randn(grid_u.nx, grid_u.ny, nsimulations)\n",
    "    v_init = V₀ .+ ε_v .* Random.randn(grid_v.nx, grid_v.ny, nsimulations)\n",
    "    return u_init, v_init\n",
    "end\n",
    "U₀ = 0.5    # initial concentration of u\n",
    "V₀ = 0.25   # initial concentration of v\n",
    "ε_u = 0.05  # magnitude of the perturbation on u\n",
    "ε_v = 0.1   # magnitude of the perturbation on v\n",
    "u_initial, v_initial = initial_condition(\n",
    "    grid_GS, grid_GS, U₀, V₀, ε_u, ε_v, nsimulations = 20);"
   ],
   "metadata": {},
   "execution_count": null
  },
  {
   "cell_type": "markdown",
   "source": [
    "We define the initial condition as a flattened concatenated array"
   ],
   "metadata": {}
  },
  {
   "outputs": [],
   "cell_type": "code",
   "source": [
    "uv0 = vcat(reshape(u_initial, grid_GS.N, :), reshape(v_initial, grid_GS.N, :));"
   ],
   "metadata": {},
   "execution_count": null
  },
  {
   "cell_type": "markdown",
   "source": [
    "These are the GS parameters (also used in example 02.01)"
   ],
   "metadata": {}
  },
  {
   "outputs": [],
   "cell_type": "code",
   "source": [
    "D_u = 0.16\n",
    "D_v = 0.08\n",
    "f = 0.055\n",
    "k = 0.062;"
   ],
   "metadata": {},
   "execution_count": null
  },
  {
   "cell_type": "markdown",
   "source": [
    "Exact right hand sides (functions) of the GS model"
   ],
   "metadata": {}
  },
  {
   "outputs": [],
   "cell_type": "code",
   "source": [
    "import CoupledNODE: Laplacian\n",
    "F_u(u, v) = D_u * Laplacian(u, grid_GS.dx, grid_GS.dy) .- u .* v .^ 2 .+ f .* (1.0 .- u)\n",
    "G_v(u, v) = D_v * Laplacian(v, grid_GS.dx, grid_GS.dy) .+ u .* v .^ 2 .- (f + k) .* v"
   ],
   "metadata": {},
   "execution_count": null
  },
  {
   "cell_type": "markdown",
   "source": [
    "### Burnout runs\n",
    "We're going to perform some burnout runs in order to get to an initial state common to all cases.\n",
    "Definition of the CNODE that is not closed (i.e. no neural closure term)."
   ],
   "metadata": {}
  },
  {
   "outputs": [],
   "cell_type": "code",
   "source": [
    "import Lux\n",
    "import CoupledNODE: create_f_CNODE\n",
    "f_burnout = create_f_CNODE((F_u, G_v), (grid_GS, grid_GS); is_closed = false);\n",
    "θ_0, st_0 = Lux.setup(rng, f_burnout); # placeholder parameters (not meaningful)\n",
    "\n",
    "import DifferentialEquations: Tsit5\n",
    "solver_algo = Tsit5(); # defined for all cases\n",
    "import DiffEqFlux: NeuralODE\n",
    "trange_burn = (0.0, 1.0)\n",
    "dt, saveat = (1e-2, 1)\n",
    "burnout_CNODE = NeuralODE(f_burnout,\n",
    "    trange_burn,\n",
    "    solver_algo,\n",
    "    adaptive = false,\n",
    "    dt = dt,\n",
    "    saveat = saveat);\n",
    "burnout_CNODE_solution = Array(burnout_CNODE(uv0, θ_0, st_0)[1]);"
   ],
   "metadata": {},
   "execution_count": null
  },
  {
   "cell_type": "markdown",
   "source": [
    "We will use the last state of the burnout as the initial condition for the next exploration"
   ],
   "metadata": {}
  },
  {
   "outputs": [],
   "cell_type": "code",
   "source": [
    "uv0 = burnout_CNODE_solution[:, :, end];"
   ],
   "metadata": {},
   "execution_count": null
  },
  {
   "cell_type": "markdown",
   "source": [
    "We define de time span, dt and saveat cused to generate the solutions that we want to compare."
   ],
   "metadata": {}
  },
  {
   "outputs": [],
   "cell_type": "code",
   "source": [
    "trange = (0.0, 2000.0);\n",
    "dt, saveat = (1 / (4 * max(D_u, D_v)), 10);"
   ],
   "metadata": {},
   "execution_count": null
  },
  {
   "cell_type": "markdown",
   "source": [
    "## 1. Exact solution\n",
    "### a. [NeuralODE](https://docs.sciml.ai/DiffEqFlux/stable/examples/neural_ode/)\n",
    "We are going to use `f_burnout` that is a right hand side that is not closed with a neural network."
   ],
   "metadata": {}
  },
  {
   "outputs": [],
   "cell_type": "code",
   "source": [
    "neural_ODE_problem = NeuralODE(\n",
    "    f_burnout, trange, solver_algo, adaptive = false, dt = dt, saveat = saveat);\n",
    "@time neural_ODE_exact_sol = Array(neural_ODE_problem(uv0, θ_0, st_0)[1]);"
   ],
   "metadata": {},
   "execution_count": null
  },
  {
   "cell_type": "markdown",
   "source": [
    "`41.340940 seconds (2.18 M allocations: 298.835 GiB, 31.85% gc time)`"
   ],
   "metadata": {}
  },
  {
   "outputs": [],
   "cell_type": "code",
   "source": [
    "u_neural_ODE, v_neural_ODE = reshape_ODESolution(neural_ODE_exact_sol, grid_GS);"
   ],
   "metadata": {},
   "execution_count": null
  },
  {
   "cell_type": "markdown",
   "source": [
    "### b. [ODEProblem](https://docs.sciml.ai/DiffEqDocs/stable/types/ode_types/#ode_prob)\n",
    "In this case, we need to create a wrapper around our force that would have the signature expected by `ODEProblem`.\n",
    "Options are:\n",
    "- `f(du,u,p,t)`: in-place\n",
    "- `f(u,p,t)`: returning `du`, out of place"
   ],
   "metadata": {}
  },
  {
   "outputs": [],
   "cell_type": "code",
   "source": [
    "function rhs_ode_problem(u, p, t)\n",
    "    f_burnout(u, θ_0, st_0)[1]\n",
    "end"
   ],
   "metadata": {},
   "execution_count": null
  },
  {
   "cell_type": "markdown",
   "source": [
    "then define the problem and solve it:"
   ],
   "metadata": {}
  },
  {
   "outputs": [],
   "cell_type": "code",
   "source": [
    "using DifferentialEquations: ODEProblem, solve\n",
    "ODE_problem = ODEProblem(rhs_ode_problem, uv0, trange);\n",
    "@time ODE_exact_sol = solve(\n",
    "    ODE_problem, solver_algo, adaptive = false, dt = dt, saveat = saveat);"
   ],
   "metadata": {},
   "execution_count": null
  },
  {
   "cell_type": "markdown",
   "source": [
    "`39.702393 seconds (3.03 M allocations: 298.401 GiB, 14.79% gc time, 0.84% compilation time)`"
   ],
   "metadata": {}
  },
  {
   "outputs": [],
   "cell_type": "code",
   "source": [
    "u_ODE, v_ODE = reshape_ODESolution(Array(ODE_exact_sol), grid_GS);"
   ],
   "metadata": {},
   "execution_count": null
  },
  {
   "cell_type": "markdown",
   "source": [
    "We can also define our forces in place (i.e. they modify `du` and `dv`) therefore the `!` in the function signature"
   ],
   "metadata": {}
  },
  {
   "outputs": [],
   "cell_type": "code",
   "source": [
    "function rhs_ode_problem_in!(du, u, p, t)\n",
    "    #u has dimensions (cat(flattened(u,v)), nsamples)\n",
    "    u_gs = reshape(u[1:(grid_GS.N), :], grid_GS.nx, grid_GS.ny, size(u)[end])\n",
    "    v_gs = reshape(u[(grid_GS.N + 1):end, :], grid_GS.nx, grid_GS.ny, size(u)[end])\n",
    "    du_gs = F_u(u_gs, v_gs)\n",
    "    dv_gs = G_v(u_gs, v_gs)\n",
    "    #We need to use .= to mutate du otherwise it will create a copy.\n",
    "    du .= vcat(grid_to_linear(grid_GS, du_gs), grid_to_linear(grid_GS, dv_gs))\n",
    "end"
   ],
   "metadata": {},
   "execution_count": null
  },
  {
   "cell_type": "markdown",
   "source": [
    "out of place: return `du`, also see that there is no `!` in the function signature"
   ],
   "metadata": {}
  },
  {
   "outputs": [],
   "cell_type": "code",
   "source": [
    "function rhs_ode_problem_out(u, p, t)\n",
    "    #u has dimensions (cat(flattened(u,v)), nsamples)\n",
    "    u_gs = reshape(u[1:(grid_GS.N), :], grid_GS.nx, grid_GS.ny, size(u)[end])\n",
    "    v_gs = reshape(u[(grid_GS.N + 1):end, :], grid_GS.nx, grid_GS.ny, size(u)[end])\n",
    "    du_gs = F_u(u_gs, v_gs)\n",
    "    dv_gs = G_v(u_gs, v_gs)\n",
    "    return vcat(grid_to_linear(grid_GS, du_gs), grid_to_linear(grid_GS, dv_gs))\n",
    "end"
   ],
   "metadata": {},
   "execution_count": null
  },
  {
   "cell_type": "markdown",
   "source": [
    "and let's see if there is any difference in performance"
   ],
   "metadata": {}
  },
  {
   "outputs": [],
   "cell_type": "code",
   "source": [
    "ODE_problem_in = ODEProblem(rhs_ode_problem_in!, uv0, trange);\n",
    "@time ODE_exact_sol_in = solve(\n",
    "    ODE_problem_in, solver_algo, adaptive = false, dt = dt, saveat = saveat);"
   ],
   "metadata": {},
   "execution_count": null
  },
  {
   "cell_type": "markdown",
   "source": [
    "`33.438104 seconds (3.94 M allocations: 222.298 GiB, 11.76% gc time, 2.21% compilation time)`"
   ],
   "metadata": {}
  },
  {
   "outputs": [],
   "cell_type": "code",
   "source": [
    "ODE_problem_out = ODEProblem(rhs_ode_problem_out, uv0, trange);\n",
    "@time ODE_exact_sol_out = solve(\n",
    "    ODE_problem_out, solver_algo, adaptive = false, dt = dt, saveat = saveat);"
   ],
   "metadata": {},
   "execution_count": null
  },
  {
   "cell_type": "markdown",
   "source": [
    "`38.377476 seconds (3.05 M allocations: 298.403 GiB, 11.64% gc time, 0.87% compilation time)`"
   ],
   "metadata": {}
  },
  {
   "cell_type": "markdown",
   "source": [
    "### c. ODEProblem for PDEs following https://docs.sciml.ai/Overview/stable/showcase/gpu_spde/\n",
    "In this approach `u` is a matrix in which the first dimension correspont to the variable ($u$ or $v$)."
   ],
   "metadata": {}
  },
  {
   "cell_type": "markdown",
   "source": [
    "In place definition. Pay attenton to `!` and `.=`."
   ],
   "metadata": {}
  },
  {
   "outputs": [],
   "cell_type": "code",
   "source": [
    "function rhs_pde!(du, u, p, t)\n",
    "    u_gs = @view u[1, :, :, :]\n",
    "    v_gs = @view u[2, :, :, :]\n",
    "    du_gs = @view du[1, :, :, :]\n",
    "    dv_gs = @view du[2, :, :, :]\n",
    "    du_gs .= F_u(u_gs, v_gs)\n",
    "    dv_gs .= G_v(u_gs, v_gs)\n",
    "end"
   ],
   "metadata": {},
   "execution_count": null
  },
  {
   "cell_type": "markdown",
   "source": [
    "Out of place definition (not working either)"
   ],
   "metadata": {}
  },
  {
   "outputs": [],
   "cell_type": "code",
   "source": [
    "function rhs_pde(u, p, t)\n",
    "    u_gs = @view u[1, :, :, :]\n",
    "    v_gs = @view u[2, :, :, :]\n",
    "    du_gs = F_u(u_gs, v_gs)\n",
    "    dv_gs = G_v(u_gs, v_gs)\n",
    "    return permutedims(cat(du_gs, dv_gs, dims = 4), [4, 1, 2, 3])\n",
    "end\n",
    "\n",
    "u0 = permutedims(cat(u_initial, v_initial, dims = 4), [4, 1, 2, 3]); # 2x64x64x20 n_vars x nx x ny x n_samples\n",
    "PDE_problem = ODEProblem(rhs_pde!, u0, trange)\n",
    "@time PDE_exact_sol = solve(\n",
    "    PDE_problem, solver_algo, adaptive = false, dt = dt, saveat = saveat);"
   ],
   "metadata": {},
   "execution_count": null
  },
  {
   "cell_type": "markdown",
   "source": [
    "With out-of-place definition:\n",
    "- 1st time: `61.979926 seconds (3.93 M allocations: 298.467 GiB, 36.20% gc time, 1.46% compilation time)`\n",
    "- 2nd time: `59.904910 seconds (2.30 M allocations: 298.362 GiB, 35.24% gc time)`\n",
    "With in-place definition:\n",
    "- 1st time: `29.790686 seconds (9.65 M allocations: 203.936 GiB, 9.15% gc time, 6.55% compilation time)`\n",
    "- 2nd time: `26.900031 seconds (1.90 M allocations: 203.431 GiB, 12.54% gc time)`"
   ],
   "metadata": {}
  },
  {
   "outputs": [],
   "cell_type": "code",
   "source": [
    "u_PDE = Array(PDE_exact_sol)[1, :, :, :, :];\n",
    "v_PDE = Array(PDE_exact_sol)[2, :, :, :, :];"
   ],
   "metadata": {},
   "execution_count": null
  },
  {
   "cell_type": "markdown",
   "source": [
    "### d. ModelingToolkit.jl (WIP)\n",
    "ModelingToolkit.jl is a symbolic modeling framework that can be used to generate the right hand side of the ODEs.\n",
    "We try to adapt the usage instructions of [PDESystem](https://docs.sciml.ai/ModelingToolkit/stable/systems/PDESystem/#PDESystem) to our case."
   ],
   "metadata": {}
  },
  {
   "outputs": [],
   "cell_type": "code",
   "source": [
    "using ModelingToolkit\n",
    "using ModelingToolkit: t_nounits as t\n",
    "@parameters f k D_u D_v x y\n",
    "@variables u(t) v(t)\n",
    "Dt = Differential(t)\n",
    "Dx = Differential(x)\n",
    "Dy = Differential(y)"
   ],
   "metadata": {},
   "execution_count": null
  },
  {
   "cell_type": "markdown",
   "source": [
    "the following does not work because Laplacian expects `u` to be a matrix and not a `Num`.\n",
    "```eqs = [\n",
    "   Dt(u) ~ D_u * Laplacian(u, grid_GS.dx, grid_GS.dy) - u * v^2 + f * (1 - u),\n",
    "   Dt(v) ~ D_v * Laplacian(v, grid_GS.dx, grid_GS.dy) + u * v^2 - (f + k) * v\n",
    "]```"
   ],
   "metadata": {}
  },
  {
   "outputs": [],
   "cell_type": "code",
   "source": [
    "eqs = [\n",
    "    Dt(u) ~ D_u * (Dx(Dx(u)) + Dy(Dy(u))) - u * v^2 + f * (1 - u),\n",
    "    Dt(v) ~ D_v * (Dx(Dx(v)) + Dy(Dy(v))) + u * v^2 - (f + k) * v\n",
    "]"
   ],
   "metadata": {},
   "execution_count": null
  },
  {
   "cell_type": "markdown",
   "source": [
    "Still do not know how to handle periodic boundary conditions, so we will skip this part for now. (although maybe is already handled by `Laplacian`)"
   ],
   "metadata": {}
  },
  {
   "outputs": [],
   "cell_type": "code",
   "source": [
    "bcs = []\n",
    "domains = [t ∈ (trange[begin], trange[end]),\n",
    "           x ∈ (0.0, nx+dx),\n",
    "           y ∈ (0.0, ny*dy)]"
   ],
   "metadata": {},
   "execution_count": null
  },
  {
   "cell_type": "markdown",
   "source": [
    "We build the `PDESystem(eqs, bcs, domain, ivs, dvs, ps)` I think this is still Work in progress and is not ready."
   ],
   "metadata": {}
  },
  {
   "outputs": [],
   "cell_type": "code",
   "source": [
    "#@named pde_system = PDESystem(eqs, bcs, domains, [t,x,y], [u,v], [f,k,D_u,D_v])"
   ],
   "metadata": {},
   "execution_count": null
  },
  {
   "cell_type": "markdown",
   "source": [
    "However, using `ODESystem`, we get an error due to having multiple variables.\n",
    "I suspect ModelingToolkit identifies `x` and `y` as variables because of the spatial derivatives in the Laplacian."
   ],
   "metadata": {}
  },
  {
   "outputs": [],
   "cell_type": "code",
   "source": [
    "@mtkbuild ode_system = ODESystem(eqs, t)\n",
    "mtk_problem = ODEProblem(ode_system, [u => u_initial, v => v_initial], trange)\n",
    "sol_MTK = solve(mtk_problem, solver_algo, adaptive = false, dt = dt, saveat = saveat)"
   ],
   "metadata": {},
   "execution_count": null
  },
  {
   "cell_type": "markdown",
   "source": [
    "### Comparison\n",
    "#### Results\n",
    "Let's check if there are any differences between the solutions:"
   ],
   "metadata": {}
  },
  {
   "outputs": [],
   "cell_type": "code",
   "source": [
    "any(u_ODE - u_neural_ODE .!= 0.0)\n",
    "any(v_ODE - v_neural_ODE .!= 0.0)\n",
    "any(u_PDE - u_neural_ODE .!= 0.0)\n",
    "any(v_PDE - v_neural_ODE .!= 0.0)"
   ],
   "metadata": {},
   "execution_count": null
  },
  {
   "cell_type": "markdown",
   "source": [
    "We see that:\n",
    "- _ODEProblem vs NeuralODE_: all values are zero, the solutions are identical!\n",
    "- _PDEProblem vs NeuralODE_: there are differences between the solutions. (_PDEProblem_ is ODEProblem formulated as a PDE)"
   ],
   "metadata": {}
  },
  {
   "cell_type": "markdown",
   "source": [
    "Also let's see if there is any difference between the in-place and out-of-place definitions"
   ],
   "metadata": {}
  },
  {
   "outputs": [],
   "cell_type": "code",
   "source": [
    "any(ODE_exact_sol_in .!= ODE_exact_sol)\n",
    "any(ODE_exact_sol_out .!= ODE_exact_sol)\n",
    "any(ODE_exact_sol_in .!= ODE_exact_sol_out)"
   ],
   "metadata": {},
   "execution_count": null
  },
  {
   "cell_type": "markdown",
   "source": [
    "We see that the spolutions of out-of-place and defining the right hand side as the CNODE are identical. However, defining the right hand side as an in-place function gives different results."
   ],
   "metadata": {}
  },
  {
   "cell_type": "markdown",
   "source": [
    "#### Plots"
   ],
   "metadata": {}
  },
  {
   "outputs": [],
   "cell_type": "code",
   "source": [
    "using Plots, Plots.PlotMeasures\n",
    "anim = Animation()\n",
    "fig = plot(layout = (4, 3))\n",
    "@gif for i in 1:1:size(u_ODE, 4)\n",
    "    # First row: set of parameters 1\n",
    "    p1 = GS_heatmap(u_neural_ODE[:, :, 1, i], title = \"u\")\n",
    "    p2 = GS_heatmap(v_neural_ODE[:, :, 1, i], title = \"v\", color = :blues)\n",
    "    p3 = GS_heatmap(u_ODE[:, :, 1, i])\n",
    "    p4 = GS_heatmap(v_ODE[:, :, 1, i], color = :blues)\n",
    "    p5 = GS_heatmap(u_PDE[:, :, 1, i])\n",
    "    p6 = GS_heatmap(v_PDE[:, :, 1, i], color = :blues)\n",
    "    p7 = GS_heatmap(u_PDE[:, :, 1, i] - u_neural_ODE[:, :, 1, i], color = :greens)\n",
    "    p8 = GS_heatmap(v_PDE[:, :, 1, i] - v_ODE[:, :, 1, i], color = :greens)\n",
    "\n",
    "    #Create titles as separate plots\n",
    "    t1 = plot(title = \"NeuralODE\", framestyle = :none)\n",
    "    t2 = plot(title = \"ODEProblem\", framestyle = :none)\n",
    "    t3 = plot(title = \"PDEProblem\", framestyle = :none)\n",
    "    t4 = plot(title = \"Diff(PDE-ODE)\", framestyle = :none)\n",
    "\n",
    "    fig = plot(t1, p1, p2, t2, p3, p4, t3, p5, p6, t4, p7, p8,\n",
    "        layout = (4, 3),\n",
    "        margin = 0mm)\n",
    "    frame(anim, fig)\n",
    "end"
   ],
   "metadata": {},
   "execution_count": null
  },
  {
   "cell_type": "markdown",
   "source": [
    "#### Time and memory usage\n",
    "We can see that the `NeuralODE` and `ODEProblem` have similar performance, while the `PDEProblem` is slower.\n",
    "All of the implementations presented here have a similar (high) number of allocations and memory usage."
   ],
   "metadata": {}
  },
  {
   "cell_type": "markdown",
   "source": [
    "##### In-place and out-of-place right hand side definitions\n",
    "We see aspeed up in time but also more allocations."
   ],
   "metadata": {}
  },
  {
   "cell_type": "markdown",
   "source": [
    "**Next steps:** Try out with a different (better written) implementation of the forces."
   ],
   "metadata": {}
  },
  {
   "cell_type": "markdown",
   "source": [
    "---\n",
    "\n",
    "*This notebook was generated using [Literate.jl](https://github.com/fredrikekre/Literate.jl).*"
   ],
   "metadata": {}
  }
 ],
 "nbformat_minor": 3,
 "metadata": {
  "language_info": {
   "file_extension": ".jl",
   "mimetype": "application/julia",
   "name": "julia",
   "version": "1.10.3"
  },
  "kernelspec": {
   "name": "julia-1.10",
   "display_name": "Julia 1.10.3",
   "language": "julia"
  }
 },
 "nbformat": 4
}
