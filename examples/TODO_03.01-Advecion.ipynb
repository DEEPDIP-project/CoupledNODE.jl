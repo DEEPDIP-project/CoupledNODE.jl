{
 "cells": [
  {
   "outputs": [],
   "cell_type": "code",
   "source": [
    "using Lux\n",
    "using NaNMath\n",
    "using SciMLSensitivity\n",
    "using DiffEqFlux\n",
    "using DifferentialEquations\n",
    "using Plots\n",
    "using Zygote\n",
    "using Random\n",
    "rng = Random.seed!(1234)\n",
    "using OptimizationOptimisers\n",
    "using Statistics\n",
    "using ComponentArrays\n",
    "using CUDA\n",
    "ArrayType = CUDA.functional() ? CuArray : Array"
   ],
   "metadata": {},
   "execution_count": null
  },
  {
   "cell_type": "markdown",
   "source": [
    "Import our custom backend functions"
   ],
   "metadata": {}
  },
  {
   "outputs": [],
   "cell_type": "code",
   "source": [
    "include(\"coupling_functions/functions_example.jl\")\n",
    "include(\"coupling_functions/functions_NODE.jl\")\n",
    "include(\"coupling_functions/functions_loss.jl\")"
   ],
   "metadata": {},
   "execution_count": null
  },
  {
   "cell_type": "markdown",
   "source": [
    "We want to solve the convection diffusion equation"
   ],
   "metadata": {}
  },
  {
   "cell_type": "markdown",
   "source": [
    "this is the equation we want to solve"
   ],
   "metadata": {}
  },
  {
   "cell_type": "markdown",
   "source": [
    "write it as a system of first order ODEs"
   ],
   "metadata": {}
  },
  {
   "cell_type": "markdown",
   "source": [
    "create the grid"
   ],
   "metadata": {}
  },
  {
   "outputs": [],
   "cell_type": "code",
   "source": [
    "x = collect(LinRange(-pi, pi, 101))\n",
    "y = collect(LinRange(-pi, pi, 101))"
   ],
   "metadata": {},
   "execution_count": null
  },
  {
   "cell_type": "markdown",
   "source": [
    "so we get this dx and dy (constant grid)"
   ],
   "metadata": {}
  },
  {
   "outputs": [],
   "cell_type": "code",
   "source": [
    "dx = x[2] - x[1]\n",
    "dy = y[2] - y[1]"
   ],
   "metadata": {},
   "execution_count": null
  },
  {
   "cell_type": "markdown",
   "source": [
    "and the initial condition is random"
   ],
   "metadata": {}
  },
  {
   "outputs": [],
   "cell_type": "code",
   "source": [
    "c0 = rand(101, 101)"
   ],
   "metadata": {},
   "execution_count": null
  },
  {
   "cell_type": "markdown",
   "source": [
    "which is a scalar field because we are looking for the concentration of a single species"
   ],
   "metadata": {}
  },
  {
   "cell_type": "markdown",
   "source": [
    "the user specifies this equation"
   ],
   "metadata": {}
  },
  {
   "outputs": [],
   "cell_type": "code",
   "source": [
    "function gen_conv_diff_f(speed, viscosity, dx, dy)"
   ],
   "metadata": {},
   "execution_count": null
  },
  {
   "cell_type": "markdown",
   "source": [
    "Derivatives using finite differences"
   ],
   "metadata": {}
  },
  {
   "outputs": [],
   "cell_type": "code",
   "source": [
    "    function first_derivative(u, Δx, Δy)\n",
    "        du_dx = zeros(size(u))\n",
    "        du_dy = zeros(size(u))\n",
    "\n",
    "        du_dx[:, 2:(end - 1)] = (u[:, 3:end] - u[:, 1:(end - 2)]) / (2 * Δx)\n",
    "        du_dx[:, 1] = (u[:, 2] - u[:, end]) / (2 * Δx)\n",
    "        du_dx[:, end] = (u[:, 1] - u[:, end - 1]) / (2 * Δx)\n",
    "\n",
    "        du_dy[2:(end - 1), :] = (u[3:end, :] - u[1:(end - 2), :]) / (2 * Δy)\n",
    "        du_dy[1, :] = (u[2, :] - u[end, :]) / (2 * Δy)\n",
    "        du_dy[end, :] = (u[1, :] - u[end - 1, :]) / (2 * Δy)\n",
    "\n",
    "        return du_dx, du_dy\n",
    "    end\n",
    "    function second_derivative(u, Δx, Δy)\n",
    "        d2u_dx2 = zeros(size(u))\n",
    "        d2u_dy2 = zeros(size(u))\n",
    "\n",
    "        d2u_dx2[:, 2:(end - 1)] = (u[:, 3:end] - 2 * u[:, 2:(end - 1)] +\n",
    "                                   u[:, 1:(end - 2)]) / (Δx^2)\n",
    "        d2u_dx2[:, 1] = (u[:, 2] - 2 * u[:, 1] + u[:, end]) / (Δx^2)\n",
    "        d2u_dx2[:, end] = (u[:, 1] - 2 * u[:, end] + u[:, end - 1]) / (Δx^2)\n",
    "\n",
    "        d2u_dy2[2:(end - 1), :] = (u[3:end, :] - 2 * u[2:(end - 1), :] +\n",
    "                                   u[1:(end - 2), :]) / (Δy^2)\n",
    "        d2u_dy2[1, :] = (u[2, :] - 2 * u[1, :] + u[end, :]) / (Δy^2)\n",
    "        d2u_dy2[end, :] = (u[1, :] - 2 * u[end, :] + u[end - 1, :]) / (Δy^2)\n",
    "\n",
    "        return d2u_dx2, d2u_dy2\n",
    "    end"
   ],
   "metadata": {},
   "execution_count": null
  },
  {
   "cell_type": "markdown",
   "source": [
    "Convection-diffusion equation"
   ],
   "metadata": {}
  },
  {
   "outputs": [],
   "cell_type": "code",
   "source": [
    "    function f_cd(u,\n",
    "            t,\n",
    "            ddx_dy = first_derivative,\n",
    "            d2dx2_d2dy2 = second_derivative,\n",
    "            viscosity = viscosity,\n",
    "            speed = speed,\n",
    "            dx = dx,\n",
    "            dy = dy)\n",
    "        du_dx, du_dy = ddx_ddy(u, dx, dy)\n",
    "        d2u_dx2, d2u_dy2 = d2dx2_d2dy2(u, dx, dy)\n",
    "        return -speed[1] * du_dx - speed[2] * du_dy .+ viscosity[1] * d2u_dx2 .+\n",
    "               viscosity[2] * d2u_dy2\n",
    "    end\n",
    "    return f_cd\n",
    "end"
   ],
   "metadata": {},
   "execution_count": null
  },
  {
   "cell_type": "markdown",
   "source": [
    "So this is the force"
   ],
   "metadata": {}
  },
  {
   "outputs": [],
   "cell_type": "code",
   "source": [
    "f_cd(u) = gen_conv_diff_f([0.1, 0.1], [0.00001, 0.00001], dx, dy)"
   ],
   "metadata": {},
   "execution_count": null
  },
  {
   "cell_type": "markdown",
   "source": [
    "create the NN"
   ],
   "metadata": {}
  },
  {
   "outputs": [],
   "cell_type": "code",
   "source": [
    "NN = create_nn_cd()"
   ],
   "metadata": {},
   "execution_count": null
  },
  {
   "cell_type": "markdown",
   "source": [
    "* We create the right hand side of the NODE, by combining the NN with f_u"
   ],
   "metadata": {}
  },
  {
   "outputs": [],
   "cell_type": "code",
   "source": [
    "f_NODE = create_NODE_cd(NN, p; is_closed = true)"
   ],
   "metadata": {},
   "execution_count": null
  },
  {
   "cell_type": "markdown",
   "source": [
    "and get the parametrs that you want to train"
   ],
   "metadata": {}
  },
  {
   "outputs": [],
   "cell_type": "code",
   "source": [
    "θ, st = Lux.setup(rng, f_NODE)"
   ],
   "metadata": {},
   "execution_count": null
  },
  {
   "cell_type": "markdown",
   "source": [
    "---\n",
    "\n",
    "*This notebook was generated using [Literate.jl](https://github.com/fredrikekre/Literate.jl).*"
   ],
   "metadata": {}
  }
 ],
 "nbformat_minor": 3,
 "metadata": {
  "language_info": {
   "file_extension": ".jl",
   "mimetype": "application/julia",
   "name": "julia",
   "version": "1.10.2"
  },
  "kernelspec": {
   "name": "julia-1.10",
   "display_name": "Julia 1.10.2",
   "language": "julia"
  }
 },
 "nbformat": 4
}
