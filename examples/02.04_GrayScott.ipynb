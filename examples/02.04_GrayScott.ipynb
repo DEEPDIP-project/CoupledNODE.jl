{
 "cells": [
  {
   "outputs": [],
   "cell_type": "code",
   "source": [
    "const ArrayType = Array\n",
    "const z = (s...) -> zeros(Float32, s...)\n",
    "import DifferentialEquations: Tsit5\n",
    "const solver_algo = Tsit5()\n",
    "const MY_TYPE = Float32 # use float32 if you plan to use a GPU\n",
    "import CUDA # Test if CUDA is running\n",
    "if CUDA.functional()\n",
    "    CUDA.allowscalar(false)\n",
    "    const ArrayType = CuArray\n",
    "    const z = CUDA.zeros\n",
    "    import DiffEqGPU: GPUTsit5\n",
    "    const solver_algo = GPUTsit5()\n",
    "end"
   ],
   "metadata": {},
   "execution_count": null
  },
  {
   "cell_type": "markdown",
   "source": [
    "# Learning a closure for the Gray-Scott model when using a coarser grid for $v$\n",
    "In this example, we want to learn a closure to the Gray-Scott model using a Neural Network. Here we use a **coarser grid only on $v$**, while we keep the **fine grid for $u$**.\n",
    "## Exact solution in *fine* grid - DNS\n",
    "We run multiple GS simulations as discussed in the previous part.\n",
    "*Note:* the *fine* grid is only 40 cells per side to speed up the example."
   ],
   "metadata": {}
  },
  {
   "outputs": [],
   "cell_type": "code",
   "source": [
    "dux = duy = dvx = dvy = 1.0f0\n",
    "nux = nuy = nvx = nvy = 40\n",
    "import CoupledNODE: Grid, Laplacian\n",
    "grid_GS = Grid(dux, duy, nux, nuy, dvx, dvy, nvx, nvy, convert_to_float32 = true);"
   ],
   "metadata": {},
   "execution_count": null
  },
  {
   "cell_type": "markdown",
   "source": [
    "Let's define the initial condition as a random perturbation over a constant background to add variety."
   ],
   "metadata": {}
  },
  {
   "outputs": [],
   "cell_type": "code",
   "source": [
    "function initial_condition(grid, U₀, V₀, ε_u, ε_v; nsimulations = 1)\n",
    "    u_init = U₀ .+ ε_u .* randn(grid.nux, grid.nuy, nsimulations)\n",
    "    v_init = V₀ .+ ε_v .* randn(grid.nvx, grid.nvy, nsimulations)\n",
    "    return u_init, v_init\n",
    "end\n",
    "U₀ = 0.5f0    # initial concentration of u\n",
    "V₀ = 0.25f0   # initial concentration of v\n",
    "ε_u = 0.05f0  # magnitude of the perturbation on u\n",
    "ε_v = 0.1f0   # magnitude of the perturbation on v\n",
    "u_initial, v_initial = initial_condition(grid_GS, U₀, V₀, ε_u, ε_v, nsimulations = 4);"
   ],
   "metadata": {},
   "execution_count": null
  },
  {
   "cell_type": "markdown",
   "source": [
    "We can now define the initial condition as a flattened concatenated array."
   ],
   "metadata": {}
  },
  {
   "outputs": [],
   "cell_type": "code",
   "source": [
    "uv0 = MY_TYPE.(vcat(\n",
    "    reshape(u_initial, grid_GS.Nu, :), reshape(v_initial, grid_GS.nvx * grid_GS.nvy, :)));"
   ],
   "metadata": {},
   "execution_count": null
  },
  {
   "cell_type": "markdown",
   "source": [
    "From the literature, we have selected the following parameters in order to form nice patterns"
   ],
   "metadata": {}
  },
  {
   "outputs": [],
   "cell_type": "code",
   "source": [
    "D_u = 0.16f0\n",
    "D_v = 0.08f0\n",
    "f = 0.055f0\n",
    "k = 0.062f0;"
   ],
   "metadata": {},
   "execution_count": null
  },
  {
   "cell_type": "markdown",
   "source": [
    "Definiton of the right-hand-sides (RHS) of GS model"
   ],
   "metadata": {}
  },
  {
   "outputs": [],
   "cell_type": "code",
   "source": [
    "function F_u(u, v, grid)\n",
    "    MY_TYPE.(D_u * Laplacian(u, grid.dux, grid.duy) .- u .* v .^ 2 .+ f .* (1.0f0 .- u))\n",
    "end\n",
    "function G_v(u, v, grid)\n",
    "    MY_TYPE.(D_v * Laplacian(v, grid.dvx, grid.dvy) .+ u .* v .^ 2 .- (f + k) .* v)\n",
    "end"
   ],
   "metadata": {},
   "execution_count": null
  },
  {
   "cell_type": "markdown",
   "source": [
    "Definition of the model"
   ],
   "metadata": {}
  },
  {
   "outputs": [],
   "cell_type": "code",
   "source": [
    "import CoupledNODE: create_f_CNODE\n",
    "f_CNODE = create_f_CNODE(F_u, G_v, grid_GS; is_closed = false);\n",
    "import Random, LuxCUDA, Lux\n",
    "rng = Random.seed!(1234)\n",
    "θ, st = Lux.setup(rng, f_CNODE);"
   ],
   "metadata": {},
   "execution_count": null
  },
  {
   "cell_type": "markdown",
   "source": [
    "Short *burnout run* to get rid of the initial artifacts"
   ],
   "metadata": {}
  },
  {
   "outputs": [],
   "cell_type": "code",
   "source": [
    "trange_burn = (0.0f0, 50.0f0)\n",
    "dt, saveat = (1e-2, 1)"
   ],
   "metadata": {},
   "execution_count": null
  },
  {
   "cell_type": "markdown",
   "source": [
    "[!] According to [DiffEqGPU docs](https://docs.sciml.ai/DiffEqGPU/stable/getting_started/)\n",
    "    the best thing to do in case of bottleneck consisting in expensive right hand side is to\n",
    "    use `CuArray` as initial condition and do not rely on `EnsemblesGPU`."
   ],
   "metadata": {}
  },
  {
   "outputs": [],
   "cell_type": "code",
   "source": [
    "using DiffEqFlux: NeuralODE\n",
    "full_CNODE = NeuralODE(f_CNODE,\n",
    "    trange_burn,\n",
    "    solver_algo,\n",
    "    adaptive = false,\n",
    "    dt = dt,\n",
    "    saveat = saveat);\n",
    "burnout_data = Array(full_CNODE(uv0, θ, st)[1]);"
   ],
   "metadata": {},
   "execution_count": null
  },
  {
   "cell_type": "markdown",
   "source": [
    "Second burnout with larger timesteps"
   ],
   "metadata": {}
  },
  {
   "outputs": [],
   "cell_type": "code",
   "source": [
    "trange_burn = (0.0f0, 100.0f0)\n",
    "dt, saveat = (1, 50)\n",
    "full_CNODE = NeuralODE(f_CNODE,\n",
    "    trange_burn,\n",
    "    Tsit5(),\n",
    "    adaptive = false,\n",
    "    dt = dt,\n",
    "    saveat = saveat);\n",
    "burnout_data = Array(full_CNODE(burnout_data[:, :, end], θ, st)[1]);\n",
    "u = reshape(\n",
    "    burnout_data[1:(grid_GS.Nu), :, :], grid_GS.nux, grid_GS.nuy, size(burnout_data, 2), :);\n",
    "v = reshape(burnout_data[(grid_GS.Nu + 1):end, :, :],\n",
    "    grid_GS.nvx,\n",
    "    grid_GS.nvy,\n",
    "    size(burnout_data, 2),\n",
    "    :);"
   ],
   "metadata": {},
   "execution_count": null
  },
  {
   "cell_type": "markdown",
   "source": [
    "### Data collection run - exact solution in *fine* grid\n",
    "We use the output of the burnout to start a longer simulation."
   ],
   "metadata": {}
  },
  {
   "outputs": [],
   "cell_type": "code",
   "source": [
    "uv0 = burnout_data[:, :, end];\n",
    "trange = (0.0f0, 2500.0f0)"
   ],
   "metadata": {},
   "execution_count": null
  },
  {
   "cell_type": "markdown",
   "source": [
    "for this data production run, we set `dt=1` and we sample every step."
   ],
   "metadata": {}
  },
  {
   "outputs": [],
   "cell_type": "code",
   "source": [
    "dt, saveat = (0.1, 0.1)\n",
    "full_CNODE = NeuralODE(f_CNODE, trange, Tsit5(), adaptive = false, dt = dt, saveat = saveat);\n",
    "reference_data = Array(full_CNODE(uv0, θ, st)[1]);"
   ],
   "metadata": {},
   "execution_count": null
  },
  {
   "cell_type": "markdown",
   "source": [
    "And we unpack the solution to get the two species from"
   ],
   "metadata": {}
  },
  {
   "outputs": [],
   "cell_type": "code",
   "source": [
    "u = reshape(reference_data[1:(grid_GS.Nu), :, :],\n",
    "    grid_GS.nux,\n",
    "    grid_GS.nuy,\n",
    "    size(reference_data, 2),\n",
    "    :);\n",
    "v = reshape(reference_data[(grid_GS.Nu + 1):end, :, :],\n",
    "    grid_GS.nvx,\n",
    "    grid_GS.nvy,\n",
    "    size(reference_data, 2),\n",
    "    :);"
   ],
   "metadata": {},
   "execution_count": null
  },
  {
   "cell_type": "markdown",
   "source": [
    "### Plot the data of the exact solution in the *fine* grid (DNS)"
   ],
   "metadata": {}
  },
  {
   "outputs": [],
   "cell_type": "code",
   "source": [
    "using Plots\n",
    "anim = Animation()\n",
    "fig = plot(layout = (3, 2), size = (600, 900))\n",
    "@gif for i in 1:1000:size(u, 4)\n",
    "    p1 = heatmap(u[:, :, 1, i],\n",
    "        axis = false,\n",
    "        cbar = false,\n",
    "        aspect_ratio = 1,\n",
    "        color = :reds,\n",
    "        title = \"u(x,y)\")\n",
    "    p2 = heatmap(v[:, :, 1, i],\n",
    "        axis = false,\n",
    "        cbar = false,\n",
    "        aspect_ratio = 1,\n",
    "        color = :blues,\n",
    "        title = \"v(x,y)\")\n",
    "    p3 = heatmap(u[:, :, 2, i], axis = false, cbar = false, aspect_ratio = 1, color = :reds)\n",
    "    p4 = heatmap(v[:, :, 2, i],\n",
    "        axis = false,\n",
    "        cbar = false,\n",
    "        aspect_ratio = 1,\n",
    "        color = :blues)\n",
    "    p5 = heatmap(u[:, :, 3, i], axis = false, cbar = false, aspect_ratio = 1, color = :reds)\n",
    "    p6 = heatmap(v[:, :, 3, i],\n",
    "        axis = false,\n",
    "        cbar = false,\n",
    "        aspect_ratio = 1,\n",
    "        color = :blues)\n",
    "    time = round(i * saveat, digits = 0)\n",
    "    fig = plot(p1, p2, p3, p4, p5, p6, layout = (3, 2), plot_title = \"time = $(time)\")\n",
    "    frame(anim, fig)\n",
    "end\n",
    "if isdir(\"./plots\")\n",
    "    gif(anim, \"./plots/02.04-DNS.gif\", fps = 10)\n",
    "else\n",
    "    gif(anim, \"examples/plots/02.04-DNS.gif\", fps = 10)\n",
    "end"
   ],
   "metadata": {},
   "execution_count": null
  },
  {
   "cell_type": "markdown",
   "source": [
    "## Exact solution in a *coarse* grid for $v$ - LES\n",
    "Let's solve the model in a *coarse* grid for $v$.\n",
    "### Collect the LES data: *coarse* grid\n",
    "We redefine the grid parameters in order to have a coarser grid for $v$."
   ],
   "metadata": {}
  },
  {
   "outputs": [],
   "cell_type": "code",
   "source": [
    "nvx = nvy = 30\n",
    "dvx = nux * dux / nvx\n",
    "dvy = nuy * duy / nvy\n",
    "coarse_grid = Grid(dux, duy, nux, nuy, dvx, dvy, nvx, nvy);"
   ],
   "metadata": {},
   "execution_count": null
  },
  {
   "cell_type": "markdown",
   "source": [
    "Let's see what happens if we use a non-closed model on a smaller grid\n",
    "(we are not using any NN here)."
   ],
   "metadata": {}
  },
  {
   "outputs": [],
   "cell_type": "code",
   "source": [
    "using Images\n",
    "f_coarse_CNODE = create_f_CNODE(F_u, G_v, coarse_grid; is_closed = false)\n",
    "θ, st = Lux.setup(rng, f_coarse_CNODE);\n",
    "uv0 = burnout_data[:, :, end];\n",
    "u0b = reshape(uv0[1:(grid_GS.Nu), :], grid_GS.nux, grid_GS.nuy, :);\n",
    "v0b = reshape(uv0[(grid_GS.Nu + 1):end, :], grid_GS.nvx, grid_GS.nvy, :);\n",
    "v0_coarse = imresize(v0b, (coarse_grid.nvx, coarse_grid.nvy));\n",
    "uv0_coarse = vcat(reshape(u0b, coarse_grid.Nu, :), reshape(v0_coarse, coarse_grid.Nv, :));"
   ],
   "metadata": {},
   "execution_count": null
  },
  {
   "cell_type": "markdown",
   "source": [
    "### Define model without closure: LES"
   ],
   "metadata": {}
  },
  {
   "outputs": [],
   "cell_type": "code",
   "source": [
    "closed_CNODE = NeuralODE(f_coarse_CNODE,\n",
    "    trange,\n",
    "    Tsit5(),\n",
    "    adaptive = false,\n",
    "    dt = dt,\n",
    "    saveat = saveat);\n",
    "closed_CNODE_solution = Array(closed_CNODE(uv0_coarse, θ, st)[1]);\n",
    "u_closed = reshape(closed_CNODE_solution[1:(coarse_grid.Nu), :, :],\n",
    "    coarse_grid.nux,\n",
    "    coarse_grid.nuy,\n",
    "    size(closed_CNODE_solution, 2),\n",
    "    :);\n",
    "v_closed = reshape(closed_CNODE_solution[(coarse_grid.Nu + 1):end, :, :],\n",
    "    coarse_grid.nvx,\n",
    "    coarse_grid.nvy,\n",
    "    size(closed_CNODE_solution, 2),\n",
    "    :);"
   ],
   "metadata": {},
   "execution_count": null
  },
  {
   "cell_type": "markdown",
   "source": [
    "### Plot the results of LES (no closure)"
   ],
   "metadata": {}
  },
  {
   "outputs": [],
   "cell_type": "code",
   "source": [
    "anim = Animation()\n",
    "fig = plot(layout = (3, 5), size = (500, 300))\n",
    "@gif for i in 1:1000:size(u_closed, 4)\n",
    "    p1 = heatmap(u_closed[:, :, 1, i],\n",
    "        axis = false,\n",
    "        cbar = false,\n",
    "        aspect_ratio = 1,\n",
    "        color = :reds,\n",
    "        title = \"u(x,y) [C]\")\n",
    "    p2 = heatmap(v_closed[:, :, 1, i],\n",
    "        axis = false,\n",
    "        cbar = false,\n",
    "        aspect_ratio = 1,\n",
    "        color = :blues,\n",
    "        title = \"v(x,y) [C]\")\n",
    "    p3 = heatmap(u[:, :, 1, i],\n",
    "        axis = false,\n",
    "        cbar = false,\n",
    "        aspect_ratio = 1,\n",
    "        color = :reds,\n",
    "        title = \"u(x,y) [F]\")\n",
    "    p4 = heatmap(v[:, :, 1, i],\n",
    "        axis = false,\n",
    "        cbar = false,\n",
    "        aspect_ratio = 1,\n",
    "        color = :blues,\n",
    "        title = \"v(x,y) [F]\")\n",
    "    e = u_closed[:, :, 1, i] .- u[:, :, 1, i]\n",
    "    p5 = heatmap(e,\n",
    "        axis = false,\n",
    "        cbar = false,\n",
    "        aspect_ratio = 1,\n",
    "        color = :greens,\n",
    "        title = \"u-Diff\")\n",
    "    p6 = heatmap(u_closed[:, :, 2, i],\n",
    "        axis = false,\n",
    "        cbar = false,\n",
    "        aspect_ratio = 1,\n",
    "        color = :reds)\n",
    "    p7 = heatmap(v_closed[:, :, 2, i],\n",
    "        axis = false,\n",
    "        cbar = false,\n",
    "        aspect_ratio = 1,\n",
    "        color = :blues)\n",
    "    p8 = heatmap(u[:, :, 2, i], axis = false, cbar = false, aspect_ratio = 1, color = :reds)\n",
    "    p9 = heatmap(v[:, :, 2, i],\n",
    "        axis = false,\n",
    "        cbar = false,\n",
    "        aspect_ratio = 1,\n",
    "        color = :blues)\n",
    "    e = u_closed[:, :, 2, i] .- u[:, :, 2, i]\n",
    "    p10 = heatmap(e,\n",
    "        axis = false,\n",
    "        cbar = false,\n",
    "        aspect_ratio = 1,\n",
    "        color = :greens,\n",
    "        title = \"u-Diff\")\n",
    "    p11 = heatmap(u_closed[:, :, 3, i],\n",
    "        axis = false,\n",
    "        cbar = false,\n",
    "        aspect_ratio = 1,\n",
    "        color = :reds)\n",
    "    p12 = heatmap(v_closed[:, :, 3, i],\n",
    "        axis = false,\n",
    "        cbar = false,\n",
    "        aspect_ratio = 1,\n",
    "        color = :blues)\n",
    "    p13 = heatmap(u[:, :, 3, i],\n",
    "        axis = false,\n",
    "        cbar = false,\n",
    "        aspect_ratio = 1,\n",
    "        color = :reds)\n",
    "    p14 = heatmap(v[:, :, 3, i],\n",
    "        axis = false,\n",
    "        cbar = false,\n",
    "        aspect_ratio = 1,\n",
    "        color = :blues)\n",
    "    e = u_closed[:, :, 3, i] .- u[:, :, 3, i]\n",
    "    p15 = heatmap(e,\n",
    "        axis = false,\n",
    "        cbar = false,\n",
    "        aspect_ratio = 1,\n",
    "        color = :greens,\n",
    "        title = \"u-Diff\")\n",
    "    time = round(i * saveat, digits = 0)\n",
    "    fig = plot(p1,\n",
    "        p2,\n",
    "        p3,\n",
    "        p4,\n",
    "        p5,\n",
    "        p6,\n",
    "        p7,\n",
    "        p8,\n",
    "        p9,\n",
    "        p10,\n",
    "        p11,\n",
    "        p12,\n",
    "        p13,\n",
    "        p14,\n",
    "        p15,\n",
    "        layout = (3, 5),\n",
    "        plot_title = \"time = $(time)\")\n",
    "    frame(anim, fig)\n",
    "end\n",
    "if isdir(\"./plots\")\n",
    "    gif(anim, \"./plots/02.04-LES.gif\", fps = 10)\n",
    "else\n",
    "    gif(anim, \"examples/plots/02.04-LES.gif\", fps = 10)\n",
    "end"
   ],
   "metadata": {},
   "execution_count": null
  },
  {
   "cell_type": "markdown",
   "source": [
    "## Closure model + LES\n",
    "Now let's train a Neural Network closure that added to a *coarse* grid solution of $v$ (LES) would approximate the *fine* gride results (DNS).\n",
    "### Prepare reference data (labels)\n",
    "In order to prepare the loss function, we compute from the simulation data the target that we would like to fit. In the example $u$ will be unchanged, while $v$ will be rescaled to the coarse grid."
   ],
   "metadata": {}
  },
  {
   "outputs": [],
   "cell_type": "code",
   "source": [
    "u_target = reshape(reference_data[1:(grid_GS.Nu), :, :],\n",
    "    grid_GS.nux,\n",
    "    grid_GS.nuy,\n",
    "    size(reference_data, 2),\n",
    "    :);\n",
    "v = reshape(reference_data[(grid_GS.Nu + 1):end, :, :],\n",
    "    grid_GS.nvx,\n",
    "    grid_GS.nvy,\n",
    "    size(reference_data, 2),\n",
    "    :);\n",
    "v_target = imresize(v, (coarse_grid.nvx, coarse_grid.nvy));"
   ],
   "metadata": {},
   "execution_count": null
  },
  {
   "cell_type": "markdown",
   "source": [
    "Pack $u$ and $v$ together in a `target` array where $u$ and $v$ are linearized in the first dimension."
   ],
   "metadata": {}
  },
  {
   "outputs": [],
   "cell_type": "code",
   "source": [
    "target = vcat(reshape(u_target, grid_GS.Nu, size(u_target, 3), :),\n",
    "    reshape(v_target, coarse_grid.Nv, size(v_target, 3), :));\n",
    "#target = target |> Float32; #@Luisa: do not think is necessary target is already of type Float32"
   ],
   "metadata": {},
   "execution_count": null
  },
  {
   "cell_type": "markdown",
   "source": [
    "### Closure Model\n",
    "Let's create the CNODE with the Neural Network closure. In this case we are going to use two different neural netwroks for the two components $u$ and $v$."
   ],
   "metadata": {}
  },
  {
   "outputs": [],
   "cell_type": "code",
   "source": [
    "import CoupledNODE: create_fno_model\n",
    "ch_fno = [2, 5, 5, 5, 2];\n",
    "kmax_fno = [8, 8, 8, 8];\n",
    "σ_fno = [Lux.gelu, Lux.gelu, Lux.gelu, identity];\n",
    "NN_u = create_fno_model(kmax_fno, ch_fno, σ_fno);\n",
    "NN_v = create_fno_model(kmax_fno, ch_fno, σ_fno);\n",
    "f_closed_CNODE = create_f_CNODE(F_u, G_v, coarse_grid, NN_u, NN_v; is_closed = true);\n",
    "\n",
    "# Get the model parameters\n",
    "θ, st = Lux.setup(rng, f_closed_CNODE);"
   ],
   "metadata": {},
   "execution_count": null
  },
  {
   "cell_type": "markdown",
   "source": [
    "### Design the **loss function**\n",
    "For this example, we use *multishooting a posteriori* fitting (MulDtO), where we tell `Zygote` to compare `nintervals` of length `nunroll` to get the gradient. Notice that this method is differentiating through the solution of the NODE!"
   ],
   "metadata": {}
  },
  {
   "outputs": [],
   "cell_type": "code",
   "source": [
    "nunroll = 5\n",
    "nintervals = 20\n",
    "nsamples = 2"
   ],
   "metadata": {},
   "execution_count": null
  },
  {
   "cell_type": "markdown",
   "source": [
    "We also define this auxiliary NODE `training_CNODE` that will be used for training so that we can use smaller time steps for the training."
   ],
   "metadata": {}
  },
  {
   "outputs": [],
   "cell_type": "code",
   "source": [
    "dt_train = 0.05"
   ],
   "metadata": {},
   "execution_count": null
  },
  {
   "cell_type": "markdown",
   "source": [
    "but we have to sample at the same rate as the data"
   ],
   "metadata": {}
  },
  {
   "outputs": [],
   "cell_type": "code",
   "source": [
    "saveat_train = saveat\n",
    "t_train_range = (0.0f0, saveat_train * (nunroll + 0)) # it has to be as long as unroll\n",
    "training_CNODE = NeuralODE(f_closed_CNODE,\n",
    "    t_train_range,\n",
    "    Tsit5(),\n",
    "    adaptive = false,\n",
    "    dt = dt_train,\n",
    "    saveat = saveat_train);"
   ],
   "metadata": {},
   "execution_count": null
  },
  {
   "cell_type": "markdown",
   "source": [
    "Create the loss"
   ],
   "metadata": {}
  },
  {
   "outputs": [],
   "cell_type": "code",
   "source": [
    "import CoupledNODE: create_randloss_MulDtO\n",
    "myloss = create_randloss_MulDtO(target,\n",
    "    training_CNODE,\n",
    "    st,\n",
    "    nunroll = nunroll,\n",
    "    nintervals = nintervals,\n",
    "    nsamples = nsamples,\n",
    "    λ_c = 1e2,\n",
    "    λ_l1 = 1e-1);\n",
    "\n",
    "# Initialize `lhist` to monitor the training loss.\n",
    "lhist = Float32[];\n",
    "# Initialize and trigger the compilation of the model\n",
    "import ComponentArrays\n",
    "pinit = ComponentArrays.ComponentArray(θ);\n",
    "myloss(pinit)  # trigger compilation"
   ],
   "metadata": {},
   "execution_count": null
  },
  {
   "cell_type": "markdown",
   "source": [
    "[!] Check that the loss does not get type warnings, otherwise it will be slower"
   ],
   "metadata": {}
  },
  {
   "cell_type": "markdown",
   "source": [
    "### Transform the NeuralODE into an optimization problem"
   ],
   "metadata": {}
  },
  {
   "outputs": [],
   "cell_type": "code",
   "source": [
    "import OptimizationOptimisers: Optimization, OptimiserChain, Adam, ClipGrad"
   ],
   "metadata": {},
   "execution_count": null
  },
  {
   "cell_type": "markdown",
   "source": [
    "* Select the autodifferentiation type"
   ],
   "metadata": {}
  },
  {
   "outputs": [],
   "cell_type": "code",
   "source": [
    "adtype = Optimization.AutoZygote();\n",
    "optf = Optimization.OptimizationFunction((x, p) -> myloss(x), adtype);\n",
    "optprob = Optimization.OptimizationProblem(optf, pinit);"
   ],
   "metadata": {},
   "execution_count": null
  },
  {
   "cell_type": "markdown",
   "source": [
    "* Select the training algorithm\n",
    "We choose Adam with learning rate 0.1, with gradient clipping"
   ],
   "metadata": {}
  },
  {
   "outputs": [],
   "cell_type": "code",
   "source": [
    "ClipAdam = OptimiserChain(Adam(1.0f-2), ClipGrad(1));"
   ],
   "metadata": {},
   "execution_count": null
  },
  {
   "cell_type": "markdown",
   "source": [
    "### Train the CNODE\n",
    "(The block can be repeated to continue training)"
   ],
   "metadata": {}
  },
  {
   "outputs": [],
   "cell_type": "code",
   "source": [
    "import CoupledNODE: callback\n",
    "result_neuralode = Optimization.solve(optprob,\n",
    "    ClipAdam;\n",
    "    callback = callback,\n",
    "    maxiters = 3);\n",
    "pinit = result_neuralode.u;\n",
    "θ = pinit;\n",
    "optprob = Optimization.OptimizationProblem(optf, pinit);"
   ],
   "metadata": {},
   "execution_count": null
  },
  {
   "cell_type": "markdown",
   "source": [
    "*Note:* the training is rather slow, so realistically here we can not expect good results in a few iterations."
   ],
   "metadata": {}
  },
  {
   "cell_type": "markdown",
   "source": [
    "## Analyse the results\n",
    "Let's use the trained CNODE to compare the solution with the target."
   ],
   "metadata": {}
  },
  {
   "outputs": [],
   "cell_type": "code",
   "source": [
    "trange = (0.0f0, 300.0f0)\n",
    "trained_CNODE = NeuralODE(f_closed_CNODE,\n",
    "    trange,\n",
    "    Tsit5(),\n",
    "    adaptive = false,\n",
    "    dt = dt,\n",
    "    saveat = saveat);\n",
    "trained_CNODE_solution = Array(trained_CNODE(uv0_coarse[:, 1:3], θ, st)[1]);\n",
    "u_trained = reshape(trained_CNODE_solution[1:(coarse_grid.Nu), :, :],\n",
    "    coarse_grid.nux,\n",
    "    coarse_grid.nuy,\n",
    "    size(trained_CNODE_solution, 2),\n",
    "    :);\n",
    "v_trained = reshape(trained_CNODE_solution[(coarse_grid.Nu + 1):end, :, :],\n",
    "    coarse_grid.nvx,\n",
    "    coarse_grid.nvy,\n",
    "    size(trained_CNODE_solution, 2),\n",
    "    :);\n",
    "using Plots.PlotMeasures\n",
    "anim = Animation()\n",
    "fig = plot(layout = (2, 5), size = (750, 300))\n",
    "@gif for i in 1:40:size(u_trained, 4)\n",
    "    p1 = heatmap(u[:, :, 1, i],\n",
    "        axis = false,\n",
    "        cbar = false,\n",
    "        aspect_ratio = 1,\n",
    "        color = :reds,\n",
    "        title = \"Exact\")\n",
    "    p2 = heatmap(v[:, :, 1, i],\n",
    "        axis = false,\n",
    "        cbar = false,\n",
    "        aspect_ratio = 1,\n",
    "        color = :blues)\n",
    "    p3 = heatmap(u_trained[:, :, 1, i],\n",
    "        axis = false,\n",
    "        cbar = false,\n",
    "        aspect_ratio = 1,\n",
    "        color = :reds,\n",
    "        title = \"Trained\")\n",
    "    p4 = heatmap(v_trained[:, :, 1, i],\n",
    "        axis = false,\n",
    "        cbar = false,\n",
    "        aspect_ratio = 1,\n",
    "        color = :blues)\n",
    "    et = abs.(u[:, :, 1, i] .- u_trained[:, :, 1, i])\n",
    "    p5 = heatmap(et,\n",
    "        axis = false,\n",
    "        cbar = false,\n",
    "        aspect_ratio = 1,\n",
    "        color = :greens,\n",
    "        title = \"Diff-u\")\n",
    "    p6 = heatmap(u[:, :, 2, i], axis = false, cbar = false, aspect_ratio = 1, color = :reds)\n",
    "    p7 = heatmap(v[:, :, 2, i],\n",
    "        axis = false,\n",
    "        cbar = false,\n",
    "        aspect_ratio = 1,\n",
    "        color = :blues)\n",
    "    p8 = heatmap(u_trained[:, :, 2, i],\n",
    "        axis = false,\n",
    "        cbar = false,\n",
    "        aspect_ratio = 1,\n",
    "        color = :reds)\n",
    "    p9 = heatmap(v_trained[:, :, 2, i],\n",
    "        axis = false,\n",
    "        cbar = false,\n",
    "        aspect_ratio = 1,\n",
    "        color = :blues)\n",
    "    e = abs.(u[:, :, 2, i] .- u_trained[:, :, 2, i])\n",
    "    p10 = heatmap(e, axis = false, cbar = false, aspect_ratio = 1, color = :greens)\n",
    "\n",
    "    time = round(i * saveat, digits = 0)\n",
    "    fig = plot(p1, p2, p3, p4, p5, p6, p7, p8, p9, p10, layout = (2, 5), margin = 0mm)\n",
    "\n",
    "    frame(anim, fig)\n",
    "end\n",
    "if isdir(\"./plots\")\n",
    "    gif(anim, \"./plots/02.04-NNclosure.gif\", fps = 10)\n",
    "else\n",
    "    gif(anim, \"examples/plots/02.04-NNclosure.gif\", fps = 10)\n",
    "end"
   ],
   "metadata": {},
   "execution_count": null
  },
  {
   "cell_type": "markdown",
   "source": [
    "---\n",
    "\n",
    "*This notebook was generated using [Literate.jl](https://github.com/fredrikekre/Literate.jl).*"
   ],
   "metadata": {}
  }
 ],
 "nbformat_minor": 3,
 "metadata": {
  "language_info": {
   "file_extension": ".jl",
   "mimetype": "application/julia",
   "name": "julia",
   "version": "1.10.2"
  },
  "kernelspec": {
   "name": "julia-1.10",
   "display_name": "Julia 1.10.2",
   "language": "julia"
  }
 },
 "nbformat": 4
}
