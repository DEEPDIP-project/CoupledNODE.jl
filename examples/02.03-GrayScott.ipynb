{
 "cells": [
  {
   "cell_type": "markdown",
   "source": [
    "# Learning the Gray-Scott model: Effect of grid coarsening\n",
    "In this example we want to show the effect of grid coarsening on the solution of a PDE.\n",
    "We will introduce one of the most important problems in the numerical solution of PDEs, that we will try to solve in the following examples using CNODEs."
   ],
   "metadata": {}
  },
  {
   "cell_type": "markdown",
   "source": [
    "We use again the GS model, which is defined from\n",
    "\\begin{equation}\\begin{cases} \\frac{du}{dt} = D_u \\Delta u - uv^2 + f(1-u)  \\equiv F_u(u,v) \\\\ \\frac{dv}{dt} = D_v \\Delta v + uv^2 - (f+k)v  \\equiv G_v(u,v)\\end{cases} \\end{equation}\n",
    "where $u(x,y,t):\\mathbb{R}^2\\times \\mathbb{R}\\rightarrow \\mathbb{R}$ is the concentration of species 1, while $v(x,y,t)$ is the concentration of species two. This model reproduce the effect of the two species diffusing in their environment, and reacting together.\n",
    "This effect is captured by the ratios between $D_u$ and $D_v$ (the diffusion coefficients) and $f$ and $k$ (the reaction rates)."
   ],
   "metadata": {}
  },
  {
   "cell_type": "markdown",
   "source": [
    "### The *exact* solution\n",
    "Even if the GS model can not be solved analytically, we can discretize it on a very fine grid and expect its solution to be almost exact.\n",
    "We will use it as a reference to compare the solution on a coarser grid.\n",
    "Notice that the simple fact that we are discretizing, makes this solution technically a DNS (Direct Numerical Simulation) and not an exact solution, but since we are using a very fine grid, we will call it *exact* for simplicity."
   ],
   "metadata": {}
  },
  {
   "cell_type": "markdown",
   "source": [
    "Let's define the finest grid using 200 steps of 0.5 in each direction, reaching a 100[L] x 100[L] domain."
   ],
   "metadata": {}
  },
  {
   "outputs": [],
   "cell_type": "code",
   "source": [
    "import CoupledNODE: Grid\n",
    "dux = duy = dvx = dvy = 0.5\n",
    "nux = nuy = nvx = nvy = 200\n",
    "grid_GS = Grid(dux, duy, nux, nuy, dvx, dvy, nvx, nvy);"
   ],
   "metadata": {},
   "execution_count": null
  },
  {
   "cell_type": "markdown",
   "source": [
    "We start with a central concentration of $v$"
   ],
   "metadata": {}
  },
  {
   "outputs": [],
   "cell_type": "code",
   "source": [
    "function initialize_uv(grid, u_bkg, v_bkg, center_size)\n",
    "    u_initial = u_bkg * ones(grid.nux, grid.nuy)\n",
    "    v_initial = zeros(grid.nvx, grid.nvy)\n",
    "    v_initial[Int(grid.nvx / 2 - center_size):Int(grid.nvx / 2 + center_size), Int(grid.nvy / 2 - center_size):Int(grid.nvy / 2 + center_size)] .= v_bkg\n",
    "    return u_initial, v_initial\n",
    "end\n",
    "u_initial, v_initial = initialize_uv(grid_GS, 0.8, 0.9, 4);"
   ],
   "metadata": {},
   "execution_count": null
  },
  {
   "cell_type": "markdown",
   "source": [
    "We can now define the initial condition as a flattened concatenated array"
   ],
   "metadata": {}
  },
  {
   "outputs": [],
   "cell_type": "code",
   "source": [
    "uv0 = vcat(reshape(u_initial, grid_GS.nux * grid_GS.nuy, 1),\n",
    "    reshape(v_initial, grid_GS.nvx * grid_GS.nvy, 1))"
   ],
   "metadata": {},
   "execution_count": null
  },
  {
   "cell_type": "markdown",
   "source": [
    "From the literature, we have selected the following parameters in order to form nice patterns"
   ],
   "metadata": {}
  },
  {
   "outputs": [],
   "cell_type": "code",
   "source": [
    "D_u = 0.16\n",
    "D_v = 0.08\n",
    "f = 0.055\n",
    "k = 0.062;"
   ],
   "metadata": {},
   "execution_count": null
  },
  {
   "cell_type": "markdown",
   "source": [
    "Here we (the user) define the **right hand sides** of the equations"
   ],
   "metadata": {}
  },
  {
   "outputs": [],
   "cell_type": "code",
   "source": [
    "import CoupledNODE: Laplacian\n",
    "F_u(u, v, grid) = D_u * Laplacian(u, grid.dux, grid.duy) .- u .* v .^ 2 .+ f .* (1.0 .- u)\n",
    "G_v(u, v, grid) = D_v * Laplacian(v, grid.dvx, grid.dvy) .+ u .* v .^ 2 .- (f + k) .* v"
   ],
   "metadata": {},
   "execution_count": null
  },
  {
   "cell_type": "markdown",
   "source": [
    "Once the forces have been defined, we can create the CNODE"
   ],
   "metadata": {}
  },
  {
   "outputs": [],
   "cell_type": "code",
   "source": [
    "f_CNODE = create_f_CNODE(F_u, G_v, grid_GS; is_closed = false)"
   ],
   "metadata": {},
   "execution_count": null
  },
  {
   "cell_type": "markdown",
   "source": [
    "and we ask Lux for the parameters to train and their structure [none in this example]"
   ],
   "metadata": {}
  },
  {
   "outputs": [],
   "cell_type": "code",
   "source": [
    "import Random, Lux\n",
    "rng = Random.seed!(1234)\n",
    "θ, st = Lux.setup(rng, f_CNODE);"
   ],
   "metadata": {},
   "execution_count": null
  },
  {
   "cell_type": "markdown",
   "source": [
    "Actuallly, we are not training any parameters, but using `NeuralODE` for consistency with the resto of examples. Therefore, we see that $\\theta$ is empty."
   ],
   "metadata": {}
  },
  {
   "outputs": [],
   "cell_type": "code",
   "source": [
    "length(θ)"
   ],
   "metadata": {},
   "execution_count": null
  },
  {
   "cell_type": "markdown",
   "source": [
    "We now do a short *burnout run* to get rid of the initial artifacts"
   ],
   "metadata": {}
  },
  {
   "outputs": [],
   "cell_type": "code",
   "source": [
    "import DifferentialEquations: Tsit5\n",
    "import DiffEqFlux: NeuralODE\n",
    "trange_burn = (0.0, 10.0)\n",
    "dt_burn, saveat_burn = (1e-2, 1)\n",
    "full_CNODE = NeuralODE(f_CNODE,\n",
    "    trange_burn,\n",
    "    Tsit5(),\n",
    "    adaptive = false,\n",
    "    dt = dt_burn,\n",
    "    saveat = saveat_burn)\n",
    "burnout_CNODE_solution = Array(full_CNODE(uv0, θ, st)[1])"
   ],
   "metadata": {},
   "execution_count": null
  },
  {
   "cell_type": "markdown",
   "source": [
    "**CNODE run**\n",
    "We use the output of the burnout to start a longer simulations"
   ],
   "metadata": {}
  },
  {
   "outputs": [],
   "cell_type": "code",
   "source": [
    "uv0 = burnout_CNODE_solution[:, :, end];\n",
    "trange = (0.0, 7000.0)\n",
    "dt, saveat = (0.5, 20)\n",
    "full_CNODE = NeuralODE(f_CNODE, trange, Tsit5(), adaptive = false, dt = dt, saveat = saveat)\n",
    "untrained_CNODE_solution = Array(full_CNODE(uv0, θ, st)[1])"
   ],
   "metadata": {},
   "execution_count": null
  },
  {
   "cell_type": "markdown",
   "source": [
    "And we unpack the solution to get the two species from"
   ],
   "metadata": {}
  },
  {
   "outputs": [],
   "cell_type": "code",
   "source": [
    "u_exact = reshape(untrained_CNODE_solution[1:(grid_GS.Nu), :, :],\n",
    "    grid_GS.nux,\n",
    "    grid_GS.nuy,\n",
    "    size(untrained_CNODE_solution, 2),\n",
    "    :)\n",
    "v_exact = reshape(untrained_CNODE_solution[(grid_GS.Nu + 1):end, :, :],\n",
    "    grid_GS.nvx,\n",
    "    grid_GS.nvy,\n",
    "    size(untrained_CNODE_solution, 2),\n",
    "    :);"
   ],
   "metadata": {},
   "execution_count": null
  },
  {
   "cell_type": "markdown",
   "source": [
    "Plot the solution as an animation"
   ],
   "metadata": {}
  },
  {
   "outputs": [],
   "cell_type": "code",
   "source": [
    "using Plots\n",
    "anim = Animation()\n",
    "fig = plot(layout = (1, 2), size = (600, 300))\n",
    "@gif for i in 1:2:size(u_exact, 4)\n",
    "    p1 = heatmap(u_exact[:, :, 1, i],\n",
    "        axis = false,\n",
    "        bar = false,\n",
    "        aspect_ratio = 1,\n",
    "        color = :reds,\n",
    "        title = \"u(x,y)\")\n",
    "    p2 = heatmap(v_exact[:, :, 1, i],\n",
    "        axis = false,\n",
    "        bar = false,\n",
    "        aspect_ratio = 1,\n",
    "        color = :blues,\n",
    "        title = \"v(x,y)\")\n",
    "    time = round(i * saveat, digits = 0)\n",
    "    fig = plot(p1, p2, layout = (1, 2), plot_title = \"time = $(time)\")\n",
    "    frame(anim, fig)\n",
    "end"
   ],
   "metadata": {},
   "execution_count": null
  },
  {
   "cell_type": "markdown",
   "source": [
    "### **DNS**: Direct Numerical Simulation\n",
    "The DNS is a refined solution of the PDE, where the grid is so fine that the solution is almost exact.\n",
    "Technically, the *exact solution* in the previous section is also a DNS (because it is discrete), but we want to show that the grid can be made a bit coarser while preserving the dynamics of the original PDE.\n",
    "This is because we want an efficient DNS that we can run to collect data for analysis, prediction and to train ML models."
   ],
   "metadata": {}
  },
  {
   "cell_type": "markdown",
   "source": [
    "The DNS grid will consists of 150 steps of 100 in each direction, covering the 100[L] x 100[L] domain."
   ],
   "metadata": {}
  },
  {
   "outputs": [],
   "cell_type": "code",
   "source": [
    "dux = duy = dvx = dvy = 100 / 150\n",
    "nux = nuy = nvx = nvy = 150\n",
    "dns_grid = Grid(dux, duy, nux, nuy, dvx, dvy, nvx, nvy);"
   ],
   "metadata": {},
   "execution_count": null
  },
  {
   "cell_type": "markdown",
   "source": [
    "Use the same initial condition as the exact solution"
   ],
   "metadata": {}
  },
  {
   "outputs": [],
   "cell_type": "code",
   "source": [
    "import Images: imresize\n",
    "u0_dns = imresize(u_initial, (dns_grid.nux, dns_grid.nuy));\n",
    "v0_dns = imresize(v_initial, (dns_grid.nvx, dns_grid.nvy));\n",
    "uv0_dns = vcat(reshape(u0_dns, dns_grid.nux * dns_grid.nuy, 1),\n",
    "    reshape(v0_dns, dns_grid.nvx * dns_grid.nvy, 1))"
   ],
   "metadata": {},
   "execution_count": null
  },
  {
   "cell_type": "markdown",
   "source": [
    "define the forces and create the CNODE"
   ],
   "metadata": {}
  },
  {
   "outputs": [],
   "cell_type": "code",
   "source": [
    "f_dns = create_f_CNODE(F_u, G_v, dns_grid; is_closed = false)\n",
    "θ, st = Lux.setup(rng, f_dns);"
   ],
   "metadata": {},
   "execution_count": null
  },
  {
   "cell_type": "markdown",
   "source": [
    "burnout run"
   ],
   "metadata": {}
  },
  {
   "outputs": [],
   "cell_type": "code",
   "source": [
    "dns_CNODE = NeuralODE(f_dns,\n",
    "    trange_burn,\n",
    "    Tsit5(),\n",
    "    adaptive = false,\n",
    "    dt = dt_burn,\n",
    "    saveat = saveat_burn)\n",
    "burnout_dns = Array(dns_CNODE(uv0_dns, θ, st)[1])"
   ],
   "metadata": {},
   "execution_count": null
  },
  {
   "cell_type": "markdown",
   "source": [
    "DNS simulation"
   ],
   "metadata": {}
  },
  {
   "outputs": [],
   "cell_type": "code",
   "source": [
    "uv0 = burnout_dns[:, :, end];\n",
    "dns_CNODE = NeuralODE(f_dns, trange, Tsit5(), adaptive = false, dt = dt, saveat = saveat)\n",
    "dns_solution = Array(dns_CNODE(uv0, θ, st)[1])\n",
    "u_dns = reshape(dns_solution[1:(dns_grid.Nu), :, :],\n",
    "    dns_grid.nux,\n",
    "    dns_grid.nuy,\n",
    "    size(dns_solution, 2),\n",
    "    :)\n",
    "v_dns = reshape(dns_solution[(dns_grid.Nu + 1):end, :, :],\n",
    "    dns_grid.nvx,\n",
    "    dns_grid.nvy,\n",
    "    size(dns_solution, 2),\n",
    "    :);"
   ],
   "metadata": {},
   "execution_count": null
  },
  {
   "cell_type": "markdown",
   "source": [
    "Plot DNS vs exact solution"
   ],
   "metadata": {}
  },
  {
   "outputs": [],
   "cell_type": "code",
   "source": [
    "anim = Animation()\n",
    "fig = plot(layout = (2, 2), size = (600, 600))\n",
    "@gif for i in 1:2:size(u_exact, 4)\n",
    "    p1 = heatmap(u_exact[:, :, 1, i],\n",
    "        axis = false,\n",
    "        bar = false,\n",
    "        aspect_ratio = 1,\n",
    "        color = :reds,\n",
    "        title = \"u(x,y)\")\n",
    "    p2 = heatmap(v_exact[:, :, 1, i],\n",
    "        axis = false,\n",
    "        bar = false,\n",
    "        aspect_ratio = 1,\n",
    "        color = :blues,\n",
    "        title = \"v(x,y)\")\n",
    "    p3 = heatmap(u_dns[:, :, 1, i],\n",
    "        axis = false,\n",
    "        bar = false,\n",
    "        aspect_ratio = 1,\n",
    "        color = :reds,\n",
    "        title = \"u(x,y)\")\n",
    "    p4 = heatmap(v_dns[:, :, 1, i],\n",
    "        axis = false,\n",
    "        bar = false,\n",
    "        aspect_ratio = 1,\n",
    "        color = :blues,\n",
    "        title = \"v(x,y)\")\n",
    "    time = round(i * saveat, digits = 0)\n",
    "    fig = plot(p1, p2, p3, p4, layout = (2, 2), plot_title = \"time = $(time)\")\n",
    "    frame(anim, fig)\n",
    "end"
   ],
   "metadata": {},
   "execution_count": null
  },
  {
   "cell_type": "markdown",
   "source": [
    "### **LES**: Large Eddy Simulation\n",
    "The LES is a coarser solution of the PDE, where the grid is so coarse that the solution is not exact, but it still captures the main features of the original PDE.\n",
    "It is used to reduce the computational cost of the DNS such that we can run it for longer.\n",
    "However we will see that what it saves in computational cost, it loses in accuracy.\n",
    "In the following examples, the goal of the CNODE will be to correct the LES solution to make it more accurate."
   ],
   "metadata": {}
  },
  {
   "cell_type": "markdown",
   "source": [
    "This is the grid we will use for the LES, with 75 steps of 100/75[L] in each direction, covering the 100[L] x 100[L] domain."
   ],
   "metadata": {}
  },
  {
   "outputs": [],
   "cell_type": "code",
   "source": [
    "dux = duy = dvx = dvy = 100 / 75\n",
    "nux = nuy = nvx = nvy = 75\n",
    "les_grid = Grid(dux, duy, nux, nuy, dvx, dvy, nvx, nvy);"
   ],
   "metadata": {},
   "execution_count": null
  },
  {
   "cell_type": "markdown",
   "source": [
    "Use the same initial condition as the exact solution"
   ],
   "metadata": {}
  },
  {
   "outputs": [],
   "cell_type": "code",
   "source": [
    "u0_les = imresize(u_initial, (les_grid.nux, les_grid.nuy));\n",
    "v0_les = imresize(v_initial, (les_grid.nvx, les_grid.nvy));\n",
    "uv0_les = vcat(reshape(u0_les, les_grid.nux * les_grid.nuy, 1),\n",
    "    reshape(v0_les, les_grid.nvx * les_grid.nvy, 1))"
   ],
   "metadata": {},
   "execution_count": null
  },
  {
   "cell_type": "markdown",
   "source": [
    "Compare the initial conditions"
   ],
   "metadata": {}
  },
  {
   "outputs": [],
   "cell_type": "code",
   "source": [
    "p1 = heatmap(u_initial,\n",
    "    axis = false,\n",
    "    cbar = false,\n",
    "    aspect_ratio = 1,\n",
    "    title = \"u exact\",\n",
    "    color = :reds)\n",
    "p2 = heatmap(v_initial,\n",
    "    axis = false,\n",
    "    cbar = false,\n",
    "    aspect_ratio = 1,\n",
    "    title = \"v exact\",\n",
    "    color = :blues)\n",
    "p3 = heatmap(u0_dns,\n",
    "    axis = false,\n",
    "    cbar = false,\n",
    "    aspect_ratio = 1,\n",
    "    title = \"u_0 DNS\",\n",
    "    color = :reds)\n",
    "p4 = heatmap(v0_dns,\n",
    "    axis = false,\n",
    "    cbar = false,\n",
    "    aspect_ratio = 1,\n",
    "    title = \"v_0 DNS\",\n",
    "    color = :blues)\n",
    "p5 = heatmap(u0_les,\n",
    "    axis = false,\n",
    "    cbar = false,\n",
    "    aspect_ratio = 1,\n",
    "    title = \"u_0 LES\",\n",
    "    color = :reds)\n",
    "p6 = heatmap(v0_les,\n",
    "    axis = false,\n",
    "    cbar = false,\n",
    "    aspect_ratio = 1,\n",
    "    title = \"v_0 LES\",\n",
    "    color = :blues)\n",
    "plot(p1, p2, p3, p4, p5, p6, layout = (3, 2), plot_title = \"Initial conditions\")"
   ],
   "metadata": {},
   "execution_count": null
  },
  {
   "cell_type": "markdown",
   "source": [
    "define the forces and create the CNODE"
   ],
   "metadata": {}
  },
  {
   "outputs": [],
   "cell_type": "code",
   "source": [
    "f_les = create_f_CNODE(F_u, G_v, les_grid; is_closed = false)\n",
    "θ, st = Lux.setup(rng, f_les);"
   ],
   "metadata": {},
   "execution_count": null
  },
  {
   "cell_type": "markdown",
   "source": [
    "burnout run"
   ],
   "metadata": {}
  },
  {
   "outputs": [],
   "cell_type": "code",
   "source": [
    "les_CNODE = NeuralODE(f_les,\n",
    "    trange_burn,\n",
    "    Tsit5(),\n",
    "    adaptive = false,\n",
    "    dt = dt_burn,\n",
    "    saveat = saveat_burn)\n",
    "burnout_les = Array(les_CNODE(uv0_les, θ, st)[1])"
   ],
   "metadata": {},
   "execution_count": null
  },
  {
   "cell_type": "markdown",
   "source": [
    "LES simulation"
   ],
   "metadata": {}
  },
  {
   "outputs": [],
   "cell_type": "code",
   "source": [
    "uv0 = burnout_les[:, :, end];\n",
    "les_CNODE = NeuralODE(f_les, trange, Tsit5(), adaptive = false, dt = dt, saveat = saveat)\n",
    "les_solution = Array(les_CNODE(uv0, θ, st)[1])"
   ],
   "metadata": {},
   "execution_count": null
  },
  {
   "cell_type": "markdown",
   "source": [
    "And we unpack the solution to get the two species from"
   ],
   "metadata": {}
  },
  {
   "outputs": [],
   "cell_type": "code",
   "source": [
    "u_les = reshape(les_solution[1:(les_grid.Nu), :, :],\n",
    "    les_grid.nux,\n",
    "    les_grid.nuy,\n",
    "    size(les_solution, 2),\n",
    "    :)\n",
    "v_les = reshape(les_solution[(les_grid.Nu + 1):end, :, :],\n",
    "    les_grid.nvx,\n",
    "    les_grid.nvy,\n",
    "    size(les_solution, 2),\n",
    "    :);\n",
    "\n",
    "anim = Animation()\n",
    "fig = plot(layout = (3, 2), size = (600, 900))\n",
    "@gif for i in 1:2:size(u_exact, 4)\n",
    "    p1 = heatmap(u_exact[:, :, 1, i],\n",
    "        axis = false,\n",
    "        cbar = false,\n",
    "        aspect_ratio = 1,\n",
    "        color = :reds,\n",
    "        title = \"u exact\")\n",
    "    p2 = heatmap(v_exact[:, :, 1, i],\n",
    "        axis = false,\n",
    "        cbar = false,\n",
    "        aspect_ratio = 1,\n",
    "        color = :blues,\n",
    "        title = \"v exact\")\n",
    "    p3 = heatmap(u_dns[:, :, 1, i],\n",
    "        axis = false,\n",
    "        cbar = false,\n",
    "        aspect_ratio = 1,\n",
    "        color = :reds,\n",
    "        title = \"u DNS\")\n",
    "    p4 = heatmap(v_dns[:, :, 1, i],\n",
    "        axis = false,\n",
    "        cbar = false,\n",
    "        aspect_ratio = 1,\n",
    "        color = :blues,\n",
    "        title = \"v DNS\")\n",
    "    p5 = heatmap(u_les[:, :, 1, i],\n",
    "        axis = false,\n",
    "        cbar = false,\n",
    "        aspect_ratio = 1,\n",
    "        color = :reds,\n",
    "        title = \"u LES\")\n",
    "    p6 = heatmap(v_les[:, :, 1, i],\n",
    "        axis = false,\n",
    "        cbar = false,\n",
    "        aspect_ratio = 1,\n",
    "        color = :blues,\n",
    "        title = \"v LES\")\n",
    "    time = round(i * saveat, digits = 0)\n",
    "    fig = plot(p1, p2, p3, p4, p5, p6, layout = (3, 2), plot_title = \"time = $(time)\")\n",
    "    frame(anim, fig)\n",
    "end\n",
    "if isdir(\"./plots\")\n",
    "    gif(anim, \"plots/02.03_gridsize.gif\", fps = 10)\n",
    "else\n",
    "    gif(anim, \"examples/plots/02.03_gridsize.gif\", fps = 10)\n",
    "end"
   ],
   "metadata": {},
   "execution_count": null
  },
  {
   "cell_type": "markdown",
   "source": [
    "In the figure we see that the LES has induced some artifacts that influences the dynamics. In the next example, we will solve these artifacts using the Neural part of the CNODEs."
   ],
   "metadata": {}
  },
  {
   "cell_type": "markdown",
   "source": [
    "---\n",
    "\n",
    "*This notebook was generated using [Literate.jl](https://github.com/fredrikekre/Literate.jl).*"
   ],
   "metadata": {}
  }
 ],
 "nbformat_minor": 3,
 "metadata": {
  "language_info": {
   "file_extension": ".jl",
   "mimetype": "application/julia",
   "name": "julia",
   "version": "1.10.2"
  },
  "kernelspec": {
   "name": "julia-1.10",
   "display_name": "Julia 1.10.2",
   "language": "julia"
  }
 },
 "nbformat": 4
}
