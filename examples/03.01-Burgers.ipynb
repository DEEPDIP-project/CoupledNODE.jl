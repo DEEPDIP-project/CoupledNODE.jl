{
 "cells": [
  {
   "outputs": [],
   "cell_type": "code",
   "source": [
    "const ArrayType = Array\n",
    "import DifferentialEquations: Tsit5\n",
    "const solver_algo = Tsit5()\n",
    "const MY_TYPE = Float32 # use float32 if you plan to use a GPU\n",
    "import CUDA # Test if CUDA is running\n",
    "if CUDA.functional()\n",
    "    CUDA.allowscalar(false)\n",
    "    const ArrayType = CuArray\n",
    "    import DiffEqGPU: GPUTsit5\n",
    "    const solver_algo = GPUTsit5()\n",
    "end"
   ],
   "metadata": {},
   "execution_count": null
  },
  {
   "cell_type": "markdown",
   "source": [
    "# Burgers equations\n",
    "In this example, we will solve the Burgers equation in using the Neural ODEs framework. The Burgers equation is a fundamental equation in fluid dynamics and is given by:\n",
    "\\begin{equation}\n",
    "\\frac{\\partial u}{\\partial t} = - u \\frac{\\partial u}{\\partial x} + \\nu \\frac{\\partial u^2}{\\partial x^2}\n",
    "\\end{equation}\n",
    "where $u(x,t)$ is the velocity of the fluid, $\\nu$ is the viscosity coefficient, and x$ and $t$ are the spatial and temporal coordinates, respectively. The equation is a non-linear partial differential equation that describes the evolution of a fluid flow in one spatial dimensions. The equation is named after Johannes Martinus Burgers, who introduced it in 1948 as a simplified model for turbulence."
   ],
   "metadata": {}
  },
  {
   "cell_type": "markdown",
   "source": [
    "We start by defining the right-hand side of the Burgers equation. We will use the finite difference method to compute the spatial derivatives.\n",
    "So the first step is to define the grid that we are going to use"
   ],
   "metadata": {}
  },
  {
   "outputs": [],
   "cell_type": "code",
   "source": [
    "import CoupledNODE: Grid\n",
    "nux = 100\n",
    "dux = 2π / nux\n",
    "xgrid_B = Grid(dim = 1, dx = dux, nx = nux)"
   ],
   "metadata": {},
   "execution_count": null
  },
  {
   "cell_type": "markdown",
   "source": [
    "The following function constructs the right-hand side of the Burgers equation:"
   ],
   "metadata": {}
  },
  {
   "outputs": [],
   "cell_type": "code",
   "source": [
    "import CoupledNODE: Laplacian, first_derivatives\n",
    "using Zygote\n",
    "function create_burgers_rhs(grids, force_params)\n",
    "    ν = force_params[1]\n",
    "\n",
    "    function Force(u)\n",
    "        du_dx = first_derivatives(u, grids[1].dx)\n",
    "        F = Zygote.@ignore -u .* du_dx +\n",
    "                           ν * Laplacian(u, grids[1].dx^2)\n",
    "        return F\n",
    "    end\n",
    "    return Force\n",
    "end"
   ],
   "metadata": {},
   "execution_count": null
  },
  {
   "cell_type": "markdown",
   "source": [
    "Let's set the parameters for the Burgers equation"
   ],
   "metadata": {}
  },
  {
   "outputs": [],
   "cell_type": "code",
   "source": [
    "ν = 0.01f0"
   ],
   "metadata": {},
   "execution_count": null
  },
  {
   "cell_type": "markdown",
   "source": [
    "and we pack them into a tuple for the rhs Constructor"
   ],
   "metadata": {}
  },
  {
   "outputs": [],
   "cell_type": "code",
   "source": [
    "force_params = (ν,)"
   ],
   "metadata": {},
   "execution_count": null
  },
  {
   "cell_type": "markdown",
   "source": [
    "we also need to pack the grid into a tuple"
   ],
   "metadata": {}
  },
  {
   "outputs": [],
   "cell_type": "code",
   "source": [
    "grid_B = (xgrid_B,)"
   ],
   "metadata": {},
   "execution_count": null
  },
  {
   "cell_type": "markdown",
   "source": [
    "Now we can create the right-hand side of the NODE"
   ],
   "metadata": {}
  },
  {
   "outputs": [],
   "cell_type": "code",
   "source": [
    "F = create_burgers_rhs(grid_B, force_params)"
   ],
   "metadata": {},
   "execution_count": null
  },
  {
   "cell_type": "markdown",
   "source": [
    "We can now generate the initial conditions for the Burgers equation. We will use a combination of sine waves and noise to create the initial conditions."
   ],
   "metadata": {}
  },
  {
   "outputs": [],
   "cell_type": "code",
   "source": [
    "function generate_initial_conditions(n_samples::Int)\n",
    "    x = range(0, stop = 2π, length = nux)\n",
    "    freqs = [2π, 4π, 6π]  # Frequencies of sine waves\n",
    "    amplitudes = [1.0, 0.5, 0.3]  # Amplitudes of sine waves\n",
    "\n",
    "    u0_list = Array{Float32, 2}(undef, nux, n_samples)\n",
    "\n",
    "    for j in 1:n_samples\n",
    "        u0 = @view u0_list[:, j]\n",
    "        u0 .= 0.0\n",
    "        for i in 1:length(freqs)\n",
    "            u0 .+= amplitudes[i] * sin.(freqs[i] * x)\n",
    "        end"
   ],
   "metadata": {},
   "execution_count": null
  },
  {
   "cell_type": "markdown",
   "source": [
    "Add random noise"
   ],
   "metadata": {}
  },
  {
   "outputs": [],
   "cell_type": "code",
   "source": [
    "        u0 .+= 0.1 * randn(nux)\n",
    "    end\n",
    "    return u0_list\n",
    "end\n",
    "\n",
    "u_0 = generate_initial_conditions(4)\n",
    "\n",
    "x = range(0, stop = 2π, length = nux)\n",
    "using Plots\n",
    "#plot(x, u_0, label = [\"Sample 1\" \"Sample 2\" \"Sample 3\" \"Sample 4\"], xlabel = \"x\", ylabel = \"u\", title = \"Initial conditions for the Burgers equation\")\n",
    "\n",
    "F(u_0)\n",
    "\n",
    "include(\"./../coupling_functions/functions_NODE.jl\")\n",
    "f_CNODE = create_f_CNODE(create_burgers_rhs, force_params, grid_B; is_closed = false);\n",
    "import Random, LuxCUDA, Lux\n",
    "rng = Random.seed!(1234)\n",
    "θ, st = Lux.setup(rng, f_CNODE);"
   ],
   "metadata": {},
   "execution_count": null
  },
  {
   "cell_type": "markdown",
   "source": [
    "The first phase of the Burger solution will be the formation of the shock. We use a small time step to resolve the shock formation."
   ],
   "metadata": {}
  },
  {
   "outputs": [],
   "cell_type": "code",
   "source": [
    "import DiffEqFlux: NeuralODE\n",
    "t_shock = 2.5f0\n",
    "dt_shock = 0.005f0\n",
    "trange_burn = (0.0f0, t_shock)\n",
    "saveat_shock = 0.01f0\n",
    "shock_CNODE = NeuralODE(f_CNODE,\n",
    "    trange_burn,\n",
    "    solver_algo,\n",
    "    adaptive = false,\n",
    "    dt = dt_shock,\n",
    "    saveat = saveat_shock);\n",
    "shock_CNODE_solution = Array(shock_CNODE(uv0, θ, st)[1])\n",
    "uv_shock = shock_CNODE_solution[:, :, 1, end];"
   ],
   "metadata": {},
   "execution_count": null
  },
  {
   "cell_type": "markdown",
   "source": [
    "And we unpack the solution to get the two species from"
   ],
   "metadata": {}
  },
  {
   "outputs": [],
   "cell_type": "code",
   "source": [
    "u_shock = reshape(shock_CNODE_solution[1:(grid_B.Nu), :, :],\n",
    "    grid_B.nux,\n",
    "    grid_B.nuy,\n",
    "    size(shock_CNODE_solution, 2),\n",
    "    :)\n",
    "v_shock = reshape(shock_CNODE_solution[(grid_B.Nu + 1):end, :, :],\n",
    "    grid_B.nvx,\n",
    "    grid_B.nvy,\n",
    "    size(shock_CNODE_solution, 2),\n",
    "    :);"
   ],
   "metadata": {},
   "execution_count": null
  },
  {
   "cell_type": "markdown",
   "source": [
    "Plot"
   ],
   "metadata": {}
  },
  {
   "outputs": [],
   "cell_type": "code",
   "source": [
    "x = range(0, 2π, length = grid_B.nux)\n",
    "y = range(0, 2π, length = grid_B.nuy)\n",
    "using Plots #, Plotly\n",
    "anim = Animation()\n",
    "fig = plot(layout = (1, 2), size = (400, 800))\n",
    "@gif for i in 1:2:size(u_shock, 4)\n",
    "    p1 = surface(x, y, u_shock[:, :, 1, i], color = :viridis, cbar = false, xlabel = \"x\",\n",
    "        ylabel = \"y\", zlabel = \"u\", title = \"u field\", camera = (45, 45))\n",
    "    p2 = surface(x, y, v_shock[:, :, 1, i], color = :viridis, cbar = false, xlabel = \"x\",\n",
    "        ylabel = \"y\", zlabel = \"v\", title = \"v field\", camera = (45, 45))\n",
    "\n",
    "    title = \"Time $(round(i*saveat_shock, digits=2))\"\n",
    "    fig = plot(p1, p2, layout = (1, 2), title = title)\n",
    "    frame(anim, fig)\n",
    "end"
   ],
   "metadata": {},
   "execution_count": null
  },
  {
   "cell_type": "markdown",
   "source": [
    "Then there is a phase of shock dissipation"
   ],
   "metadata": {}
  },
  {
   "outputs": [],
   "cell_type": "code",
   "source": [
    "t_diss = 35.0f0\n",
    "dt_diss = 0.01f0\n",
    "trange_burn = (0.0f0, t_diss)\n",
    "saveat_diss = 0.4f0\n",
    "diss_CNODE = NeuralODE(f_CNODE,\n",
    "    trange_burn,\n",
    "    solver_algo,\n",
    "    adaptive = false,\n",
    "    dt = dt_diss,\n",
    "    saveat = saveat_diss);\n",
    "diss_CNODE_solution = Array(diss_CNODE(uv_shock, θ, st)[1])\n",
    "uv_diss = diss_CNODE_solution[:, :, end];\n",
    "u_diss = reshape(diss_CNODE_solution[1:(grid_B.Nu), :, :],\n",
    "    grid_B.nux,\n",
    "    grid_B.nuy,\n",
    "    size(diss_CNODE_solution, 2),\n",
    "    :)\n",
    "v_diss = reshape(diss_CNODE_solution[(grid_B.Nu + 1):end, :, :],\n",
    "    grid_B.nvx,\n",
    "    grid_B.nvy,\n",
    "    size(diss_CNODE_solution, 2),\n",
    "    :);\n",
    "anim = Animation()\n",
    "fig = plot(layout = (1, 2), size = (400, 800))\n",
    "@gif for i in 1:2:size(u_diss, 4)\n",
    "    p1 = surface(x, y, u_diss[:, :, 1, i], color = :viridis, cbar = false, xlabel = \"x\",\n",
    "        ylabel = \"y\", zlabel = \"u\", title = \"u field\", camera = (45, 45))\n",
    "    p2 = surface(x, y, v_diss[:, :, 1, i], color = :viridis, cbar = false, xlabel = \"x\",\n",
    "        ylabel = \"y\", zlabel = \"v\", title = \"v field\", camera = (45, 45))\n",
    "\n",
    "    title = \"Time $(round(i*saveat_diss, digits=2))\"\n",
    "    fig = plot(p1, p2, layout = (1, 2), title = title)\n",
    "    frame(anim, fig)\n",
    "end"
   ],
   "metadata": {},
   "execution_count": null
  },
  {
   "cell_type": "markdown",
   "source": [
    "And then the Burgers equation reaches a steady state"
   ],
   "metadata": {}
  },
  {
   "outputs": [],
   "cell_type": "code",
   "source": [
    "t_steady = 150.0f0\n",
    "dt_steady = 0.1f0\n",
    "trange_burn = (0.0f0, 100.0f0)\n",
    "saveat_steady = 2.0f0\n",
    "steady_CNODE = NeuralODE(f_CNODE,\n",
    "    trange_burn,\n",
    "    solver_algo,\n",
    "    adaptive = false,\n",
    "    dt = dt_steady,\n",
    "    saveat = saveat_steady);\n",
    "steady_CNODE_solution = Array(steady_CNODE(uv_diss, θ, st)[1])\n",
    "uv_steady = steady_CNODE_solution[:, :, end];\n",
    "u_steady = reshape(steady_CNODE_solution[1:(grid_B.Nu), :, :],\n",
    "    grid_B.nux,\n",
    "    grid_B.nuy,\n",
    "    size(steady_CNODE_solution, 2),\n",
    "    :)\n",
    "v_steady = reshape(steady_CNODE_solution[(grid_B.Nu + 1):end, :, :],\n",
    "    grid_B.nvx,\n",
    "    grid_B.nvy,\n",
    "    size(steady_CNODE_solution, 2),\n",
    "    :);\n",
    "anim = Animation()\n",
    "fig = plot(layout = (1, 2), size = (400, 800))\n",
    "@gif for i in 1:2:size(u_steady, 4)\n",
    "    p1 = surface(x, y, u_steady[:, :, 1, i], color = :viridis, cbar = false, xlabel = \"x\",\n",
    "        ylabel = \"y\", zlabel = \"u\", title = \"u field\", camera = (45, 45))\n",
    "    p2 = surface(x, y, v_steady[:, :, 1, i], color = :viridis, cbar = false, xlabel = \"x\",\n",
    "        ylabel = \"y\", zlabel = \"v\", title = \"v field\", camera = (45, 45))\n",
    "\n",
    "    title = \"Time $(round(i*saveat_steady, digits=2))\"\n",
    "    fig = plot(p1, p2, layout = (1, 2), title = title)\n",
    "    frame(anim, fig)\n",
    "end"
   ],
   "metadata": {},
   "execution_count": null
  },
  {
   "cell_type": "markdown",
   "source": [
    "Now plot the whole trajectory"
   ],
   "metadata": {}
  },
  {
   "outputs": [],
   "cell_type": "code",
   "source": [
    "u_total = cat(u_shock, u_diss, u_steady, dims = 4)\n",
    "v_total = cat(v_shock, v_diss, v_steady, dims = 4)\n",
    "t_total = vcat(0:saveat_shock:t_shock, t_shock:saveat_diss:(t_shock + t_diss),\n",
    "    (t_shock + t_diss):saveat_steady:(t_shock + t_diss + t_steady))\n",
    "label = [\"Shock\" for i in 1:size(u_shock, 4)]\n",
    "append!(label, [\"Dissipation\" for i in 1:size(u_diss, 4)])\n",
    "append!(label, [\"Steady\" for i in 1:size(u_steady, 4)])\n",
    "anim = Animation()\n",
    "fig = plot(layout = (1, 2), size = (400, 800))\n",
    "@gif for i in 1:2:size(u_total, 4)\n",
    "    p1 = surface(x, y, u_total[:, :, 1, i], color = :viridis, cbar = false, xlabel = \"x\",\n",
    "        ylabel = \"y\", zlabel = \"u\", title = \"u field\", camera = (45, 45))\n",
    "    p2 = surface(x, y, v_total[:, :, 1, i], color = :viridis, cbar = false, xlabel = \"x\",\n",
    "        ylabel = \"y\", zlabel = \"v\", title = \"v field\", camera = (45, 45))\n",
    "\n",
    "    title = \"Time $(round(t_total[i], digits=2)) $(label[i])\"\n",
    "    fig = plot(p1, p2, layout = (1, 2), title = title)\n",
    "    frame(anim, fig)\n",
    "end\n",
    "if isdir(\"./plots\")\n",
    "    gif(anim, \"plots/03.01_Burgers.gif\", fps = 8)\n",
    "else\n",
    "    gif(anim, \"examples/plots/03.01_Burgers.gif\", fps = 8)\n",
    "end"
   ],
   "metadata": {},
   "execution_count": null
  },
  {
   "cell_type": "markdown",
   "source": [
    "---\n",
    "\n",
    "*This notebook was generated using [Literate.jl](https://github.com/fredrikekre/Literate.jl).*"
   ],
   "metadata": {}
  }
 ],
 "nbformat_minor": 3,
 "metadata": {
  "language_info": {
   "file_extension": ".jl",
   "mimetype": "application/julia",
   "name": "julia",
   "version": "1.10.2"
  },
  "kernelspec": {
   "name": "julia-1.10",
   "display_name": "Julia 1.10.2",
   "language": "julia"
  }
 },
 "nbformat": 4
}
