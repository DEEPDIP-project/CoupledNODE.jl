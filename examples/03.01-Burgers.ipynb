{
 "cells": [
  {
   "outputs": [],
   "cell_type": "code",
   "source": [
    "const ArrayType = Array\n",
    "import DifferentialEquations: Tsit5\n",
    "const solver_algo = Tsit5()\n",
    "const MY_TYPE = Float32 # use float32 if you plan to use a GPU\n",
    "import CUDA # Test if CUDA is running\n",
    "if CUDA.functional()\n",
    "    CUDA.allowscalar(false)\n",
    "    const ArrayType = CuArray\n",
    "    import DiffEqGPU: GPUTsit5\n",
    "    const solver_algo = GPUTsit5()\n",
    "end"
   ],
   "metadata": {},
   "execution_count": null
  },
  {
   "cell_type": "markdown",
   "source": [
    "# Burgers equations\n",
    "In this example, we will solve the Burgers equation in using the Neural ODEs framework. The Burgers equation is a fundamental equation in fluid dynamics and is given by:\n",
    "$$\n",
    "\\begin{equation}\n",
    "\\frac{\\partial u}{\\partial t} = - u \\frac{\\partial u}{\\partial x} + \\nu \\frac{\\partial u^2}{\\partial x^2} = f(u)\n",
    "\\end{equation}\n",
    "$$\n",
    "where $u(x,t)$ is the velocity of the fluid, $\\nu$ is the viscosity coefficient, and $(x,y)$ and $t$ are the spatial and temporal coordinates, respectively. The equation is a non-linear partial differential equation that describes the evolution of a fluid flow in one spatial dimensions. The equation is named after Johannes Martinus Burgers, who introduced it in 1948 as a simplified model for turbulence."
   ],
   "metadata": {}
  },
  {
   "cell_type": "markdown",
   "source": [
    "We start by defining the right-hand side of the Burgers equation. We will use the finite difference method to compute the spatial derivatives.\n",
    "So the first step is to define the grid that we are going to use.\n",
    "We define DNS and a LES grids."
   ],
   "metadata": {}
  },
  {
   "outputs": [],
   "cell_type": "code",
   "source": [
    "import CoupledNODE: Grid\n",
    "nux_dns = 1024\n",
    "dux_dns = 2π / nux_dns\n",
    "grid_u_dns = Grid(dim = 1, dx = dux_dns, nx = nux_dns)\n",
    "nux_les = 32\n",
    "dux_les = 2π / nux_les\n",
    "grid_u_les = Grid(dim = 1, dx = dux_les, nx = nux_les)"
   ],
   "metadata": {},
   "execution_count": null
  },
  {
   "cell_type": "markdown",
   "source": [
    "However a central method is not  a good discretization for\n",
    "dealing with shocks. Jameson proposes the following scheme instead:\n",
    "\n",
    "$$\n",
    "\\begin{split}\n",
    "\\frac{\\mathrm{d} u_n}{\\mathrm{d} t} & = - \\frac{\\phi_{n + 1 / 2} - \\phi_{n - 1 / 2}}{\\Delta x}, \\\\\n",
    "\\phi_{n + 1 / 2} & = \\frac{u_{n + 1}^2 + u_{n + 1} u_n + u_n^2}{6} - \\mu_{n + 1 / 2} \\frac{u_{n + 1} - u_n}{\\Delta x}, \\\\\n",
    "\\mu_{n + 1 / 2} & = \\nu + \\Delta x \\left( \\frac{| u_{n + 1} + u_n |}{4} - \\frac{u_{n + 1} - u_n}{12} \\right),\n",
    "\\end{split}\n",
    "$$\n",
    "\n",
    "where $ϕ_{n + 1 / 2}$ is the numerical flux from $u_n$ to $u_{n + 1}$\n",
    "and $\\mu_{n + 1 / 2}$ includes the original viscosity and a numerical viscosity.\n",
    "This prevents oscillations near shocks."
   ],
   "metadata": {}
  },
  {
   "cell_type": "markdown",
   "source": [
    "Let's set the parameters for the Burgers equation"
   ],
   "metadata": {}
  },
  {
   "outputs": [],
   "cell_type": "code",
   "source": [
    "ν = 0.001f0\n",
    "force_params = (ν,) #packed into a tuple for the rhs constructor"
   ],
   "metadata": {},
   "execution_count": null
  },
  {
   "cell_type": "markdown",
   "source": [
    "Now we can create the right-hand side of the NODE"
   ],
   "metadata": {}
  },
  {
   "outputs": [],
   "cell_type": "code",
   "source": [
    "import CoupledNODE: create_burgers_rhs\n",
    "F_dns = create_burgers_rhs((grid_u_dns,), force_params)\n",
    "F_les = create_burgers_rhs((grid_u_les,), force_params)"
   ],
   "metadata": {},
   "execution_count": null
  },
  {
   "cell_type": "markdown",
   "source": [
    "### Initial conditions\n",
    "For the initial conditions, we use the following random Fourier series:\n",
    "$$\n",
    "u_0(x) = \\mathfrak{R} \\sum_{k = -k_\\text{max}}^{k_\\text{max}} c_k\n",
    "\\mathrm{e}^{2 \\pi \\mathrm{i} k x},\n",
    "$$\n",
    "where\n",
    "- $\\mathfrak{R}$ denotes the real part\n",
    "- $c_k = a_k d_k \\mathrm{e}^{- 2 \\pi \\mathrm{i} b_k}$ are random\n",
    "  Fourier series coefficients\n",
    "- $a_k \\sim \\mathcal{N}(0, 1)$ is a normally distributed random amplitude\n",
    "- $d_k = (1 + | k |)^{- 6 / 5}$ is a deterministic spectral decay profile,\n",
    "  so that the large scale features dominate the initial flow\n",
    "- $b_k \\sim \\mathcal{U}(0, 1)$ is a uniform random phase shift between 0 and 1\n",
    "- $\\mathrm{e}^{2 \\pi \\mathrm{i} k x}$ is a sinusoidal Fourier series basis\n",
    "  function evaluated at the point $x \\in \\Omega$\n",
    "\n",
    "Note in particular that the constant coefficient $c_0$ ($k = 0$) is almost\n",
    "certainly non-zero, and with complex amplitude $| c_0 | = | a_0 |$.\n",
    "\n",
    "Since the same Fourier basis can be reused multiple times, we write a\n",
    "function that creates multiple initial condition samples in one go. Each\n",
    "discrete $u_0$ vector is stored as a column in the resulting matrix."
   ],
   "metadata": {}
  },
  {
   "outputs": [],
   "cell_type": "code",
   "source": [
    "import CoupledNODE: generate_initial_conditions\n",
    "u0_dns = generate_initial_conditions(grid_u_dns.nx, 3);"
   ],
   "metadata": {},
   "execution_count": null
  },
  {
   "cell_type": "markdown",
   "source": [
    "### Filter\n",
    "To get the LES, we use a Gaussian filter kernel, truncated to zero outside of $3 / 2$ filter widths."
   ],
   "metadata": {}
  },
  {
   "outputs": [],
   "cell_type": "code",
   "source": [
    "using SparseArrays, Plots\n",
    "import CoupledNODE: create_filter_matrix\n",
    "ΔΦ = 5 * grid_u_les.dx\n",
    "Φ = create_filter_matrix((grid_u_les,), (grid_u_dns,), ΔΦ, \"gaussian\")\n",
    "heatmap(Φ; yflip = true, xmirror = true, title = \"Filter matrix\")\n",
    "# Apply the filter to the initial condition\n",
    "u0_les = Φ * u0_dns"
   ],
   "metadata": {},
   "execution_count": null
  },
  {
   "cell_type": "markdown",
   "source": [
    "Let's visualize the initial conditions"
   ],
   "metadata": {}
  },
  {
   "outputs": [],
   "cell_type": "code",
   "source": [
    "using Plots\n",
    "plot(grid_u_les.x, u0_les, layout = (3, 1), size = (800, 300),\n",
    "    label = \"LES\", xlabel = \"x\", ylabel = \"u\", linetype = :steppre)\n",
    "plot!(grid_u_dns.x, u0_dns, linetype = :steppre, label = \"DNS\")"
   ],
   "metadata": {},
   "execution_count": null
  },
  {
   "cell_type": "markdown",
   "source": [
    "Plot with periodicity to check if continuity is correct"
   ],
   "metadata": {}
  },
  {
   "outputs": [],
   "cell_type": "code",
   "source": [
    "width = 2π\n",
    "xles2 = [grid_u_les.x; grid_u_les.x .+ width]\n",
    "u0_les2 = [u0_les; u0_les]\n",
    "xdns2 = [grid_u_dns.x; grid_u_dns.x .+ width]\n",
    "u0_dns2 = [u0_dns; u0_dns]\n",
    "plot(xles2, u0_les2, layout = (3, 1), size = (800, 300),\n",
    "    label = \"LES\", xlabel = \"x\", ylabel = \"u\", linetype = :steppre)\n",
    "plot!(xdns2, u0_dns2, linetype = :steppre, label = \"DNS\")"
   ],
   "metadata": {},
   "execution_count": null
  },
  {
   "cell_type": "markdown",
   "source": [
    "Plot the differences"
   ],
   "metadata": {}
  },
  {
   "outputs": [],
   "cell_type": "code",
   "source": [
    "plot(xles2[1:(end - 1)], diff(u0_les2, dims = 1), layout = (3, 1), size = (800, 300),\n",
    "    label = \"LES\", xlabel = \"x\", ylabel = \"diff\", linetype = :steppre)\n",
    "plot!(xdns2[1:(end - 1)], diff(u0_dns2, dims = 1), linetype = :steppre, label = \"DNS\")"
   ],
   "metadata": {},
   "execution_count": null
  },
  {
   "cell_type": "markdown",
   "source": [
    "Create the right-hand side of the NODE"
   ],
   "metadata": {}
  },
  {
   "outputs": [],
   "cell_type": "code",
   "source": [
    "import CoupledNODE: create_f_CNODE\n",
    "f_dns = create_f_CNODE((F_dns,), (grid_u_dns,); is_closed = false);\n",
    "f_les = create_f_CNODE((F_les,), (grid_u_les,); is_closed = false);\n",
    "import Random, LuxCUDA, Lux\n",
    "Random.seed!(123)\n",
    "rng = Random.default_rng()\n",
    "θ_dns, st_dns = Lux.setup(rng, f_dns);\n",
    "θ_les, st_les = Lux.setup(rng, f_les);"
   ],
   "metadata": {},
   "execution_count": null
  },
  {
   "cell_type": "markdown",
   "source": [
    "Plot the forces"
   ],
   "metadata": {}
  },
  {
   "outputs": [],
   "cell_type": "code",
   "source": [
    "outf_dns = Array(f_dns(u0_dns, θ_dns, st_dns)[1])\n",
    "outf_les = Array(f_les(u0_les, θ_les, st_les)[1])\n",
    "plot(grid_u_les.x, outf_les, layout = (3, 1), size = (800, 300),\n",
    "    label = \"LES\", xlabel = \"x\", ylabel = \"F\", linetype = :steppre)\n",
    "plot!(grid_u_dns.x, outf_dns, linetype = :steppre, label = \"DNS\")"
   ],
   "metadata": {},
   "execution_count": null
  },
  {
   "cell_type": "markdown",
   "source": [
    "Plot with periodicity"
   ],
   "metadata": {}
  },
  {
   "outputs": [],
   "cell_type": "code",
   "source": [
    "outf_dns2 = [outf_dns; outf_dns]\n",
    "outf_les2 = [outf_les; outf_les]\n",
    "plot(xles2, outf_les2, layout = (3, 1), size = (800, 300),\n",
    "    label = \"LES\", xlabel = \"x\", ylabel = \"F\", linetype = :steppre)\n",
    "plot!(xdns2, outf_dns2, linetype = :steppre, label = \"DNS\")"
   ],
   "metadata": {},
   "execution_count": null
  },
  {
   "cell_type": "markdown",
   "source": [
    "Now solve the LES and the DNS"
   ],
   "metadata": {}
  },
  {
   "outputs": [],
   "cell_type": "code",
   "source": [
    "import DiffEqFlux: NeuralODE\n",
    "t_shock = 10.0f0\n",
    "dt_dns = 0.001f0\n",
    "dt_les = dt_dns\n",
    "trange_burn = (0.0f0, t_shock)\n",
    "saveat_shock = 0.01f0\n",
    "dns = NeuralODE(f_dns,\n",
    "    trange_burn,\n",
    "    solver_algo,\n",
    "    adaptive = false,\n",
    "    dt = dt_dns,\n",
    "    saveat = saveat_shock);\n",
    "les = NeuralODE(f_les,\n",
    "    trange_burn,\n",
    "    solver_algo,\n",
    "    adaptive = false,\n",
    "    dt = dt_les,\n",
    "    saveat = saveat_shock);\n",
    "u_dns = Array(dns(u0_dns, θ_dns, st_dns)[1]);\n",
    "u_les = Array(les(u0_les, θ_les, st_les)[1]);"
   ],
   "metadata": {},
   "execution_count": null
  },
  {
   "cell_type": "markdown",
   "source": [
    "Plot"
   ],
   "metadata": {}
  },
  {
   "outputs": [],
   "cell_type": "code",
   "source": [
    "using Plots\n",
    "anim = Animation()\n",
    "fig = plot(layout = (3, 1), size = (800, 300))\n",
    "@gif for i in 1:2:size(u_dns, 3)\n",
    "    p1 = plot(grid_u_dns.x, u_dns[:, 1, i], xlabel = \"x\", ylabel = \"u\",\n",
    "        linetype = :steppre, label = \"DNS\")\n",
    "    plot!(grid_u_les.x, u_les[:, 1, i], linetype = :steppre, label = \"LES\")\n",
    "    p2 = plot(grid_u_dns.x, u_dns[:, 2, i], xlabel = \"x\", ylabel = \"u\",\n",
    "        linetype = :steppre, legend = false)\n",
    "    plot!(grid_u_les.x, u_les[:, 2, i], linetype = :steppre, legend = false)\n",
    "    p3 = plot(grid_u_dns.x, u_dns[:, 3, i], xlabel = \"x\", ylabel = \"u\",\n",
    "        linetype = :steppre, legend = false)\n",
    "    plot!(grid_u_les.x, u_les[:, 3, i], linetype = :steppre, legend = false)\n",
    "    title = \"Time: $(round((i - 1) * saveat_shock, digits = 2))\"\n",
    "    fig = plot(p1, p2, p3, layout = (3, 1), title = title)\n",
    "    frame(anim, fig)\n",
    "end\n",
    "if isdir(\"./plots\")\n",
    "    gif(anim, \"plots/03.01_Burgers.gif\", fps = 10)\n",
    "else\n",
    "    gif(anim, \"examples/plots/03.01_Burgers.gif\", fps = 10)\n",
    "end"
   ],
   "metadata": {},
   "execution_count": null
  },
  {
   "cell_type": "markdown",
   "source": [
    "## A-priori fitting\n",
    "Generate data"
   ],
   "metadata": {}
  },
  {
   "outputs": [],
   "cell_type": "code",
   "source": [
    "nsamples = 500\n",
    "nsamples = 50"
   ],
   "metadata": {},
   "execution_count": null
  },
  {
   "cell_type": "markdown",
   "source": [
    "since there are some ill initial conditions, we generate the data in batches and concatenate them"
   ],
   "metadata": {}
  },
  {
   "outputs": [],
   "cell_type": "code",
   "source": [
    "all_u_dns = zeros(size(u_dns)[1], nsamples, size(u_dns)[3])\n",
    "batch_size = 10\n",
    "n_batches = Int(nsamples / batch_size)\n",
    "for i in 1:n_batches\n",
    "    good = 0\n",
    "    all_u_dns_batch = zeros(size(u_dns)[1], batch_size, size(u_dns)[3])\n",
    "    while good < size(u_dns)[3]\n",
    "        println(\"Generating batch $(i) (size: $(good) < $(size(u_dns)[3]))\")\n",
    "        all_u0_dns = generate_initial_conditions(grid_u_dns.nx, batch_size)\n",
    "        all_u_dns_batch = Array(dns(all_u0_dns, θ_dns, st_dns)[1])\n",
    "        good = size(all_u_dns_batch)[3]\n",
    "    end\n",
    "    all_u_dns[:, ((i - 1) * batch_size + 1):(i * batch_size), :] = all_u_dns_batch;\n",
    "end"
   ],
   "metadata": {},
   "execution_count": null
  },
  {
   "cell_type": "markdown",
   "source": [
    "### Data filtering"
   ],
   "metadata": {}
  },
  {
   "outputs": [],
   "cell_type": "code",
   "source": [
    "all_F_dns = F_dns(reshape(\n",
    "    all_u_dns, size(all_u_dns, 1), size(all_u_dns, 2) * size(all_u_dns, 3)));\n",
    "all_F_dns = reshape(all_F_dns, size(all_u_dns));"
   ],
   "metadata": {},
   "execution_count": null
  },
  {
   "cell_type": "markdown",
   "source": [
    "Reshape in and target to have sample and t  in the same dimension (makes sense in a-priori fitting)"
   ],
   "metadata": {}
  },
  {
   "outputs": [],
   "cell_type": "code",
   "source": [
    "all_u_dns_flat = reshape(all_u_dns, nux_dns, size(all_u_dns)[2] * size(all_u_dns)[3]);\n",
    "all_F_dns_flat = reshape(all_F_dns, nux_dns, size(all_F_dns)[2] * size(all_F_dns)[3]);"
   ],
   "metadata": {},
   "execution_count": null
  },
  {
   "cell_type": "markdown",
   "source": [
    "Filter"
   ],
   "metadata": {}
  },
  {
   "outputs": [],
   "cell_type": "code",
   "source": [
    "all_u_les_flat = Φ * all_u_dns_flat\n",
    "target_F_flat = Φ * all_F_dns_flat"
   ],
   "metadata": {},
   "execution_count": null
  },
  {
   "cell_type": "markdown",
   "source": [
    "and get them back to the original shape"
   ],
   "metadata": {}
  },
  {
   "outputs": [],
   "cell_type": "code",
   "source": [
    "all_u_les = reshape(all_u_les_flat, nux_les, size(all_u_dns)[2:end]...)\n",
    "target_F = reshape(target_F_flat, nux_les, size(all_F_dns)[2:end]...);"
   ],
   "metadata": {},
   "execution_count": null
  },
  {
   "cell_type": "markdown",
   "source": [
    "Compare LES force vs interpolated DNS force"
   ],
   "metadata": {}
  },
  {
   "outputs": [],
   "cell_type": "code",
   "source": [
    "plot(grid_u_les.x, target_F[:, 1, 1], label = \" Filtered DNS\",\n",
    "    xlabel = \"x\", ylabel = \"F\", linetype = :steppre)\n",
    "plot!(grid_u_dns.x, all_F_dns[:, 1, 1], label = \"DNS\", linetype = :steppre)\n",
    "plot!(grid_u_les.x, F_les(all_u_les[:, 1, :])[:, 1], label = \"LES\", linetype = :steppre)"
   ],
   "metadata": {},
   "execution_count": null
  },
  {
   "cell_type": "markdown",
   "source": [
    "This is what we are trying to learn"
   ],
   "metadata": {}
  },
  {
   "outputs": [],
   "cell_type": "code",
   "source": [
    "plot(grid_u_les.x, target_F[:, 1, 1] - F_les(all_u_les[:, 1, :])[:, 1], xlabel = \"x\",\n",
    "    ylabel = \"Commutator error\", linetype = :steppre, legend = false)\n",
    "i = 3\n",
    "plot!(grid_u_les.x, target_F[:, i, 1] - F_les(all_u_les[:, i, :])[:, 1],\n",
    "    linetype = :steppre)\n",
    "i = 4\n",
    "plot!(grid_u_les.x, target_F[:, i, 1] - F_les(all_u_les[:, i, :])[:, 1],\n",
    "    linetype = :steppre)\n",
    "i = 5\n",
    "plot!(grid_u_les.x, target_F[:, i, 1] - F_les(all_u_les[:, i, :])[:, 1],\n",
    "    linetype = :steppre)"
   ],
   "metadata": {},
   "execution_count": null
  },
  {
   "cell_type": "markdown",
   "source": [
    "Now create the the Neural Network"
   ],
   "metadata": {}
  },
  {
   "outputs": [],
   "cell_type": "code",
   "source": [
    "using NNlib: gelu\n",
    "import CoupledNODE: create_fno_model\n",
    "ch_fno = [5, 5, 5, 5];\n",
    "kmax_fno = [16, 16, 16, 8];\n",
    "σ_fno = [gelu, gelu, gelu, identity];\n",
    "NN_u = create_fno_model(kmax_fno, ch_fno, σ_fno, grid_u_les);"
   ],
   "metadata": {},
   "execution_count": null
  },
  {
   "cell_type": "markdown",
   "source": [
    "Use it to create the CNODE"
   ],
   "metadata": {}
  },
  {
   "outputs": [],
   "cell_type": "code",
   "source": [
    "f_CNODE = create_f_CNODE((F_les,), (grid_u_les,), (NN_u,); is_closed = true);\n",
    "θ, st = Lux.setup(rng, f_CNODE);"
   ],
   "metadata": {},
   "execution_count": null
  },
  {
   "cell_type": "markdown",
   "source": [
    "Trigger compilation and test the force"
   ],
   "metadata": {}
  },
  {
   "outputs": [],
   "cell_type": "code",
   "source": [
    "f_CNODE(all_u_les_flat, θ, st);"
   ],
   "metadata": {},
   "execution_count": null
  },
  {
   "cell_type": "markdown",
   "source": [
    "A priori fitting"
   ],
   "metadata": {}
  },
  {
   "outputs": [],
   "cell_type": "code",
   "source": [
    "import CoupledNODE: create_randloss_derivative\n",
    "myloss = create_randloss_derivative(all_u_les_flat,\n",
    "    target_F_flat,\n",
    "    f_CNODE,\n",
    "    st;\n",
    "    n_use = 1024,\n",
    "    λ = 0,\n",
    "    λ_c = 0);\n",
    "\n",
    "# Initialize and trigger the compilation of the model\n",
    "using ComponentArrays\n",
    "pinit = ComponentArrays.ComponentArray(θ);\n",
    "print(myloss(pinit));\n",
    "# [!] Check that the loss does not get type warnings, otherwise it will be slower"
   ],
   "metadata": {},
   "execution_count": null
  },
  {
   "cell_type": "markdown",
   "source": [
    "We transform the NeuralODE into an optimization problem"
   ],
   "metadata": {}
  },
  {
   "outputs": [],
   "cell_type": "code",
   "source": [
    "# Select the autodifferentiation type\n",
    "import OptimizationOptimisers: Optimization\n",
    "adtype = Optimization.AutoZygote();\n",
    "optf = Optimization.OptimizationFunction((x, p) -> myloss(x), adtype);\n",
    "optprob = Optimization.OptimizationProblem(optf, pinit);"
   ],
   "metadata": {},
   "execution_count": null
  },
  {
   "cell_type": "markdown",
   "source": [
    "Select the training algorithm:\n",
    "In previous examples we have used a classic gradient method like Adam:"
   ],
   "metadata": {}
  },
  {
   "outputs": [],
   "cell_type": "code",
   "source": [
    "import OptimizationOptimisers: OptimiserChain, Adam, ClipNorm\n",
    "algo = OptimiserChain(Adam(1.0e-3), ClipNorm(1));"
   ],
   "metadata": {},
   "execution_count": null
  },
  {
   "cell_type": "markdown",
   "source": [
    "### Train the CNODE"
   ],
   "metadata": {}
  },
  {
   "outputs": [],
   "cell_type": "code",
   "source": [
    "import CoupledNODE: callback"
   ],
   "metadata": {},
   "execution_count": null
  },
  {
   "cell_type": "markdown",
   "source": [
    "switch to train mode to enable dropout"
   ],
   "metadata": {}
  },
  {
   "outputs": [],
   "cell_type": "code",
   "source": [
    "Lux.trainmode\n",
    "result_neuralode = Optimization.solve(optprob,\n",
    "    algo;\n",
    "    callback = callback,\n",
    "    maxiters = 300);\n",
    "pinit = result_neuralode.u;\n",
    "θ = pinit;\n",
    "optprob = Optimization.OptimizationProblem(optf, pinit);"
   ],
   "metadata": {},
   "execution_count": null
  },
  {
   "cell_type": "markdown",
   "source": [
    "(Notice that the block above can be repeated to continue training)"
   ],
   "metadata": {}
  },
  {
   "cell_type": "markdown",
   "source": [
    "Compute the error in estimating the force"
   ],
   "metadata": {}
  },
  {
   "outputs": [],
   "cell_type": "code",
   "source": [
    "error_les = sum(abs, f_les(all_u_les_flat, θ_les, st_les)[1] - target_F_flat) /\n",
    "            sum(abs, target_F_flat)\n",
    "error_trained_les = sum(abs, f_CNODE(all_u_les_flat, θ, st)[1] - target_F_flat) /\n",
    "                    sum(abs, target_F_flat)\n",
    "bar([\"LES\", \"Trained LES\"], [error_les, error_trained_les],\n",
    "    title = \"Comparison of errors in estimating the force\",\n",
    "    xlabel = \"Method\",\n",
    "    ylabel = \"Error %\",\n",
    "    legend = false)"
   ],
   "metadata": {},
   "execution_count": null
  },
  {
   "cell_type": "markdown",
   "source": [
    "From the plot it looks like the trained LES is better than the standard LES!\n",
    "However, if we use the trained model to run a new simulation, things may not be so good:"
   ],
   "metadata": {}
  },
  {
   "outputs": [],
   "cell_type": "code",
   "source": [
    "Lux.testmode\n",
    "trained_les = NeuralODE(f_CNODE,\n",
    "    trange_burn,\n",
    "    solver_algo,\n",
    "    adaptive = false,\n",
    "    dt = dt_les,\n",
    "    saveat = saveat_shock);"
   ],
   "metadata": {},
   "execution_count": null
  },
  {
   "cell_type": "markdown",
   "source": [
    "Repeat this until not instable"
   ],
   "metadata": {}
  },
  {
   "outputs": [],
   "cell_type": "code",
   "source": [
    "u_dns_test = zeros(size(u_dns));\n",
    "u_les_test = zeros(size(u_les));\n",
    "u_trained_test = zeros(size(u_les));"
   ],
   "metadata": {},
   "execution_count": null
  },
  {
   "cell_type": "markdown",
   "source": [
    "generate M new samples"
   ],
   "metadata": {}
  },
  {
   "outputs": [],
   "cell_type": "code",
   "source": [
    "M = 3\n",
    "u0_test = generate_initial_conditions(grid_u_dns.nx, 10);\n",
    "#test the dns\n",
    "u_dns_test = Array(dns(u0_test, θ_dns, st_dns)[1]);\n",
    "#test the les\n",
    "u0_test_les = Φ * u0_test\n",
    "u_les_test = Array(les(u0_test_les, θ_les, st_les)[1]);\n",
    "#and test the trained model\n",
    "u_trained_test = Array(trained_les(u0_test_les, θ, st)[1])"
   ],
   "metadata": {},
   "execution_count": null
  },
  {
   "cell_type": "markdown",
   "source": [
    "Filter the DNS data"
   ],
   "metadata": {}
  },
  {
   "outputs": [],
   "cell_type": "code",
   "source": [
    "u_dns_test_filtered = Φ * reshape(\n",
    "    u_dns_test, nux_dns, size(u_dns_test)[2] * size(u_dns_test)[3]);\n",
    "u_dns_test_filtered = reshape(\n",
    "    u_dns_test_filtered, nux_les, size(u_dns_test)[2], size(u_dns_test)[3]);"
   ],
   "metadata": {},
   "execution_count": null
  },
  {
   "cell_type": "markdown",
   "source": [
    "Plot and compare the solutions"
   ],
   "metadata": {}
  },
  {
   "outputs": [],
   "cell_type": "code",
   "source": [
    "anim = Animation()\n",
    "fig = plot(layout = (3, 1), size = (800, 300))\n",
    "@gif for i in 1:2:size(u_trained_test, 3)\n",
    "    p1 = plot(grid_u_dns.x, u_dns_test[:, 1, i], xlabel = \"x\", ylabel = \"u\",\n",
    "        linetype = :steppre, label = \"DNS\")\n",
    "    plot!(grid_u_les.x, u_dns_test_filtered[:, 1, i],\n",
    "        linetype = :steppre, label = \"Filtered DNS\")\n",
    "    plot!(grid_u_les.x, u_les_test[:, 1, i], linetype = :steppre, label = \"LES\")\n",
    "    plot!(grid_u_les.x, u_trained_test[:, 1, i], linetype = :steppre, label = \"Trained\")\n",
    "    p2 = plot(grid_u_dns.x, u_dns_test[:, 2, i], xlabel = \"x\", ylabel = \"u\",\n",
    "        linetype = :steppre, legend = false)\n",
    "    plot!(\n",
    "        grid_u_les.x, u_dns_test_filtered[:, 2, i], linetype = :steppre, legend = false)\n",
    "    plot!(grid_u_les.x, u_les_test[:, 2, i], linetype = :steppre, legend = false)\n",
    "    plot!(grid_u_les.x, u_trained_test[:, 2, i], linetype = :steppre, legend = false)\n",
    "    p3 = plot(grid_u_dns.x, u_dns_test[:, 3, i], xlabel = \"x\", ylabel = \"u\",\n",
    "        linetype = :steppre, legend = false)\n",
    "    plot!(\n",
    "        grid_u_les.x, u_dns_test_filtered[:, 3, i], linetype = :steppre, legend = false)\n",
    "    plot!(grid_u_les.x, u_les_test[:, 3, i], linetype = :steppre, legend = false)\n",
    "    plot!(grid_u_les.x, u_trained_test[:, 3, i], linetype = :steppre, legend = false)\n",
    "    title = \"Time: $(round((i - 1) * saveat_shock, digits = 2))\"\n",
    "    fig = plot(p1, p2, p3, layout = (3, 1), title = title)\n",
    "    frame(anim, fig)\n",
    "end\n",
    "if isdir(\"./plots\")\n",
    "    gif(anim, \"plots/03.01_Burgers.gif\", fps = 15)\n",
    "else\n",
    "    gif(anim, \"examples/plots/03.01_Burgers.gif\", fps = 15)\n",
    "end"
   ],
   "metadata": {},
   "execution_count": null
  },
  {
   "cell_type": "markdown",
   "source": [
    "As you can see from the plot, the trained model produces a solution that is not stable, and over time it diverges from the DNS.\n",
    "Let's try to fix this with a posteriori fitting."
   ],
   "metadata": {}
  },
  {
   "cell_type": "markdown",
   "source": [
    "### A-posteriori fitting\n",
    "First reset the NN"
   ],
   "metadata": {}
  },
  {
   "outputs": [],
   "cell_type": "code",
   "source": [
    "NN_u_pos = create_fno_model(kmax_fno, ch_fno, σ_fno, grid_u_les);\n",
    "f_CNODE_pos = create_f_CNODE(\n",
    "    (F_les,), (grid_u_les,), (NN_u_pos,); is_closed = true)\n",
    "θ_pos, st_pos = Lux.setup(rng, f_CNODE_pos);\n",
    "f_CNODE_pos(all_u_les_flat, θ_pos, st_pos);\n",
    "\n",
    "nunroll = 20\n",
    "nintervals = 5\n",
    "noverlaps = 1\n",
    "nsamples = 3;\n",
    "dt_train = dt_les;\n",
    "saveat_train = saveat_shock\n",
    "t_train_range = (0.0, saveat_train * nunroll)\n",
    "training_CNODE = NeuralODE(f_CNODE_pos,\n",
    "    t_train_range,\n",
    "    Tsit5(),\n",
    "    adaptive = false,\n",
    "    dt = dt_train,\n",
    "    saveat = saveat_train);"
   ],
   "metadata": {},
   "execution_count": null
  },
  {
   "cell_type": "markdown",
   "source": [
    "Define the loss"
   ],
   "metadata": {}
  },
  {
   "outputs": [],
   "cell_type": "code",
   "source": [
    "import CoupledNODE: create_randloss_MulDtO\n",
    "myloss = create_randloss_MulDtO(all_u_les,\n",
    "    training_CNODE,\n",
    "    st_pos,\n",
    "    nunroll = nunroll,\n",
    "    noverlaps = noverlaps,\n",
    "    nintervals = nintervals,\n",
    "    nsamples = nsamples,\n",
    "    λ_c = 0, ## TODO: TEST THIS!\n",
    "    λ_l1 = 0);\n",
    "\n",
    "pinit = ComponentArrays.ComponentArray(θ_pos);\n",
    "print(myloss(pinit));\n",
    "adtype = Optimization.AutoZygote();\n",
    "optf = Optimization.OptimizationFunction((x, p) -> myloss(x), adtype);\n",
    "optprob = Optimization.OptimizationProblem(optf, pinit);\n",
    "import OptimizationOptimisers: OptimiserChain, Adam, ClipNorm\n",
    "algo = OptimiserChain(Adam(1.0e-3), ClipNorm(1));\n",
    "Lux.trainmode"
   ],
   "metadata": {},
   "execution_count": null
  },
  {
   "cell_type": "markdown",
   "source": [
    "TODO: callback should be resettable"
   ],
   "metadata": {}
  },
  {
   "outputs": [],
   "cell_type": "code",
   "source": [
    "result_neuralode = Optimization.solve(optprob,\n",
    "    algo;\n",
    "    callback = callback,\n",
    "    maxiters = 50);\n",
    "pinit = result_neuralode.u;\n",
    "θ_pos = pinit;\n",
    "optprob = Optimization.OptimizationProblem(optf, pinit);"
   ],
   "metadata": {},
   "execution_count": null
  },
  {
   "cell_type": "markdown",
   "source": [
    "Compute the error in estimating the force"
   ],
   "metadata": {}
  },
  {
   "outputs": [],
   "cell_type": "code",
   "source": [
    "error_posteriori = sum(abs, f_CNODE_pos(all_u_les_flat, θ_pos, st_pos)[1] - target_F_flat) /\n",
    "                   sum(abs, target_F_flat);\n",
    "bar([\"LES\", \"A-priori fitting\", \"A-posteriori fitting\"],\n",
    "    [error_les, error_trained_les, error_posteriori],\n",
    "    title = \"Comparison of errors in estimating the force\",\n",
    "    xlabel = \"Method\",\n",
    "    ylabel = \"Error %\",\n",
    "    legend = false)"
   ],
   "metadata": {},
   "execution_count": null
  },
  {
   "cell_type": "markdown",
   "source": [
    "and test the trained model"
   ],
   "metadata": {}
  },
  {
   "outputs": [],
   "cell_type": "code",
   "source": [
    "u_posteriori_test = Array(trained_les(u0_test_les, θ_pos, st_pos)[1]);"
   ],
   "metadata": {},
   "execution_count": null
  },
  {
   "cell_type": "markdown",
   "source": [
    "Plot"
   ],
   "metadata": {}
  },
  {
   "outputs": [],
   "cell_type": "code",
   "source": [
    "anim = Animation()\n",
    "fig = plot(layout = (3, 1), size = (800, 300))\n",
    "@gif for i in 1:2:size(u_trained_test, 3)\n",
    "    p1 = plot(grid_u_dns.x, u_dns_test[:, 1, i], xlabel = \"x\", ylabel = \"u\",\n",
    "        linetype = :steppre, label = \"DNS\")\n",
    "    plot!(grid_u_les.x, u_les_test[:, 1, i], linetype = :steppre, label = \"LES\")\n",
    "    #plot!(grid_u_les.x, u_trained_test[:, 1, i], linetype = :steppre, label = \"A-priori\")\n",
    "    plot!(grid_u_les.x, u_posteriori_test[:, 1, i],\n",
    "        linetype = :steppre, label = \"A-posteriori\")\n",
    "    p2 = plot(grid_u_dns.x, u_dns_test[:, 2, i], xlabel = \"x\", ylabel = \"u\",\n",
    "        linetype = :steppre, legend = false)\n",
    "    plot!(grid_u_les.x, u_les_test[:, 2, i], linetype = :steppre, legend = false)\n",
    "    #plot!(grid_u_les[1].x, u_trained_test[:, 2, i], linetype = :steppre, legend = false)\n",
    "    plot!(grid_u_les.x, u_posteriori_test[:, 2, i], linetype = :steppre, legend = false)\n",
    "    p3 = plot(grid_u_dns.x, u_dns_test[:, 3, i], xlabel = \"x\", ylabel = \"u\",\n",
    "        linetype = :steppre, legend = false)\n",
    "    plot!(grid_u_les.x, u_les_test[:, 3, i], linetype = :steppre, legend = false)\n",
    "    #plot!(grid_u_les.x, u_trained_test[:, 3, i], linetype = :steppre, legend = false)\n",
    "    plot!(grid_u_les.x, u_posteriori_test[:, 3, i], linetype = :steppre, legend = false)\n",
    "    title = \"Time: $(round((i - 1) * saveat_shock, digits = 2))\"\n",
    "    fig = plot(p1, p2, p3, layout = (3, 1), title = title)\n",
    "    frame(anim, fig)\n",
    "end\n",
    "if isdir(\"./plots\")\n",
    "    gif(anim, \"plots/03.01_Burgers.gif\", fps = 15)\n",
    "else\n",
    "    gif(anim, \"examples/plots/03.01_Burgers.gif\", fps = 15)\n",
    "end"
   ],
   "metadata": {},
   "execution_count": null
  },
  {
   "cell_type": "markdown",
   "source": [
    "---\n",
    "\n",
    "*This notebook was generated using [Literate.jl](https://github.com/fredrikekre/Literate.jl).*"
   ],
   "metadata": {}
  }
 ],
 "nbformat_minor": 3,
 "metadata": {
  "language_info": {
   "file_extension": ".jl",
   "mimetype": "application/julia",
   "name": "julia",
   "version": "1.10.3"
  },
  "kernelspec": {
   "name": "julia-1.10",
   "display_name": "Julia 1.10.3",
   "language": "julia"
  }
 },
 "nbformat": 4
}
