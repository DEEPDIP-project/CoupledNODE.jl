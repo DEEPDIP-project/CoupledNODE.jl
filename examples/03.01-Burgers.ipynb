{
 "cells": [
  {
   "outputs": [],
   "cell_type": "code",
   "source": [
    "const ArrayType = Array\n",
    "import DifferentialEquations: Tsit5\n",
    "const solver_algo = Tsit5()\n",
    "const MY_TYPE = Float32 # use float32 if you plan to use a GPU\n",
    "import CUDA # Test if CUDA is running\n",
    "if CUDA.functional()\n",
    "    CUDA.allowscalar(false)\n",
    "    const ArrayType = CuArray\n",
    "    import DiffEqGPU: GPUTsit5\n",
    "    const solver_algo = GPUTsit5()\n",
    "end"
   ],
   "metadata": {},
   "execution_count": null
  },
  {
   "cell_type": "markdown",
   "source": [
    "# Burgers equations\n",
    "In this example, we will solve the Burgers equation in using the Neural ODEs framework. The Burgers equation is a fundamental equation in fluid dynamics and is given by:\n",
    "\\begin{equation}\n",
    "\\frac{\\partial u}{\\partial t} = - u \\frac{\\partial u}{\\partial x} + \\nu \\frac{\\partial u^2}{\\partial x^2}\n",
    "\\end{equation}\n",
    "where $u(x,t)$ is the velocity of the fluid, $\\nu$ is the viscosity coefficient, and x$ and $t$ are the spatial and temporal coordinates, respectively. The equation is a non-linear partial differential equation that describes the evolution of a fluid flow in one spatial dimensions. The equation is named after Johannes Martinus Burgers, who introduced it in 1948 as a simplified model for turbulence."
   ],
   "metadata": {}
  },
  {
   "cell_type": "markdown",
   "source": [
    "We start by defining the right-hand side of the Burgers equation. We will use the finite difference method to compute the spatial derivatives.\n",
    "So the first step is to define the grid that we are going to use"
   ],
   "metadata": {}
  },
  {
   "outputs": [],
   "cell_type": "code",
   "source": [
    "import CoupledNODE: Grid"
   ],
   "metadata": {},
   "execution_count": null
  },
  {
   "cell_type": "markdown",
   "source": [
    "MAKE THE GRID 1D!"
   ],
   "metadata": {}
  },
  {
   "outputs": [],
   "cell_type": "code",
   "source": [
    "dux = duy = 2π / 100\n",
    "nux = nuy = 100\n",
    "xgrid_B = Grid(dim = 1, dx = dux, dy = duy, nx = nux, ny = nuy)"
   ],
   "metadata": {},
   "execution_count": null
  },
  {
   "cell_type": "markdown",
   "source": [
    "The following function constructs the right-hand side of the Burgers equation:"
   ],
   "metadata": {}
  },
  {
   "outputs": [],
   "cell_type": "code",
   "source": [
    "import CoupledNODE: Laplacian, first_derivatives\n",
    "using Zygote\n",
    "function create_burgers_rhs(grid, force_params)\n",
    "    ν = force_params[1]\n",
    "\n",
    "    function FG(u, v)\n",
    "        du_dx, du_dy = first_derivatives(u, grid.dux, grid.duy)\n",
    "        dv_dx, dv_dy = first_derivatives(v, grid.dvx, grid.dvy)\n",
    "        F = Zygote.@ignore -u .* du_dx - v .* du_dy .+\n",
    "                           ν * Laplacian(u, grid.dux^2, grid.duy^2)\n",
    "        G = Zygote.@ignore -u .* dv_dx - v .* dv_dy .+\n",
    "                           ν * Laplacian(v, grid.dvx^2, grid.dvy^2)\n",
    "        return F, G\n",
    "    end\n",
    "    return FG\n",
    "end"
   ],
   "metadata": {},
   "execution_count": null
  },
  {
   "cell_type": "markdown",
   "source": [
    "Notice that compared to the Gray-Scott example we are returning a single function that computes both components of the force at the same time. This is because the Burgers equation is a system of two coupled PDEs so we want to avoid recomputing the derivatives a second time."
   ],
   "metadata": {}
  },
  {
   "cell_type": "markdown",
   "source": [
    "Let's set the parameters for the Burgers equation"
   ],
   "metadata": {}
  },
  {
   "outputs": [],
   "cell_type": "code",
   "source": [
    "ν = 0.005f0"
   ],
   "metadata": {},
   "execution_count": null
  },
  {
   "cell_type": "markdown",
   "source": [
    "and we pack them into a tuple for the rhs Constructor"
   ],
   "metadata": {}
  },
  {
   "outputs": [],
   "cell_type": "code",
   "source": [
    "force_params = (ν,)"
   ],
   "metadata": {},
   "execution_count": null
  },
  {
   "cell_type": "markdown",
   "source": [
    "Now we can create the right-hand side of the NODE"
   ],
   "metadata": {}
  },
  {
   "outputs": [],
   "cell_type": "code",
   "source": [
    "FG = create_burgers_rhs(grid_B, force_params)\n",
    "include(\"./../coupling_functions/functions_NODE.jl\")\n",
    "f_CNODE = create_f_CNODE(create_burgers_rhs, force_params, grid_B; is_closed = false);\n",
    "import Random, LuxCUDA, Lux\n",
    "rng = Random.seed!(1234)\n",
    "θ, st = Lux.setup(rng, f_CNODE);"
   ],
   "metadata": {},
   "execution_count": null
  },
  {
   "cell_type": "markdown",
   "source": [
    "Now we create the initial condition for the Burgers equation.\n",
    "We start defining a gaussian pulse centered in the grid.:"
   ],
   "metadata": {}
  },
  {
   "outputs": [],
   "cell_type": "code",
   "source": [
    "function initialize_uv_gaussian(grid, u_bkg, v_bkg, sigma)\n",
    "    u_initial = zeros(MY_TYPE, grid.nux, grid.nuy)\n",
    "    v_initial = zeros(MY_TYPE, grid.nvx, grid.nvy)"
   ],
   "metadata": {},
   "execution_count": null
  },
  {
   "cell_type": "markdown",
   "source": [
    "Create a Gaussian pulse centered in the grid"
   ],
   "metadata": {}
  },
  {
   "outputs": [],
   "cell_type": "code",
   "source": [
    "    for i in 1:(grid.nvx)\n",
    "        for j in 1:(grid.nvy)\n",
    "            x = i - grid.nvx / 2\n",
    "            y = j - grid.nvy / 2\n",
    "            v_initial[i, j] = v_bkg * exp(-(x^2 + y^2) / (2 * sigma^2))\n",
    "            u_initial[i, j] = u_bkg * exp(-(x^2 + y^2) / (2 * sigma^2))\n",
    "        end\n",
    "    end\n",
    "\n",
    "    return u_initial, v_initial\n",
    "end\n",
    "\n",
    "u_initial, v_initial = initialize_uv_gaussian(grid_B, 2.0f0, 2.0f0, 20);"
   ],
   "metadata": {},
   "execution_count": null
  },
  {
   "cell_type": "markdown",
   "source": [
    "We can now define the initial condition as a flattened concatenated array"
   ],
   "metadata": {}
  },
  {
   "outputs": [],
   "cell_type": "code",
   "source": [
    "uv0 = vcat(reshape(u_initial, grid_B.nux * grid_B.nuy, 1),\n",
    "    reshape(v_initial, grid_B.nvx * grid_B.nvy, 1))"
   ],
   "metadata": {},
   "execution_count": null
  },
  {
   "cell_type": "markdown",
   "source": [
    "The first phase of the Burger solution will be the formation of the shock. We use a small time step to resolve the shock formation."
   ],
   "metadata": {}
  },
  {
   "outputs": [],
   "cell_type": "code",
   "source": [
    "import DiffEqFlux: NeuralODE\n",
    "t_shock = 2.5f0\n",
    "dt_shock = 0.005f0\n",
    "trange_burn = (0.0f0, t_shock)\n",
    "saveat_shock = 0.01f0\n",
    "shock_CNODE = NeuralODE(f_CNODE,\n",
    "    trange_burn,\n",
    "    solver_algo,\n",
    "    adaptive = false,\n",
    "    dt = dt_shock,\n",
    "    saveat = saveat_shock);\n",
    "shock_CNODE_solution = Array(shock_CNODE(uv0, θ, st)[1])\n",
    "uv_shock = shock_CNODE_solution[:, :, 1, end];"
   ],
   "metadata": {},
   "execution_count": null
  },
  {
   "cell_type": "markdown",
   "source": [
    "And we unpack the solution to get the two species from"
   ],
   "metadata": {}
  },
  {
   "outputs": [],
   "cell_type": "code",
   "source": [
    "u_shock = reshape(shock_CNODE_solution[1:(grid_B.Nu), :, :],\n",
    "    grid_B.nux,\n",
    "    grid_B.nuy,\n",
    "    size(shock_CNODE_solution, 2),\n",
    "    :)\n",
    "v_shock = reshape(shock_CNODE_solution[(grid_B.Nu + 1):end, :, :],\n",
    "    grid_B.nvx,\n",
    "    grid_B.nvy,\n",
    "    size(shock_CNODE_solution, 2),\n",
    "    :);"
   ],
   "metadata": {},
   "execution_count": null
  },
  {
   "cell_type": "markdown",
   "source": [
    "Plot"
   ],
   "metadata": {}
  },
  {
   "outputs": [],
   "cell_type": "code",
   "source": [
    "x = range(0, 2π, length = grid_B.nux)\n",
    "y = range(0, 2π, length = grid_B.nuy)\n",
    "using Plots #, Plotly\n",
    "anim = Animation()\n",
    "fig = plot(layout = (1, 2), size = (400, 800))\n",
    "@gif for i in 1:2:size(u_shock, 4)\n",
    "    p1 = surface(x, y, u_shock[:, :, 1, i], color = :viridis, cbar = false, xlabel = \"x\",\n",
    "        ylabel = \"y\", zlabel = \"u\", title = \"u field\", camera = (45, 45))\n",
    "    p2 = surface(x, y, v_shock[:, :, 1, i], color = :viridis, cbar = false, xlabel = \"x\",\n",
    "        ylabel = \"y\", zlabel = \"v\", title = \"v field\", camera = (45, 45))\n",
    "\n",
    "    title = \"Time $(round(i*saveat_shock, digits=2))\"\n",
    "    fig = plot(p1, p2, layout = (1, 2), title = title)\n",
    "    frame(anim, fig)\n",
    "end"
   ],
   "metadata": {},
   "execution_count": null
  },
  {
   "cell_type": "markdown",
   "source": [
    "Then there is a phase of shock dissipation"
   ],
   "metadata": {}
  },
  {
   "outputs": [],
   "cell_type": "code",
   "source": [
    "t_diss = 35.0f0\n",
    "dt_diss = 0.01f0\n",
    "trange_burn = (0.0f0, t_diss)\n",
    "saveat_diss = 0.4f0\n",
    "diss_CNODE = NeuralODE(f_CNODE,\n",
    "    trange_burn,\n",
    "    solver_algo,\n",
    "    adaptive = false,\n",
    "    dt = dt_diss,\n",
    "    saveat = saveat_diss);\n",
    "diss_CNODE_solution = Array(diss_CNODE(uv_shock, θ, st)[1])\n",
    "uv_diss = diss_CNODE_solution[:, :, end];\n",
    "u_diss = reshape(diss_CNODE_solution[1:(grid_B.Nu), :, :],\n",
    "    grid_B.nux,\n",
    "    grid_B.nuy,\n",
    "    size(diss_CNODE_solution, 2),\n",
    "    :)\n",
    "v_diss = reshape(diss_CNODE_solution[(grid_B.Nu + 1):end, :, :],\n",
    "    grid_B.nvx,\n",
    "    grid_B.nvy,\n",
    "    size(diss_CNODE_solution, 2),\n",
    "    :);\n",
    "anim = Animation()\n",
    "fig = plot(layout = (1, 2), size = (400, 800))\n",
    "@gif for i in 1:2:size(u_diss, 4)\n",
    "    p1 = surface(x, y, u_diss[:, :, 1, i], color = :viridis, cbar = false, xlabel = \"x\",\n",
    "        ylabel = \"y\", zlabel = \"u\", title = \"u field\", camera = (45, 45))\n",
    "    p2 = surface(x, y, v_diss[:, :, 1, i], color = :viridis, cbar = false, xlabel = \"x\",\n",
    "        ylabel = \"y\", zlabel = \"v\", title = \"v field\", camera = (45, 45))\n",
    "\n",
    "    title = \"Time $(round(i*saveat_diss, digits=2))\"\n",
    "    fig = plot(p1, p2, layout = (1, 2), title = title)\n",
    "    frame(anim, fig)\n",
    "end"
   ],
   "metadata": {},
   "execution_count": null
  },
  {
   "cell_type": "markdown",
   "source": [
    "And then the Burgers equation reaches a steady state"
   ],
   "metadata": {}
  },
  {
   "outputs": [],
   "cell_type": "code",
   "source": [
    "t_steady = 150.0f0\n",
    "dt_steady = 0.1f0\n",
    "trange_burn = (0.0f0, 100.0f0)\n",
    "saveat_steady = 2.0f0\n",
    "steady_CNODE = NeuralODE(f_CNODE,\n",
    "    trange_burn,\n",
    "    solver_algo,\n",
    "    adaptive = false,\n",
    "    dt = dt_steady,\n",
    "    saveat = saveat_steady);\n",
    "steady_CNODE_solution = Array(steady_CNODE(uv_diss, θ, st)[1])\n",
    "uv_steady = steady_CNODE_solution[:, :, end];\n",
    "u_steady = reshape(steady_CNODE_solution[1:(grid_B.Nu), :, :],\n",
    "    grid_B.nux,\n",
    "    grid_B.nuy,\n",
    "    size(steady_CNODE_solution, 2),\n",
    "    :)\n",
    "v_steady = reshape(steady_CNODE_solution[(grid_B.Nu + 1):end, :, :],\n",
    "    grid_B.nvx,\n",
    "    grid_B.nvy,\n",
    "    size(steady_CNODE_solution, 2),\n",
    "    :);\n",
    "anim = Animation()\n",
    "fig = plot(layout = (1, 2), size = (400, 800))\n",
    "@gif for i in 1:2:size(u_steady, 4)\n",
    "    p1 = surface(x, y, u_steady[:, :, 1, i], color = :viridis, cbar = false, xlabel = \"x\",\n",
    "        ylabel = \"y\", zlabel = \"u\", title = \"u field\", camera = (45, 45))\n",
    "    p2 = surface(x, y, v_steady[:, :, 1, i], color = :viridis, cbar = false, xlabel = \"x\",\n",
    "        ylabel = \"y\", zlabel = \"v\", title = \"v field\", camera = (45, 45))\n",
    "\n",
    "    title = \"Time $(round(i*saveat_steady, digits=2))\"\n",
    "    fig = plot(p1, p2, layout = (1, 2), title = title)\n",
    "    frame(anim, fig)\n",
    "end"
   ],
   "metadata": {},
   "execution_count": null
  },
  {
   "cell_type": "markdown",
   "source": [
    "Now plot the whole trajectory"
   ],
   "metadata": {}
  },
  {
   "outputs": [],
   "cell_type": "code",
   "source": [
    "u_total = cat(u_shock, u_diss, u_steady, dims = 4)\n",
    "v_total = cat(v_shock, v_diss, v_steady, dims = 4)\n",
    "t_total = vcat(0:saveat_shock:t_shock, t_shock:saveat_diss:(t_shock + t_diss),\n",
    "    (t_shock + t_diss):saveat_steady:(t_shock + t_diss + t_steady))\n",
    "label = [\"Shock\" for i in 1:size(u_shock, 4)]\n",
    "append!(label, [\"Dissipation\" for i in 1:size(u_diss, 4)])\n",
    "append!(label, [\"Steady\" for i in 1:size(u_steady, 4)])\n",
    "anim = Animation()\n",
    "fig = plot(layout = (1, 2), size = (400, 800))\n",
    "@gif for i in 1:2:size(u_total, 4)\n",
    "    p1 = surface(x, y, u_total[:, :, 1, i], color = :viridis, cbar = false, xlabel = \"x\",\n",
    "        ylabel = \"y\", zlabel = \"u\", title = \"u field\", camera = (45, 45))\n",
    "    p2 = surface(x, y, v_total[:, :, 1, i], color = :viridis, cbar = false, xlabel = \"x\",\n",
    "        ylabel = \"y\", zlabel = \"v\", title = \"v field\", camera = (45, 45))\n",
    "\n",
    "    title = \"Time $(round(t_total[i], digits=2)) $(label[i])\"\n",
    "    fig = plot(p1, p2, layout = (1, 2), title = title)\n",
    "    frame(anim, fig)\n",
    "end\n",
    "if isdir(\"./plots\")\n",
    "    gif(anim, \"plots/03.01_Burgers.gif\", fps = 8)\n",
    "else\n",
    "    gif(anim, \"examples/plots/03.01_Burgers.gif\", fps = 8)\n",
    "end"
   ],
   "metadata": {},
   "execution_count": null
  },
  {
   "cell_type": "markdown",
   "source": [
    "---\n",
    "\n",
    "*This notebook was generated using [Literate.jl](https://github.com/fredrikekre/Literate.jl).*"
   ],
   "metadata": {}
  }
 ],
 "nbformat_minor": 3,
 "metadata": {
  "language_info": {
   "file_extension": ".jl",
   "mimetype": "application/julia",
   "name": "julia",
   "version": "1.10.2"
  },
  "kernelspec": {
   "name": "julia-1.10",
   "display_name": "Julia 1.10.2",
   "language": "julia"
  }
 },
 "nbformat": 4
}
