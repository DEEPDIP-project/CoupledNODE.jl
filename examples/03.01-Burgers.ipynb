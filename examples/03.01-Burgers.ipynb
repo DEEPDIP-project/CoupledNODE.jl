{
 "cells": [
  {
   "outputs": [],
   "cell_type": "code",
   "source": [
    "const ArrayType = Array\n",
    "import DifferentialEquations: Tsit5\n",
    "const solver_algo = Tsit5()\n",
    "const MY_TYPE = Float32 # use float32 if you plan to use a GPU\n",
    "import CUDA # Test if CUDA is running\n",
    "if CUDA.functional()\n",
    "    CUDA.allowscalar(false)\n",
    "    const ArrayType = CuArray\n",
    "    import DiffEqGPU: GPUTsit5\n",
    "    const solver_algo = GPUTsit5()\n",
    "end"
   ],
   "metadata": {},
   "execution_count": null
  },
  {
   "cell_type": "markdown",
   "source": [
    "# Burgers equations\n",
    "In this example, we will solve the Burgers equation in 2D using the Neural ODEs framework. The Burgers equation is a fundamental equation in fluid dynamics and is given by:\n",
    "\\begin{equation}\n",
    "\\frac{\\partial u}{\\partial t} = - u \\frac{\\partial u}{\\partial x} - v \\frac{\\partial u}{\\partial y} + \\nu \\Delta u\n",
    "\\frac{\\partial v}{\\partial t} = - u \\frac{\\partial v}{\\partial x} - v \\frac{\\partial v}{\\partial y} + \\nu \\Delta v\n",
    "\\end{equation}\n",
    "where $\\bm{u} = \\left\\{u(x,y,t), v(x,y,t)\\right\\}$ is the velocity field, $\\nu$ is the viscosity coefficient, and $(x,y)$ and $t$ are the spatial and temporal coordinates, respectively. The equation is a non-linear partial differential equation that describes the evolution of a fluid flow in two spatial dimensions. The equation is named after Johannes Martinus Burgers, who introduced it in 1948 as a simplified model for turbulence."
   ],
   "metadata": {}
  },
  {
   "cell_type": "markdown",
   "source": [
    "We start by defining the right-hand side of the Burgers equation. We will use the finite difference method to compute the spatial derivatives.\n",
    "So the first step is to define the grid that we are going to use"
   ],
   "metadata": {}
  },
  {
   "outputs": [],
   "cell_type": "code",
   "source": [
    "import CoupledNODE: Grid\n",
    "dux = duy = dvx = dvy = 2π / 100\n",
    "nux = nuy = nvx = nvy = 100\n",
    "grid_B = Grid(dux, duy, nux, nuy, dvx, dvy, nvx, nvy, convert_to_float32 = true);"
   ],
   "metadata": {},
   "execution_count": null
  },
  {
   "cell_type": "markdown",
   "source": [
    "The following function constructs the right-hand side of the Burgers equation:"
   ],
   "metadata": {}
  },
  {
   "outputs": [],
   "cell_type": "code",
   "source": [
    "import CoupledNODE: Laplacian, first_derivatives\n",
    "using Zygote\n",
    "function create_burgers_rhs(grid, force_params)\n",
    "    ν = force_params[1]\n",
    "\n",
    "    function FG(u, v, grid)\n",
    "        du_dx, du_dy = first_derivatives(u, grid.dx, grid.dy)\n",
    "        dv_dx, dv_dy = first_derivatives(v, grid.dx, grid.dy)\n",
    "        F = Zygote.@ignore -u .* du_dx - v .* du_dy .+ ν * Laplacian(u)\n",
    "        G = Zygote.@ignore -u .* dv_dx - v .* dv_dy .+ ν * Laplacian(v)\n",
    "        return F, G\n",
    "    end\n",
    "    return FG\n",
    "end"
   ],
   "metadata": {},
   "execution_count": null
  },
  {
   "cell_type": "markdown",
   "source": [
    "Notice that compared to the Gray-Scott example we are returning a single function that computes both components of the force at the same time. This is because the Burgers equation is a system of two coupled PDEs so we want to avoid recomputing the derivatives a second time."
   ],
   "metadata": {}
  },
  {
   "cell_type": "markdown",
   "source": [
    "Let's set the parameters for the Burgers equation"
   ],
   "metadata": {}
  },
  {
   "outputs": [],
   "cell_type": "code",
   "source": [
    "ν = 0.0005f0"
   ],
   "metadata": {},
   "execution_count": null
  },
  {
   "cell_type": "markdown",
   "source": [
    "and we pack them into a tuple for the rhs Constructor"
   ],
   "metadata": {}
  },
  {
   "outputs": [],
   "cell_type": "code",
   "source": [
    "force_params = (ν,)"
   ],
   "metadata": {},
   "execution_count": null
  },
  {
   "cell_type": "markdown",
   "source": [
    "Now we can create the right-hand side of the NODE"
   ],
   "metadata": {}
  },
  {
   "outputs": [],
   "cell_type": "code",
   "source": [
    "FG = create_burgers_rhs(grid_B, force_params)\n",
    "include(\"./../coupling_functions/functions_NODE.jl\")\n",
    "f_CNODE = create_f_CNODE(create_burgers_rhs, force_params, grid_B; is_closed = false);\n",
    "import Random, LuxCUDA, Lux\n",
    "rng = Random.seed!(1234)\n",
    "θ, st = Lux.setup(rng, f_CNODE);"
   ],
   "metadata": {},
   "execution_count": null
  },
  {
   "cell_type": "markdown",
   "source": [
    "Now we create the initial condition for the Burgers equation. For this we will need some auxiliary functions (those function have been developed by Toby to handle 2 and 3 dimensions [TODO: test])"
   ],
   "metadata": {}
  },
  {
   "outputs": [],
   "cell_type": "code",
   "source": [
    "function construct_k(grid)"
   ],
   "metadata": {},
   "execution_count": null
  },
  {
   "cell_type": "markdown",
   "source": [
    "Get the number of dimensions"
   ],
   "metadata": {}
  },
  {
   "outputs": [],
   "cell_type": "code",
   "source": [
    "    dims = grid.Nd"
   ],
   "metadata": {},
   "execution_count": null
  },
  {
   "cell_type": "markdown",
   "source": [
    "Calculate the Fourier frequencies for each dimension"
   ],
   "metadata": {}
  },
  {
   "outputs": [],
   "cell_type": "code",
   "source": [
    "    k = [fftfreq(i, i) for i in (grid.Nu, grid.Nv)]"
   ],
   "metadata": {},
   "execution_count": null
  },
  {
   "cell_type": "markdown",
   "source": [
    "Create an array of ones with the same dimensions as the input"
   ],
   "metadata": {}
  },
  {
   "outputs": [],
   "cell_type": "code",
   "source": [
    "    some_ones = ones(grid.Nu, grid.Nv)"
   ],
   "metadata": {},
   "execution_count": null
  },
  {
   "cell_type": "markdown",
   "source": [
    "Initialize k_mats with the Fourier frequencies for the first dimension"
   ],
   "metadata": {}
  },
  {
   "outputs": [],
   "cell_type": "code",
   "source": [
    "    k_mats = some_ones .* k[1]\n",
    "    k_mats = reshape(k_mats, (size(k_mats)..., 1))"
   ],
   "metadata": {},
   "execution_count": null
  },
  {
   "cell_type": "markdown",
   "source": [
    "Loop over the remaining dimensions"
   ],
   "metadata": {}
  },
  {
   "outputs": [],
   "cell_type": "code",
   "source": [
    "    for i in 2:dims"
   ],
   "metadata": {},
   "execution_count": null
  },
  {
   "cell_type": "markdown",
   "source": [
    "Create a permutation of the dimensions where the current dimension is first"
   ],
   "metadata": {}
  },
  {
   "outputs": [],
   "cell_type": "code",
   "source": [
    "        original_dims = collect(1:dims)\n",
    "        permuted_dims = copy(original_dims)\n",
    "        permuted_dims[1], permuted_dims[i] = permuted_dims[i], permuted_dims[1]"
   ],
   "metadata": {},
   "execution_count": null
  },
  {
   "cell_type": "markdown",
   "source": [
    "Calculate the Fourier frequencies for the current dimension"
   ],
   "metadata": {}
  },
  {
   "outputs": [],
   "cell_type": "code",
   "source": [
    "        k_mat = permutedims(k[i] .* permutedims(some_ones, permuted_dims), permuted_dims)"
   ],
   "metadata": {},
   "execution_count": null
  },
  {
   "cell_type": "markdown",
   "source": [
    "Concatenate the Fourier frequencies for the current dimension to k_mats"
   ],
   "metadata": {}
  },
  {
   "outputs": [],
   "cell_type": "code",
   "source": [
    "        k_mats = cat(k_mats, k_mat, dims = dims + 1)\n",
    "    end"
   ],
   "metadata": {},
   "execution_count": null
  },
  {
   "cell_type": "markdown",
   "source": [
    "Return the multi-dimensional array of Fourier frequencies"
   ],
   "metadata": {}
  },
  {
   "outputs": [],
   "cell_type": "code",
   "source": [
    "    return k_mats\n",
    "end\n",
    "\n",
    "function gen_permutations(N)"
   ],
   "metadata": {},
   "execution_count": null
  },
  {
   "cell_type": "markdown",
   "source": [
    "Get the number of dimensions"
   ],
   "metadata": {}
  },
  {
   "outputs": [],
   "cell_type": "code",
   "source": [
    "    dims = length(N)"
   ],
   "metadata": {},
   "execution_count": null
  },
  {
   "cell_type": "markdown",
   "source": [
    "Create a grid for each dimension"
   ],
   "metadata": {}
  },
  {
   "outputs": [],
   "cell_type": "code",
   "source": [
    "    N_grid = [collect(1:n) for n in N]"
   ],
   "metadata": {},
   "execution_count": null
  },
  {
   "cell_type": "markdown",
   "source": [
    "Initialize an array of ones with the same dimensions as N"
   ],
   "metadata": {}
  },
  {
   "outputs": [],
   "cell_type": "code",
   "source": [
    "    sub_grid = ones(Int, N...)"
   ],
   "metadata": {},
   "execution_count": null
  },
  {
   "cell_type": "markdown",
   "source": [
    "Preallocate sub_grids with the final size"
   ],
   "metadata": {}
  },
  {
   "outputs": [],
   "cell_type": "code",
   "source": [
    "    sub_grids = Array{Int, dims + 1}(undef, (N..., dims))"
   ],
   "metadata": {},
   "execution_count": null
  },
  {
   "cell_type": "markdown",
   "source": [
    "Loop over the dimensions"
   ],
   "metadata": {}
  },
  {
   "outputs": [],
   "cell_type": "code",
   "source": [
    "    for i in 1:dims"
   ],
   "metadata": {},
   "execution_count": null
  },
  {
   "cell_type": "markdown",
   "source": [
    "Create a permutation of the dimensions where the current dimension is first"
   ],
   "metadata": {}
  },
  {
   "outputs": [],
   "cell_type": "code",
   "source": [
    "        permuted_dims = circshift(collect(1:dims), i - 1)"
   ],
   "metadata": {},
   "execution_count": null
  },
  {
   "cell_type": "markdown",
   "source": [
    "Calculate the permuted grid for the current dimension"
   ],
   "metadata": {}
  },
  {
   "outputs": [],
   "cell_type": "code",
   "source": [
    "        permuted_grid = permutedims(\n",
    "            N_grid[i] .* permutedims(sub_grid, permuted_dims), permuted_dims)"
   ],
   "metadata": {},
   "execution_count": null
  },
  {
   "cell_type": "markdown",
   "source": [
    "Assign the permuted grid to the corresponding slice of sub_grids"
   ],
   "metadata": {}
  },
  {
   "outputs": [],
   "cell_type": "code",
   "source": [
    "        sub_grids[:, :, i] = permuted_grid\n",
    "    end"
   ],
   "metadata": {},
   "execution_count": null
  },
  {
   "cell_type": "markdown",
   "source": [
    "Return the reshaped sub_grids"
   ],
   "metadata": {}
  },
  {
   "outputs": [],
   "cell_type": "code",
   "source": [
    "    return reshape(sub_grids, (prod(N)..., dims))\n",
    "end\n",
    "\n",
    "function construct_spectral_filter(k_mats, max_k)"
   ],
   "metadata": {},
   "execution_count": null
  },
  {
   "cell_type": "markdown",
   "source": [
    "Get the dimensions of k_mats without the last dimension"
   ],
   "metadata": {}
  },
  {
   "outputs": [],
   "cell_type": "code",
   "source": [
    "    N = size(k_mats)[1:(end - 1)]"
   ],
   "metadata": {},
   "execution_count": null
  },
  {
   "cell_type": "markdown",
   "source": [
    "Initialize the filter as an array of ones with the same dimensions as N"
   ],
   "metadata": {}
  },
  {
   "outputs": [],
   "cell_type": "code",
   "source": [
    "    filter = ones(N)"
   ],
   "metadata": {},
   "execution_count": null
  },
  {
   "cell_type": "markdown",
   "source": [
    "Calculate the square of the maximum frequency"
   ],
   "metadata": {}
  },
  {
   "outputs": [],
   "cell_type": "code",
   "source": [
    "    max_k_squared = max_k^2"
   ],
   "metadata": {},
   "execution_count": null
  },
  {
   "cell_type": "markdown",
   "source": [
    "Loop over all permutations of the dimensions"
   ],
   "metadata": {}
  },
  {
   "outputs": [],
   "cell_type": "code",
   "source": [
    "    for i in CartesianIndices(N)"
   ],
   "metadata": {},
   "execution_count": null
  },
  {
   "cell_type": "markdown",
   "source": [
    "Calculate the square of the Euclidean norm of the Fourier frequencies for the current permutation"
   ],
   "metadata": {}
  },
  {
   "outputs": [],
   "cell_type": "code",
   "source": [
    "        k_squared = sum(k_mats[i] .^ 2)"
   ],
   "metadata": {},
   "execution_count": null
  },
  {
   "cell_type": "markdown",
   "source": [
    "If the square of the Euclidean norm is greater than or equal to the square of the maximum frequency, set the corresponding element of the filter to 0"
   ],
   "metadata": {}
  },
  {
   "outputs": [],
   "cell_type": "code",
   "source": [
    "        if k_squared >= max_k_squared\n",
    "            filter[i] = 0\n",
    "        end\n",
    "    end"
   ],
   "metadata": {},
   "execution_count": null
  },
  {
   "cell_type": "markdown",
   "source": [
    "Return the filter"
   ],
   "metadata": {}
  },
  {
   "outputs": [],
   "cell_type": "code",
   "source": [
    "    return filter\n",
    "end\n",
    "\n",
    "function generate_random_field(grid, max_k; norm = 1, samples = (1, 1))"
   ],
   "metadata": {},
   "execution_count": null
  },
  {
   "cell_type": "markdown",
   "source": [
    "Get the number of dimensions"
   ],
   "metadata": {}
  },
  {
   "outputs": [],
   "cell_type": "code",
   "source": [
    "    dims = grid.N"
   ],
   "metadata": {},
   "execution_count": null
  },
  {
   "cell_type": "markdown",
   "source": [
    "Construct the Fourier frequencies and the spectral filter"
   ],
   "metadata": {}
  },
  {
   "outputs": [],
   "cell_type": "code",
   "source": [
    "    k = construct_k(grid)\n",
    "    filter = construct_spectral_filter(k, max_k)"
   ],
   "metadata": {},
   "execution_count": null
  },
  {
   "cell_type": "markdown",
   "source": [
    "Generate random coefficients in Fourier space"
   ],
   "metadata": {}
  },
  {
   "outputs": [],
   "cell_type": "code",
   "source": [
    "    coefs = (rand(Uniform(-1, 1), (dims..., samples...)) +\n",
    "             rand(Uniform(-1, 1), (dims..., samples...)) * (0 + 1im))"
   ],
   "metadata": {},
   "execution_count": null
  },
  {
   "cell_type": "markdown",
   "source": [
    "Apply the spectral filter and transform back to real space"
   ],
   "metadata": {}
  },
  {
   "outputs": [],
   "cell_type": "code",
   "source": [
    "    result = real(ifft(filter .* coefs, dims))"
   ],
   "metadata": {},
   "execution_count": null
  },
  {
   "cell_type": "markdown",
   "source": [
    "Normalize the result"
   ],
   "metadata": {}
  },
  {
   "outputs": [],
   "cell_type": "code",
   "source": [
    "    energy = sum(result .^ 2) / prod(dims)\n",
    "    result = result / sqrt(energy) * norm\n",
    "    return result\n",
    "end"
   ],
   "metadata": {},
   "execution_count": null
  },
  {
   "cell_type": "markdown",
   "source": [
    "then we can generate the initial conditions"
   ],
   "metadata": {}
  },
  {
   "outputs": [],
   "cell_type": "code",
   "source": [
    "max_k = 10\n",
    "energy_norm = 1\n",
    "number_of_simulations = 5\n",
    "uv0 = generate_random_field(grid_B,\n",
    "    max_k,\n",
    "    norm = energy_norm,\n",
    "    samples = (1, number_of_simulations)\n",
    ")"
   ],
   "metadata": {},
   "execution_count": null
  },
  {
   "cell_type": "markdown",
   "source": [
    "Short *burnout run* to get rid of the initial artifacts"
   ],
   "metadata": {}
  },
  {
   "outputs": [],
   "cell_type": "code",
   "source": [
    "trange_burn = (0.0f0, 10.0f0)\n",
    "dt, saveat = (1e-2, 5)\n",
    "burnout_CNODE = NeuralODE(f_CNODE,\n",
    "    trange_burn,\n",
    "    solver_algo,\n",
    "    adaptive = false,\n",
    "    dt = dt,\n",
    "    saveat = saveat);\n",
    "burnout_CNODE_solution = Array(burnout_CNODE(uv0, θ, st)[1]);"
   ],
   "metadata": {},
   "execution_count": null
  },
  {
   "cell_type": "markdown",
   "source": [
    "We want to solve the convection diffusion equation"
   ],
   "metadata": {}
  },
  {
   "cell_type": "markdown",
   "source": [
    "this is the equation we want to solve"
   ],
   "metadata": {}
  },
  {
   "cell_type": "markdown",
   "source": [
    "write it as a system of first order ODEs"
   ],
   "metadata": {}
  },
  {
   "cell_type": "markdown",
   "source": [
    "create the grid"
   ],
   "metadata": {}
  },
  {
   "outputs": [],
   "cell_type": "code",
   "source": [
    "x = collect(LinRange(-pi, pi, 101))\n",
    "y = collect(LinRange(-pi, pi, 101))"
   ],
   "metadata": {},
   "execution_count": null
  },
  {
   "cell_type": "markdown",
   "source": [
    "so we get this dx and dy (constant grid)"
   ],
   "metadata": {}
  },
  {
   "outputs": [],
   "cell_type": "code",
   "source": [
    "dx = x[2] - x[1]\n",
    "dy = y[2] - y[1]"
   ],
   "metadata": {},
   "execution_count": null
  },
  {
   "cell_type": "markdown",
   "source": [
    "and the initial condition is random"
   ],
   "metadata": {}
  },
  {
   "outputs": [],
   "cell_type": "code",
   "source": [
    "c0 = rand(101, 101)"
   ],
   "metadata": {},
   "execution_count": null
  },
  {
   "cell_type": "markdown",
   "source": [
    "which is a scalar field because we are looking for the concentration of a single species"
   ],
   "metadata": {}
  },
  {
   "cell_type": "markdown",
   "source": [
    "the user specifies this equation"
   ],
   "metadata": {}
  },
  {
   "outputs": [],
   "cell_type": "code",
   "source": [
    "function gen_conv_diff_f(speed, viscosity, dx, dy)"
   ],
   "metadata": {},
   "execution_count": null
  },
  {
   "cell_type": "markdown",
   "source": [
    "Derivatives using finite differences"
   ],
   "metadata": {}
  },
  {
   "outputs": [],
   "cell_type": "code",
   "source": [
    "    function first_derivative(u, Δx, Δy)\n",
    "        du_dx = zeros(size(u))\n",
    "        du_dy = zeros(size(u))\n",
    "\n",
    "        du_dx[:, 2:(end - 1)] = (u[:, 3:end] - u[:, 1:(end - 2)]) / (2 * Δx)\n",
    "        du_dx[:, 1] = (u[:, 2] - u[:, end]) / (2 * Δx)\n",
    "        du_dx[:, end] = (u[:, 1] - u[:, end - 1]) / (2 * Δx)\n",
    "\n",
    "        du_dy[2:(end - 1), :] = (u[3:end, :] - u[1:(end - 2), :]) / (2 * Δy)\n",
    "        du_dy[1, :] = (u[2, :] - u[end, :]) / (2 * Δy)\n",
    "        du_dy[end, :] = (u[1, :] - u[end - 1, :]) / (2 * Δy)\n",
    "\n",
    "        return du_dx, du_dy\n",
    "    end\n",
    "    function second_derivative(u, Δx, Δy)\n",
    "        d2u_dx2 = zeros(size(u))\n",
    "        d2u_dy2 = zeros(size(u))\n",
    "\n",
    "        d2u_dx2[:, 2:(end - 1)] = (u[:, 3:end] - 2 * u[:, 2:(end - 1)] +\n",
    "                                   u[:, 1:(end - 2)]) / (Δx^2)\n",
    "        d2u_dx2[:, 1] = (u[:, 2] - 2 * u[:, 1] + u[:, end]) / (Δx^2)\n",
    "        d2u_dx2[:, end] = (u[:, 1] - 2 * u[:, end] + u[:, end - 1]) / (Δx^2)\n",
    "\n",
    "        d2u_dy2[2:(end - 1), :] = (u[3:end, :] - 2 * u[2:(end - 1), :] +\n",
    "                                   u[1:(end - 2), :]) / (Δy^2)\n",
    "        d2u_dy2[1, :] = (u[2, :] - 2 * u[1, :] + u[end, :]) / (Δy^2)\n",
    "        d2u_dy2[end, :] = (u[1, :] - 2 * u[end, :] + u[end - 1, :]) / (Δy^2)\n",
    "\n",
    "        return d2u_dx2, d2u_dy2\n",
    "    end"
   ],
   "metadata": {},
   "execution_count": null
  },
  {
   "cell_type": "markdown",
   "source": [
    "Convection-diffusion equation"
   ],
   "metadata": {}
  },
  {
   "outputs": [],
   "cell_type": "code",
   "source": [
    "    function f_cd(u,\n",
    "            t,\n",
    "            ddx_dy = first_derivative,\n",
    "            d2dx2_d2dy2 = second_derivative,\n",
    "            viscosity = viscosity,\n",
    "            speed = speed,\n",
    "            dx = dx,\n",
    "            dy = dy)\n",
    "        du_dx, du_dy = ddx_ddy(u, dx, dy)\n",
    "        d2u_dx2, d2u_dy2 = d2dx2_d2dy2(u, dx, dy)\n",
    "        return -speed[1] * du_dx - speed[2] * du_dy .+ viscosity[1] * d2u_dx2 .+\n",
    "               viscosity[2] * d2u_dy2\n",
    "    end\n",
    "    return f_cd\n",
    "end"
   ],
   "metadata": {},
   "execution_count": null
  },
  {
   "cell_type": "markdown",
   "source": [
    "So this is the force"
   ],
   "metadata": {}
  },
  {
   "outputs": [],
   "cell_type": "code",
   "source": [
    "f_cd(u) = gen_conv_diff_f([0.1, 0.1], [0.00001, 0.00001], dx, dy)"
   ],
   "metadata": {},
   "execution_count": null
  },
  {
   "cell_type": "markdown",
   "source": [
    "create the NN"
   ],
   "metadata": {}
  },
  {
   "outputs": [],
   "cell_type": "code",
   "source": [
    "NN = create_nn_cd()"
   ],
   "metadata": {},
   "execution_count": null
  },
  {
   "cell_type": "markdown",
   "source": [
    "* We create the right hand side of the NODE, by combining the NN with f_u"
   ],
   "metadata": {}
  },
  {
   "outputs": [],
   "cell_type": "code",
   "source": [
    "f_NODE = create_NODE_cd(NN, p; is_closed = true)"
   ],
   "metadata": {},
   "execution_count": null
  },
  {
   "cell_type": "markdown",
   "source": [
    "and get the parametrs that you want to train"
   ],
   "metadata": {}
  },
  {
   "outputs": [],
   "cell_type": "code",
   "source": [
    "θ, st = Lux.setup(rng, f_NODE)"
   ],
   "metadata": {},
   "execution_count": null
  },
  {
   "cell_type": "markdown",
   "source": [
    "---\n",
    "\n",
    "*This notebook was generated using [Literate.jl](https://github.com/fredrikekre/Literate.jl).*"
   ],
   "metadata": {}
  }
 ],
 "nbformat_minor": 3,
 "metadata": {
  "language_info": {
   "file_extension": ".jl",
   "mimetype": "application/julia",
   "name": "julia",
   "version": "1.10.2"
  },
  "kernelspec": {
   "name": "julia-1.10",
   "display_name": "Julia 1.10.2",
   "language": "julia"
  }
 },
 "nbformat": 4
}
