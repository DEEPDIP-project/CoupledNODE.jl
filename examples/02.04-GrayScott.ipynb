{
 "cells": [
  {
   "outputs": [],
   "cell_type": "code",
   "source": [
    "const ArrayType = Array\n",
    "import DifferentialEquations: Tsit5\n",
    "const solver_algo = Tsit5()\n",
    "const MY_TYPE = Float32 # use float32 if you plan to use a GPU\n",
    "import CUDA # Test if CUDA is running\n",
    "if CUDA.functional()\n",
    "    CUDA.allowscalar(false)\n",
    "    const ArrayType = CuArray\n",
    "    import DiffEqGPU: GPUTsit5\n",
    "    const solver_algo = GPUTsit5()\n",
    "end"
   ],
   "metadata": {},
   "execution_count": null
  },
  {
   "cell_type": "markdown",
   "source": [
    "# Learning a closure for the Gray-Scott model when using a coarser grid for $v$\n",
    "In this example, we want to learn a closure to the Gray-Scott model using a Neural Network. Here we use a **coarser grid only on $v$**, while we keep the **fine grid for $u$**.\n",
    "## Exact solution in *fine* grid - DNS\n",
    "We run multiple GS simulations as discussed in the previous part.\n",
    "*Note:* the *fine* grid is only 40 cells per side to speed up the example."
   ],
   "metadata": {}
  },
  {
   "outputs": [],
   "cell_type": "code",
   "source": [
    "dux = duy = dvx = dvy = 1.0f0\n",
    "nux = nuy = nvx = nvy = 40\n",
    "import CoupledNODE: Grid, Laplacian\n",
    "grid_GS_u = Grid(dim = 2, dx = dux, nx = nux, dy = duy, ny = nuy)\n",
    "grid_GS_v = Grid(dim = 2, dx = dvx, nx = nvx, dy = dvy, ny = nvy)"
   ],
   "metadata": {},
   "execution_count": null
  },
  {
   "cell_type": "markdown",
   "source": [
    "Let's define the initial condition as a random perturbation over a constant background to add variety."
   ],
   "metadata": {}
  },
  {
   "outputs": [],
   "cell_type": "code",
   "source": [
    "function initial_condition(grid_u, grid_v, U₀, V₀, ε_u, ε_v; nsimulations = 1)\n",
    "    u_init = U₀ .+ ε_u .* randn(grid_u.nx, grid_u.ny, nsimulations)\n",
    "    v_init = V₀ .+ ε_v .* randn(grid_v.nx, grid_v.ny, nsimulations)\n",
    "    return u_init, v_init\n",
    "end\n",
    "U₀ = 0.5f0    # initial concentration of u\n",
    "V₀ = 0.25f0   # initial concentration of v\n",
    "ε_u = 0.05f0  # magnitude of the perturbation on u\n",
    "ε_v = 0.1f0   # magnitude of the perturbation on v\n",
    "u_initial, v_initial = initial_condition(\n",
    "    grid_GS_u, grid_GS_v, U₀, V₀, ε_u, ε_v, nsimulations = 4);"
   ],
   "metadata": {},
   "execution_count": null
  },
  {
   "cell_type": "markdown",
   "source": [
    "We can now define the initial condition as a flattened concatenated array."
   ],
   "metadata": {}
  },
  {
   "outputs": [],
   "cell_type": "code",
   "source": [
    "uv0 = MY_TYPE.(vcat(\n",
    "    reshape(u_initial, grid_GS_u.N, :), reshape(v_initial, grid_GS_v.nx * grid_GS_v.ny, :)));"
   ],
   "metadata": {},
   "execution_count": null
  },
  {
   "cell_type": "markdown",
   "source": [
    "From the literature, we have selected the following parameters in order to form nice patterns"
   ],
   "metadata": {}
  },
  {
   "outputs": [],
   "cell_type": "code",
   "source": [
    "D_u = 0.16f0\n",
    "D_v = 0.08f0\n",
    "f = 0.055f0\n",
    "k = 0.062f0;"
   ],
   "metadata": {},
   "execution_count": null
  },
  {
   "cell_type": "markdown",
   "source": [
    "Definiton of the right-hand-sides (RHS) of GS model"
   ],
   "metadata": {}
  },
  {
   "outputs": [],
   "cell_type": "code",
   "source": [
    "import Zygote\n",
    "function F_u(u, v)\n",
    "    Zygote.@ignore MY_TYPE.(D_u * Laplacian(u, grid_GS_u.dx, grid_GS_u.dy) .- u .* v .^ 2 .+\n",
    "                            f .* (1.0f0 .- u))\n",
    "end\n",
    "function G_v(u, v)\n",
    "    Zygote.@ignore MY_TYPE.(D_v * Laplacian(v, grid_GS_v.dx, grid_GS_v.dy) .+ u .* v .^ 2 .-\n",
    "                            (f + k) .* v)\n",
    "end"
   ],
   "metadata": {},
   "execution_count": null
  },
  {
   "cell_type": "markdown",
   "source": [
    "Definition of the model"
   ],
   "metadata": {}
  },
  {
   "outputs": [],
   "cell_type": "code",
   "source": [
    "import CoupledNODE: create_f_CNODE\n",
    "f_CNODE = create_f_CNODE((F_u, G_v), (grid_GS_u, grid_GS_v); is_closed = false);\n",
    "import Random, LuxCUDA, Lux\n",
    "rng = Random.seed!(1234)\n",
    "θ, st = Lux.setup(rng, f_CNODE);"
   ],
   "metadata": {},
   "execution_count": null
  },
  {
   "cell_type": "markdown",
   "source": [
    "Short *burnout run* to get rid of the initial artifacts"
   ],
   "metadata": {}
  },
  {
   "outputs": [],
   "cell_type": "code",
   "source": [
    "trange_burn = (0.0f0, 50.0f0)\n",
    "dt, saveat = (1e-2, 1)\n",
    "using DiffEqFlux: NeuralODE\n",
    "full_CNODE = NeuralODE(f_CNODE,\n",
    "    trange_burn,\n",
    "    solver_algo,\n",
    "    adaptive = false,\n",
    "    dt = dt,\n",
    "    saveat = saveat);\n",
    "burnout_data = Array(full_CNODE(uv0, θ, st)[1]);"
   ],
   "metadata": {},
   "execution_count": null
  },
  {
   "cell_type": "markdown",
   "source": [
    "Second burnout with larger timesteps"
   ],
   "metadata": {}
  },
  {
   "outputs": [],
   "cell_type": "code",
   "source": [
    "trange_burn = (0.0f0, 100.0f0)\n",
    "dt, saveat = (1, 50)\n",
    "full_CNODE = NeuralODE(f_CNODE,\n",
    "    trange_burn,\n",
    "    solver_algo,\n",
    "    adaptive = false,\n",
    "    dt = dt,\n",
    "    saveat = saveat);\n",
    "burnout_data = Array(full_CNODE(burnout_data[:, :, end], θ, st)[1]);"
   ],
   "metadata": {},
   "execution_count": null
  },
  {
   "cell_type": "markdown",
   "source": [
    "u = reshape(\n",
    "    burnout_data[1:(grid_GS_u.N), :, :], grid_GS_u.nx, grid_GS_u.ny, size(burnout_data)[end], :);\n",
    "v = reshape(burnout_data[(grid_GS_v.N + 1):end, :, :],\n",
    "    grid_GS_v.nx,\n",
    "    grid_GS_v.ny,\n",
    "    size(burnout_data)[end],\n",
    "    :);"
   ],
   "metadata": {}
  },
  {
   "cell_type": "markdown",
   "source": [
    "### Data collection run - exact solution in *fine* grid\n",
    "We use the output of the burnout to start a longer simulation."
   ],
   "metadata": {}
  },
  {
   "outputs": [],
   "cell_type": "code",
   "source": [
    "uv0 = burnout_data[:, :, end];\n",
    "trange = (0.0f0, 2500.0f0);"
   ],
   "metadata": {},
   "execution_count": null
  },
  {
   "cell_type": "markdown",
   "source": [
    "for this data production run, we set `dt=1` and we sample every step."
   ],
   "metadata": {}
  },
  {
   "outputs": [],
   "cell_type": "code",
   "source": [
    "dt, saveat = (0.1, 0.1);\n",
    "full_CNODE = NeuralODE(\n",
    "    f_CNODE, trange, solver_algo, adaptive = false, dt = dt, saveat = saveat);\n",
    "reference_data = Array(full_CNODE(uv0, θ, st)[1]);"
   ],
   "metadata": {},
   "execution_count": null
  },
  {
   "cell_type": "markdown",
   "source": [
    "And we unpack the solution to get the two species from"
   ],
   "metadata": {}
  },
  {
   "outputs": [],
   "cell_type": "code",
   "source": [
    "u = reshape(reference_data[1:(grid_GS_u.N), :, :],\n",
    "    grid_GS_u.nx,\n",
    "    grid_GS_u.ny,\n",
    "    :,\n",
    "    size(reference_data)[end]);\n",
    "v = reshape(reference_data[(grid_GS_v.N + 1):end, :, :],\n",
    "    grid_GS_v.nx,\n",
    "    grid_GS_v.ny,\n",
    "    :,\n",
    "    size(reference_data)[end]);"
   ],
   "metadata": {},
   "execution_count": null
  },
  {
   "cell_type": "markdown",
   "source": [
    "### Plot the data of the exact solution in the *fine* grid (DNS)"
   ],
   "metadata": {}
  },
  {
   "outputs": [],
   "cell_type": "code",
   "source": [
    "using Plots, Plots.PlotMeasures\n",
    "anim = Animation()\n",
    "fig = plot(layout = (3, 2), size = (600, 900))\n",
    "@gif for i in 1:1000:size(u)[end]\n",
    "    p1 = heatmap(u[:, :, 1, i],\n",
    "        axis = false,\n",
    "        cbar = false,\n",
    "        aspect_ratio = 1,\n",
    "        color = :reds,\n",
    "        title = \"u(x,y)\")\n",
    "    p2 = heatmap(v[:, :, 1, i],\n",
    "        axis = false,\n",
    "        cbar = false,\n",
    "        aspect_ratio = 1,\n",
    "        color = :blues,\n",
    "        title = \"v(x,y)\")\n",
    "    p3 = heatmap(u[:, :, 2, i], axis = false, cbar = false, aspect_ratio = 1, color = :reds)\n",
    "    p4 = heatmap(v[:, :, 2, i],\n",
    "        axis = false,\n",
    "        cbar = false,\n",
    "        aspect_ratio = 1,\n",
    "        color = :blues)\n",
    "    p5 = heatmap(u[:, :, 3, i], axis = false, cbar = false, aspect_ratio = 1, color = :reds)\n",
    "    p6 = heatmap(v[:, :, 3, i],\n",
    "        axis = false,\n",
    "        cbar = false,\n",
    "        aspect_ratio = 1,\n",
    "        color = :blues)\n",
    "    time = round(i * saveat, digits = 0)\n",
    "    fig = plot(p1, p2, p3, p4, p5, p6, layout = (3, 2),\n",
    "        plot_title = \"time = $(time)\", margin = 0mm)\n",
    "    frame(anim, fig)\n",
    "end\n",
    "if isdir(\"./plots\")\n",
    "    gif(anim, \"./plots/02.04-DNS.gif\", fps = 10)\n",
    "else\n",
    "    gif(anim, \"examples/plots/02.04-DNS.gif\", fps = 10)\n",
    "end"
   ],
   "metadata": {},
   "execution_count": null
  },
  {
   "cell_type": "markdown",
   "source": [
    "## Exact solution in a *coarse* grid for $v$ - LES\n",
    "Let's solve the model in a *coarse* grid for $v$.\n",
    "### Collect the LES data: *coarse* grid\n",
    "We redefine the grid parameters in order to have a coarser grid for $v$."
   ],
   "metadata": {}
  },
  {
   "outputs": [],
   "cell_type": "code",
   "source": [
    "nvx = nvy = 30\n",
    "dvx = nux * dux / nvx\n",
    "dvy = nuy * duy / nvy\n",
    "coarse_grid = Grid(dim = 2, dx = dvx, nx = nvx, dy = dvy, ny = nvy)"
   ],
   "metadata": {},
   "execution_count": null
  },
  {
   "cell_type": "markdown",
   "source": [
    "Since the grid of $u$ is finer than the grid of $v$ we need to define two operations to transform"
   ],
   "metadata": {}
  },
  {
   "outputs": [],
   "cell_type": "code",
   "source": [
    "#$v$ to the grid of $u$ prior to the force calculation and to transform the results of $v$ back to the coarser grid. This is specific to out problem, but `create_f_CNODE` allows us to define operaitons that have to take place prior and after the force calculation.\n",
    "import Lux: Chain, Upsample, MeanPool, SkipConnection\n",
    "\"\"\"\n",
    "    upscale_v(grid_u, grid_v)\n",
    "\n",
    "Generates a function that upscales `v` to the grid of `u`."
   ],
   "metadata": {},
   "execution_count": null
  },
  {
   "cell_type": "markdown",
   "source": [
    "Arguments"
   ],
   "metadata": {}
  },
  {
   "outputs": [],
   "cell_type": "code",
   "source": [
    "- `grid_u`: The spatial grid of component `u`.\n",
    "- `grid_v`: The spatial grid of component`v`."
   ],
   "metadata": {},
   "execution_count": null
  },
  {
   "cell_type": "markdown",
   "source": [
    "Returns"
   ],
   "metadata": {}
  },
  {
   "outputs": [],
   "cell_type": "code",
   "source": [
    "A `Chain` object that upscales v, expects as input a tuple `(u, v)` and returns a tuple `(u, v)` with  `v` upscaled to the grid of `u`.\n",
    "\"\"\"\n",
    "function upscale_v(grid_u, grid_v)\n",
    "    up_v = Chain(\n",
    "        uv -> let u = uv[1], v = uv[2]"
   ],
   "metadata": {},
   "execution_count": null
  },
  {
   "cell_type": "markdown",
   "source": [
    "reshape v on the grid"
   ],
   "metadata": {}
  },
  {
   "outputs": [],
   "cell_type": "code",
   "source": [
    "            v = reshape(v, grid_v.nx, grid_v.ny, 1, size(v)[end])\n",
    "            v\n",
    "        end,\n",
    "        Upsample(:trilinear, size = (grid_u.nx, grid_u.ny)))\n",
    "    return Chain(SkipConnection(up_v,\n",
    "        (v_up, uv) -> let u = uv[1]"
   ],
   "metadata": {},
   "execution_count": null
  },
  {
   "cell_type": "markdown",
   "source": [
    "get rid of batch dimension to match u dimensions"
   ],
   "metadata": {}
  },
  {
   "outputs": [],
   "cell_type": "code",
   "source": [
    "            v_up = reshape(v_up, grid_u.nx, grid_u.ny, size(v_up)[end])\n",
    "            [u, v_up]\n",
    "        end))\n",
    "end\n",
    "\n",
    "\"\"\"\n",
    "    downscale_v(grid_u, grid_v)\n",
    "\n",
    "Generates a fucntion that downscales the `v` component from `grid_u` to `grid_v`."
   ],
   "metadata": {},
   "execution_count": null
  },
  {
   "cell_type": "markdown",
   "source": [
    "Arguments"
   ],
   "metadata": {}
  },
  {
   "outputs": [],
   "cell_type": "code",
   "source": [
    "- `grid_u`: The spatial grid of component `u`.\n",
    "- `grid_v`: The spatial grid of component`v`."
   ],
   "metadata": {},
   "execution_count": null
  },
  {
   "cell_type": "markdown",
   "source": [
    "Returns"
   ],
   "metadata": {}
  },
  {
   "outputs": [],
   "cell_type": "code",
   "source": [
    "A `Chain` object representing the downscaling operation, expects as input a tuple `(u, v)` and returns  the linearized concatenation of u and v.\n",
    "\"\"\"\n",
    "function downscale_v(grid_u, grid_v)\n",
    "    dw_v = Chain("
   ],
   "metadata": {},
   "execution_count": null
  },
  {
   "cell_type": "markdown",
   "source": [
    "extract only the v component"
   ],
   "metadata": {}
  },
  {
   "outputs": [],
   "cell_type": "code",
   "source": [
    "        uv -> let v = uv[2]"
   ],
   "metadata": {},
   "execution_count": null
  },
  {
   "cell_type": "markdown",
   "source": [
    "to apply upsample you need a 4th dumb dimension to represent the channels/batch"
   ],
   "metadata": {}
  },
  {
   "outputs": [],
   "cell_type": "code",
   "source": [
    "            v = reshape(v, size(v, 1), size(v, 2), size(v, 3), 1)\n",
    "            v\n",
    "        end,"
   ],
   "metadata": {},
   "execution_count": null
  },
  {
   "cell_type": "markdown",
   "source": [
    "to downscale we first have to upscale to twice the target size"
   ],
   "metadata": {}
  },
  {
   "outputs": [],
   "cell_type": "code",
   "source": [
    "        Upsample(:trilinear, size = (2 * grid_v.nx, 2 * grid_v.ny)),\n",
    "        MeanPool((2, 2)))\n",
    "    return Chain(SkipConnection(dw_v,\n",
    "        (v_dw, uv) -> let u = uv[1]"
   ],
   "metadata": {},
   "execution_count": null
  },
  {
   "cell_type": "markdown",
   "source": [
    "make u and v linear removing the dumb dimension"
   ],
   "metadata": {}
  },
  {
   "outputs": [],
   "cell_type": "code",
   "source": [
    "            nbatch = size(u)[end]\n",
    "            u = reshape(u, grid_u.nx, grid_u.ny, nbatch)\n",
    "            v = reshape(v_dw, grid_v.nx, grid_v.ny, nbatch)\n",
    "            (u, v)\n",
    "        end))\n",
    "end"
   ],
   "metadata": {},
   "execution_count": null
  },
  {
   "cell_type": "markdown",
   "source": [
    "Define our upscaler and downscaler functions"
   ],
   "metadata": {}
  },
  {
   "outputs": [],
   "cell_type": "code",
   "source": [
    "upscaler_v = upscale_v(grid_GS_u, coarse_grid)\n",
    "downscaler_v = downscale_v(grid_GS_u, coarse_grid)"
   ],
   "metadata": {},
   "execution_count": null
  },
  {
   "cell_type": "markdown",
   "source": [
    "Let's see what happens if we use a non-closed model on a smaller grid\n",
    "(we are not using any NN here)."
   ],
   "metadata": {}
  },
  {
   "outputs": [],
   "cell_type": "code",
   "source": [
    "using Images\n",
    "f_coarse_CNODE = create_f_CNODE(\n",
    "    (F_u, G_v), (grid_GS_u, coarse_grid), pre_force = upscaler_v,\n",
    "    post_force = downscaler_v; is_closed = false)\n",
    "θ, st = Lux.setup(rng, f_coarse_CNODE);\n",
    "uv0 = burnout_data[:, :, end];\n",
    "u0b = reshape(uv0[1:(grid_GS_u.N), :], grid_GS_u.nx, grid_GS_u.ny, :);\n",
    "v0b = reshape(uv0[(grid_GS_v.N + 1):end, :], grid_GS_v.nx, grid_GS_v.ny, :);\n",
    "v0_coarse = imresize(v0b, (coarse_grid.nx, coarse_grid.ny));\n",
    "uv0_coarse = vcat(reshape(u0b, grid_GS_u.N, :), reshape(v0_coarse, coarse_grid.N, :));"
   ],
   "metadata": {},
   "execution_count": null
  },
  {
   "cell_type": "markdown",
   "source": [
    "### Define model without closure: LES"
   ],
   "metadata": {}
  },
  {
   "outputs": [],
   "cell_type": "code",
   "source": [
    "les_CNODE = NeuralODE(f_coarse_CNODE,\n",
    "    trange,\n",
    "    solver_algo,\n",
    "    adaptive = false,\n",
    "    dt = dt,\n",
    "    saveat = saveat);\n",
    "les_solution = Array(les_CNODE(uv0_coarse, θ, st)[1]);\n",
    "u_les = reshape(les_solution[1:(grid_GS_u.N), :, :],\n",
    "    grid_GS_u.nx,\n",
    "    grid_GS_u.ny,\n",
    "    :,\n",
    "    size(les_solution)[end]);\n",
    "v_les = reshape(les_solution[(grid_GS_u.N + 1):end, :, :],\n",
    "    coarse_grid.nx,\n",
    "    coarse_grid.ny,\n",
    "    :,\n",
    "    size(les_solution)[end]);"
   ],
   "metadata": {},
   "execution_count": null
  },
  {
   "cell_type": "markdown",
   "source": [
    "### Plot the results of LES (no closure)"
   ],
   "metadata": {}
  },
  {
   "outputs": [],
   "cell_type": "code",
   "source": [
    "anim = Animation()\n",
    "fig = plot(layout = (3, 5), size = (500, 300))\n",
    "@gif for i in 1:1000:size(u_les)[end]\n",
    "    p1 = heatmap(u_les[:, :, 1, i],\n",
    "        axis = false,\n",
    "        cbar = false,\n",
    "        aspect_ratio = 1,\n",
    "        color = :reds,\n",
    "        title = \"u(x,y) [C]\")\n",
    "    p2 = heatmap(v_les[:, :, 1, i],\n",
    "        axis = false,\n",
    "        cbar = false,\n",
    "        aspect_ratio = 1,\n",
    "        color = :blues,\n",
    "        title = \"v(x,y) [C]\")\n",
    "    p3 = heatmap(u[:, :, 1, i],\n",
    "        axis = false,\n",
    "        cbar = false,\n",
    "        aspect_ratio = 1,\n",
    "        color = :reds,\n",
    "        title = \"u(x,y) [F]\")\n",
    "    p4 = heatmap(v[:, :, 1, i],\n",
    "        axis = false,\n",
    "        cbar = false,\n",
    "        aspect_ratio = 1,\n",
    "        color = :blues,\n",
    "        title = \"v(x,y) [F]\")\n",
    "    e = u_les[:, :, 1, i] .- u[:, :, 1, i]\n",
    "    p5 = heatmap(e,\n",
    "        axis = false,\n",
    "        cbar = false,\n",
    "        aspect_ratio = 1,\n",
    "        color = :greens,\n",
    "        title = \"u-Diff\")\n",
    "    p6 = heatmap(u_les[:, :, 2, i],\n",
    "        axis = false,\n",
    "        cbar = false,\n",
    "        aspect_ratio = 1,\n",
    "        color = :reds)\n",
    "    p7 = heatmap(v_les[:, :, 2, i],\n",
    "        axis = false,\n",
    "        cbar = false,\n",
    "        aspect_ratio = 1,\n",
    "        color = :blues)\n",
    "    p8 = heatmap(u[:, :, 2, i], axis = false, cbar = false, aspect_ratio = 1, color = :reds)\n",
    "    p9 = heatmap(v[:, :, 2, i],\n",
    "        axis = false,\n",
    "        cbar = false,\n",
    "        aspect_ratio = 1,\n",
    "        color = :blues)\n",
    "    e = u_les[:, :, 2, i] .- u[:, :, 2, i]\n",
    "    p10 = heatmap(e,\n",
    "        axis = false,\n",
    "        cbar = false,\n",
    "        aspect_ratio = 1,\n",
    "        color = :greens,\n",
    "        title = \"u-Diff\")\n",
    "    p11 = heatmap(u_les[:, :, 3, i],\n",
    "        axis = false,\n",
    "        cbar = false,\n",
    "        aspect_ratio = 1,\n",
    "        color = :reds)\n",
    "    p12 = heatmap(v_les[:, :, 3, i],\n",
    "        axis = false,\n",
    "        cbar = false,\n",
    "        aspect_ratio = 1,\n",
    "        color = :blues)\n",
    "    p13 = heatmap(u[:, :, 3, i],\n",
    "        axis = false,\n",
    "        cbar = false,\n",
    "        aspect_ratio = 1,\n",
    "        color = :reds)\n",
    "    p14 = heatmap(v[:, :, 3, i],\n",
    "        axis = false,\n",
    "        cbar = false,\n",
    "        aspect_ratio = 1,\n",
    "        color = :blues)\n",
    "    error = u_les[:, :, 3, i] .- u[:, :, 3, i]\n",
    "    p15 = heatmap(error,\n",
    "        axis = false,\n",
    "        cbar = false,\n",
    "        aspect_ratio = 1,\n",
    "        color = :greens,\n",
    "        title = \"u-Diff\")\n",
    "    time = round(i * saveat, digits = 0)\n",
    "    fig = plot(p1,\n",
    "        p2,\n",
    "        p3,\n",
    "        p4,\n",
    "        p5,\n",
    "        p6,\n",
    "        p7,\n",
    "        p8,\n",
    "        p9,\n",
    "        p10,\n",
    "        p11,\n",
    "        p12,\n",
    "        p13,\n",
    "        p14,\n",
    "        p15,\n",
    "        layout = (3, 5),\n",
    "        plot_title = \"time = $(time)\",\n",
    "        margin = 0mm)\n",
    "    frame(anim, fig)\n",
    "end\n",
    "if isdir(\"./plots\")\n",
    "    gif(anim, \"./plots/02.04-LES.gif\", fps = 10)\n",
    "else\n",
    "    gif(anim, \"examples/plots/02.04-LES.gif\", fps = 10)\n",
    "end"
   ],
   "metadata": {},
   "execution_count": null
  },
  {
   "cell_type": "markdown",
   "source": [
    "## Closure model + LES\n",
    "Now let's train a Neural Network closure that added to a *coarse* grid solution of $v$ (LES) would approximate the *fine* gride results (DNS).\n",
    "### Prepare reference data (labels)\n",
    "In order to prepare the loss function, we compute from the simulation data the target that we would like to fit. In the example $u$ will be unchanged, while $v$ will be rescaled to the coarse grid."
   ],
   "metadata": {}
  },
  {
   "outputs": [],
   "cell_type": "code",
   "source": [
    "u_target = reshape(reference_data[1:(grid_GS_u.N), :, :],\n",
    "    grid_GS_u.nx,\n",
    "    grid_GS_u.ny,\n",
    "    :,\n",
    "    size(reference_data)[end]);\n",
    "v_target = reshape(reference_data[(grid_GS_u.N + 1):end, :, :],\n",
    "    grid_GS_v.nx,\n",
    "    grid_GS_v.ny,\n",
    "    :,\n",
    "    size(reference_data)[end]);\n",
    "v_target = imresize(v_target, (coarse_grid.nx, coarse_grid.ny));"
   ],
   "metadata": {},
   "execution_count": null
  },
  {
   "cell_type": "markdown",
   "source": [
    "Pack $u$ and $v$ together in a `target` array where $u$ and $v$ are linearized in the first dimension. This is because `ODEProblem` expects as single dimension array as input."
   ],
   "metadata": {}
  },
  {
   "outputs": [],
   "cell_type": "code",
   "source": [
    "target = vcat(reshape(u_target, grid_GS_u.N, :, size(u_target)[end]),\n",
    "    reshape(v_target, coarse_grid.N, :, size(v_target)[end]));"
   ],
   "metadata": {},
   "execution_count": null
  },
  {
   "cell_type": "markdown",
   "source": [
    "### Closure Model\n",
    "Let's create the CNODE with the Neural Network closure. In this case we are going to use two different neural networks for the two components $u$ and $v$."
   ],
   "metadata": {}
  },
  {
   "outputs": [],
   "cell_type": "code",
   "source": [
    "import CoupledNODE: create_fno_model\n",
    "ch_fno = [5, 5, 5, 2];\n",
    "kmax_fno = [8, 8, 8, 8];\n",
    "σ_fno = [Lux.gelu, Lux.gelu, Lux.gelu, identity];\n",
    "NN_u = create_fno_model(kmax_fno, ch_fno, σ_fno, grid_GS_u, (x -> let u = x[1]\n",
    "    u\n",
    "end,));\n",
    "NN_v = create_fno_model(kmax_fno, ch_fno, σ_fno, grid_GS_u, (x -> let v = x[2]\n",
    "    v\n",
    "end,));\n",
    "f_closed_CNODE = create_f_CNODE((F_u, G_v), (grid_GS_u, coarse_grid), (NN_u, NN_v),\n",
    "    pre_force = upscaler_v, post_force = downscaler_v; is_closed = true);\n",
    "\n",
    "# Get the model parameters\n",
    "θ, st = Lux.setup(rng, f_closed_CNODE);"
   ],
   "metadata": {},
   "execution_count": null
  },
  {
   "cell_type": "markdown",
   "source": [
    "### Design the **loss function**\n",
    "For this example, we use *multishooting a posteriori* fitting (MulDtO), where we tell `Zygote` to compare `nintervals` of length `nunroll` to get the gradient. Notice that this method is differentiating through the solution of the NODE!"
   ],
   "metadata": {}
  },
  {
   "outputs": [],
   "cell_type": "code",
   "source": [
    "nunroll = 5\n",
    "nintervals = 10\n",
    "nsamples = 2"
   ],
   "metadata": {},
   "execution_count": null
  },
  {
   "cell_type": "markdown",
   "source": [
    "We also define this auxiliary NODE `training_CNODE` that will be used for training so that we can use smaller time steps for the training."
   ],
   "metadata": {}
  },
  {
   "outputs": [],
   "cell_type": "code",
   "source": [
    "dt_train = 0.1"
   ],
   "metadata": {},
   "execution_count": null
  },
  {
   "cell_type": "markdown",
   "source": [
    "but we have to sample at the same rate as the data"
   ],
   "metadata": {}
  },
  {
   "outputs": [],
   "cell_type": "code",
   "source": [
    "saveat_train = saveat\n",
    "t_train_range = (0.0f0, saveat_train * nunroll) # it has to be as long as nunroll\n",
    "training_CNODE = NeuralODE(f_closed_CNODE,\n",
    "    t_train_range,\n",
    "    solver_algo,\n",
    "    adaptive = false,\n",
    "    dt = dt_train,\n",
    "    saveat = saveat_train);"
   ],
   "metadata": {},
   "execution_count": null
  },
  {
   "cell_type": "markdown",
   "source": [
    "Create the loss"
   ],
   "metadata": {}
  },
  {
   "outputs": [],
   "cell_type": "code",
   "source": [
    "import CoupledNODE: create_randloss_MulDtO\n",
    "myloss = create_randloss_MulDtO(target,\n",
    "    training_CNODE,\n",
    "    st,\n",
    "    nunroll = nunroll,\n",
    "    nintervals = nintervals,\n",
    "    nsamples = nsamples,\n",
    "    λ_c = 1e2,\n",
    "    λ_l1 = 1e-1);\n",
    "\n",
    "# Initialize and trigger the compilation of the model\n",
    "import ComponentArrays\n",
    "pinit = ComponentArrays.ComponentArray(θ);\n",
    "myloss(pinit) # trigger compilation"
   ],
   "metadata": {},
   "execution_count": null
  },
  {
   "cell_type": "markdown",
   "source": [
    "[!] Check that the loss does not get type warnings, otherwise it will be slower"
   ],
   "metadata": {}
  },
  {
   "cell_type": "markdown",
   "source": [
    "### Transform the NeuralODE into an optimization problem"
   ],
   "metadata": {}
  },
  {
   "outputs": [],
   "cell_type": "code",
   "source": [
    "import OptimizationOptimisers: Optimization, OptimiserChain, Adam, ClipGrad"
   ],
   "metadata": {},
   "execution_count": null
  },
  {
   "cell_type": "markdown",
   "source": [
    "* Select the autodifferentiation type"
   ],
   "metadata": {}
  },
  {
   "outputs": [],
   "cell_type": "code",
   "source": [
    "adtype = Optimization.AutoZygote();\n",
    "optf = Optimization.OptimizationFunction((x, p) -> myloss(x), adtype);\n",
    "optprob = Optimization.OptimizationProblem(optf, pinit);"
   ],
   "metadata": {},
   "execution_count": null
  },
  {
   "cell_type": "markdown",
   "source": [
    "* Select the training algorithm\n",
    "We choose Adam with learning rate 0.1, with gradient clipping"
   ],
   "metadata": {}
  },
  {
   "outputs": [],
   "cell_type": "code",
   "source": [
    "ClipAdam = OptimiserChain(Adam(1.0f-1), ClipGrad(1));"
   ],
   "metadata": {},
   "execution_count": null
  },
  {
   "cell_type": "markdown",
   "source": [
    "### Train the CNODE\n",
    "(The block can be repeated to continue training)"
   ],
   "metadata": {}
  },
  {
   "outputs": [],
   "cell_type": "code",
   "source": [
    "import CoupledNODE: callback\n",
    "result_neuralode = Optimization.solve(optprob,\n",
    "    ClipAdam;\n",
    "    callback = callback,\n",
    "    maxiters = 20);\n",
    "pinit = result_neuralode.u;\n",
    "θ = pinit;\n",
    "optprob = Optimization.OptimizationProblem(optf, pinit);"
   ],
   "metadata": {},
   "execution_count": null
  },
  {
   "cell_type": "markdown",
   "source": [
    "*Note:* the training is rather slow, so realistically here we can not expect good results in a few iterations."
   ],
   "metadata": {}
  },
  {
   "cell_type": "markdown",
   "source": [
    "## Analyse the results\n",
    "Let's use `trained_CNODE` to compare the solution with the target."
   ],
   "metadata": {}
  },
  {
   "outputs": [],
   "cell_type": "code",
   "source": [
    "trange = (0.0f0, 300.0f0)\n",
    "trained_CNODE = NeuralODE(f_closed_CNODE,\n",
    "    trange,\n",
    "    solver_algo,\n",
    "    adaptive = false,\n",
    "    dt = dt,\n",
    "    saveat = saveat);\n",
    "trained_CNODE_solution = Array(trained_CNODE(uv0_coarse[:, 1:3], θ, st)[1]);\n",
    "\n",
    "u_trained = reshape(trained_CNODE_solution[1:(grid_GS_u.N), :, :],\n",
    "    grid_GS_u.nx,\n",
    "    grid_GS_u.ny,\n",
    "    :,\n",
    "    size(trained_CNODE_solution)[end]);\n",
    "v_trained = reshape(trained_CNODE_solution[(grid_GS_u.N + 1):end, :, :],\n",
    "    coarse_grid.nx,\n",
    "    coarse_grid.ny,\n",
    "    :,\n",
    "    size(trained_CNODE_solution)[end]);\n",
    "\n",
    "anim = Animation()\n",
    "fig = plot(layout = (2, 5), size = (750, 300))\n",
    "@gif for i in 1:40:size(u_trained)[end]\n",
    "    p1 = heatmap(u[:, :, 1, i],\n",
    "        axis = false,\n",
    "        cbar = false,\n",
    "        aspect_ratio = 1,\n",
    "        color = :reds,\n",
    "        title = \"Exact\")\n",
    "    p2 = heatmap(v[:, :, 1, i],\n",
    "        axis = false,\n",
    "        cbar = false,\n",
    "        aspect_ratio = 1,\n",
    "        color = :blues)\n",
    "    p3 = heatmap(u_trained[:, :, 1, i],\n",
    "        axis = false,\n",
    "        cbar = false,\n",
    "        aspect_ratio = 1,\n",
    "        color = :reds,\n",
    "        title = \"Trained\")\n",
    "    p4 = heatmap(v_trained[:, :, 1, i],\n",
    "        axis = false,\n",
    "        cbar = false,\n",
    "        aspect_ratio = 1,\n",
    "        color = :blues)\n",
    "    et = abs.(u[:, :, 1, i] .- u_trained[:, :, 1, i])\n",
    "    p5 = heatmap(et,\n",
    "        axis = false,\n",
    "        cbar = false,\n",
    "        aspect_ratio = 1,\n",
    "        color = :greens,\n",
    "        title = \"Diff-u\")\n",
    "    p6 = heatmap(u[:, :, 2, i], axis = false, cbar = false, aspect_ratio = 1, color = :reds)\n",
    "    p7 = heatmap(v[:, :, 2, i],\n",
    "        axis = false,\n",
    "        cbar = false,\n",
    "        aspect_ratio = 1,\n",
    "        color = :blues)\n",
    "    p8 = heatmap(u_trained[:, :, 2, i],\n",
    "        axis = false,\n",
    "        cbar = false,\n",
    "        aspect_ratio = 1,\n",
    "        color = :reds)\n",
    "    p9 = heatmap(v_trained[:, :, 2, i],\n",
    "        axis = false,\n",
    "        cbar = false,\n",
    "        aspect_ratio = 1,\n",
    "        color = :blues)\n",
    "    e = abs.(u[:, :, 2, i] .- u_trained[:, :, 2, i])\n",
    "    p10 = heatmap(e, axis = false, cbar = false, aspect_ratio = 1, color = :greens)\n",
    "\n",
    "    time = round(i * saveat, digits = 0)\n",
    "    fig = plot(p1, p2, p3, p4, p5, p6, p7, p8, p9, p10, layout = (2, 5), margin = 0mm)\n",
    "\n",
    "    frame(anim, fig)\n",
    "end\n",
    "if isdir(\"./plots\")\n",
    "    gif(anim, \"./plots/02.04-NNclosure.gif\", fps = 10)\n",
    "else\n",
    "    gif(anim, \"examples/plots/02.04-NNclosure.gif\", fps = 10)\n",
    "end"
   ],
   "metadata": {},
   "execution_count": null
  },
  {
   "cell_type": "markdown",
   "source": [
    "---\n",
    "\n",
    "*This notebook was generated using [Literate.jl](https://github.com/fredrikekre/Literate.jl).*"
   ],
   "metadata": {}
  }
 ],
 "nbformat_minor": 3,
 "metadata": {
  "language_info": {
   "file_extension": ".jl",
   "mimetype": "application/julia",
   "name": "julia",
   "version": "1.10.3"
  },
  "kernelspec": {
   "name": "julia-1.10",
   "display_name": "Julia 1.10.3",
   "language": "julia"
  }
 },
 "nbformat": 4
}
