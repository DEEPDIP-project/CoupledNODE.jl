{
 "cells": [
  {
   "outputs": [],
   "cell_type": "code",
   "source": [
    "import Zygote\n",
    "import Random: shuffle\n",
    "import LinearAlgebra: norm\n",
    "\n",
    "\"\"\"\n",
    "    mean_squared_error(f, st, x, y, θ, λ)\n",
    "\n",
    "Random a priori loss function. Use this function to train the closure term to reproduce the right hand side."
   ],
   "metadata": {},
   "execution_count": null
  },
  {
   "cell_type": "markdown",
   "source": [
    "Arguments:"
   ],
   "metadata": {}
  },
  {
   "outputs": [],
   "cell_type": "code",
   "source": [
    "- `f`: Function that represents the model.\n",
    "- `st`: State of the model.\n",
    "- `x`: Input data.\n",
    "- `y`: Target data.\n",
    "- `θ`: Parameters of the model.\n",
    "- `λ`: Regularization parameter."
   ],
   "metadata": {},
   "execution_count": null
  },
  {
   "cell_type": "markdown",
   "source": [
    "Returns:"
   ],
   "metadata": {}
  },
  {
   "outputs": [],
   "cell_type": "code",
   "source": [
    "- `total_loss`: Mean squared error loss.\n",
    "\"\"\"\n",
    "function mean_squared_error(f, st, x, y, θ, λ)\n",
    "    prediction = Array(f(x, θ, st)[1])\n",
    "    total_loss = sum(abs2, prediction - y) / sum(abs2, y)\n",
    "    return total_loss + λ * norm(θ, 1), nothing\n",
    "end\n",
    "\n",
    "\"\"\"\n",
    "    create_randloss_derivative(GS_data, FG_target, f, st; nuse = size(GS_data, 2), λ=0)\n",
    "\n",
    "Create a randomized loss function that compares the derivatives.\n",
    "This function creates a randomized loss function derivative by selecting a subset of the data. This is done because using the entire dataset at each iteration would be too expensive."
   ],
   "metadata": {},
   "execution_count": null
  },
  {
   "cell_type": "markdown",
   "source": [
    "Arguments"
   ],
   "metadata": {}
  },
  {
   "outputs": [],
   "cell_type": "code",
   "source": [
    "- `GS_data`: The input data.\n",
    "- `FG_target`: The target data.\n",
    "- `f`: The model function.\n",
    "- `st`: The model state.\n",
    "- `nuse`: The number of samples to use for the loss function. Defaults to the size of `GS_data`.\n",
    "- `λ`: The regularization parameter. Defaults to 0."
   ],
   "metadata": {},
   "execution_count": null
  },
  {
   "cell_type": "markdown",
   "source": [
    "Returns"
   ],
   "metadata": {}
  },
  {
   "outputs": [],
   "cell_type": "code",
   "source": [
    "A function `randloss` that computes the mean squared error loss using the selected subset of data.\n",
    "\"\"\"\n",
    "function create_randloss_derivative(GS_data,\n",
    "        FG_target,\n",
    "        f,\n",
    "        st;\n",
    "        nuse = size(GS_data, 2),\n",
    "        λ = 0)\n",
    "    d = ndims(GS_data)\n",
    "    nsample = size(GS_data, d)\n",
    "    function randloss(θ)\n",
    "        i = Zygote.@ignore sort(shuffle(1:nsample)[1:nuse])\n",
    "        x_use = Zygote.@ignore ArrayType(selectdim(GS_data, d, i))\n",
    "        y_use = Zygote.@ignore ArrayType(selectdim(FG_target, d, i))\n",
    "        mean_squared_error(f, st, x_use, y_use, θ, λ)\n",
    "    end\n",
    "end"
   ],
   "metadata": {},
   "execution_count": null
  },
  {
   "cell_type": "markdown",
   "source": [
    "auxiliary function to solve the NeuralODE, given parameters p"
   ],
   "metadata": {}
  },
  {
   "outputs": [],
   "cell_type": "code",
   "source": [
    "function predict_u_CNODE(uv0, θ, tg)\n",
    "    sol = Array(training_CNODE(uv0, θ, st)[1])\n",
    "    #tg_size = size(tg)\n",
    "    #println(\"sol size \", size(sol))\n",
    "    #println(\"tg size \", size(tg))\n",
    "    #println(sol[:,:,1] == tg[:,:,1])\n",
    "\n",
    "    # handle unstable solver\n",
    "    #if any(isnan, sol)"
   ],
   "metadata": {},
   "execution_count": null
  },
  {
   "cell_type": "markdown",
   "source": [
    "   # if some steps succesfully run, then use them for the loss\n",
    "   nok = 1\n",
    "   while any(isnan, sol[:, :, 1:nok])\n",
    "       nok += 1\n",
    "   end\n",
    "   if nok > 1\n",
    "       println(\"Unstability after \", nok, \" steps\")\n",
    "       tg = tg[:,:,1:nok]\n",
    "       sol = sol[:,:,1:nok]\n",
    "   else\n",
    "       # otherwise run the auxiliary solver\n",
    "       println(\"Using auxiliary solver \")\n",
    "       sol = Array(training_CNODE_2(uv0, θ, st)[1])\n",
    "       if any(isnan, sol)\n",
    "           println(\"ERROR: NaN detected in the prediction\")\n",
    "           return fill(1e6 * sum(θ), tg_size)\n",
    "       end\n",
    "   end"
   ],
   "metadata": {}
  },
  {
   "outputs": [],
   "cell_type": "code",
   "source": [
    "    #end\n",
    "    return sol, tg[:, :, 1:size(sol, 3)]\n",
    "end\n",
    "\n",
    "\"\"\"\n",
    "    create_randloss_MulDtO(target; nunroll, nintervals=1, nsamples, λ_c, λ_l1)\n",
    "\n",
    "This function creates a random loss function for the multishooting method with multiple shooting intervals."
   ],
   "metadata": {},
   "execution_count": null
  },
  {
   "cell_type": "markdown",
   "source": [
    "Arguments"
   ],
   "metadata": {}
  },
  {
   "outputs": [],
   "cell_type": "code",
   "source": [
    "- `target`: The target data for the loss function.\n",
    "- `nunroll`: The number of time steps to unroll.\n",
    "- `noverlaps`: The number of time steps that overlaps between each consecutive intervals.\n",
    "- `nintervals`: The number of shooting intervals.\n",
    "- `nsamples`: The number of samples to select.\n",
    "- `λ_c`: The weight for the continuity term. It sets how strongly we make the pieces match (continuity term).\n",
    "- `λ_l1`: The coefficient for the L1 regularization term in the loss function."
   ],
   "metadata": {},
   "execution_count": null
  },
  {
   "cell_type": "markdown",
   "source": [
    "Returns"
   ],
   "metadata": {}
  },
  {
   "outputs": [],
   "cell_type": "code",
   "source": [
    "- `randloss_MulDtO`: A random loss function for the multishooting method.\n",
    "\"\"\"\n",
    "function create_randloss_MulDtO(\n",
    "        target; nunroll, nintervals = 1, noverlaps = 1, nsamples, λ_c, λ_l1)"
   ],
   "metadata": {},
   "execution_count": null
  },
  {
   "cell_type": "markdown",
   "source": [
    "TODO: there should be some check about the consistency of the input arguments\n",
    "Get the number of time steps"
   ],
   "metadata": {}
  },
  {
   "outputs": [],
   "cell_type": "code",
   "source": [
    "    d = ndims(target)\n",
    "    nt = size(target, d)\n",
    "    function randloss_MulDtO(θ)"
   ],
   "metadata": {},
   "execution_count": null
  },
  {
   "cell_type": "markdown",
   "source": [
    "We compute the requested length of consecutive timesteps\n",
    "Notice that each interval is long nunroll+1 because we are including the initial conditions as step_0"
   ],
   "metadata": {}
  },
  {
   "outputs": [],
   "cell_type": "code",
   "source": [
    "        length_required = nintervals * (nunroll + 1) - noverlaps * (nintervals - 1)"
   ],
   "metadata": {},
   "execution_count": null
  },
  {
   "cell_type": "markdown",
   "source": [
    "Zygote will select a random initial condition that can accomodate all the multishooting intervals"
   ],
   "metadata": {}
  },
  {
   "outputs": [],
   "cell_type": "code",
   "source": [
    "        istart = Zygote.@ignore rand(1:(nt - length_required))\n",
    "        trajectory = Zygote.@ignore ArrayType(selectdim(target,\n",
    "            d,\n",
    "            istart:(istart + length_required)))"
   ],
   "metadata": {},
   "execution_count": null
  },
  {
   "cell_type": "markdown",
   "source": [
    "and select a certain number of samples"
   ],
   "metadata": {}
  },
  {
   "outputs": [],
   "cell_type": "code",
   "source": [
    "        trajectory = Zygote.@ignore trajectory[:, rand(1:size(trajectory, 2), nsamples), :]"
   ],
   "metadata": {},
   "execution_count": null
  },
  {
   "cell_type": "markdown",
   "source": [
    "then return the loss for each multishooting set"
   ],
   "metadata": {}
  },
  {
   "outputs": [],
   "cell_type": "code",
   "source": [
    "        loss_MulDtO_oneset(trajectory,\n",
    "            θ,\n",
    "            nunroll = nunroll,\n",
    "            nintervals = nintervals,\n",
    "            noverlaps = noverlaps,\n",
    "            nsamples = nsamples,\n",
    "            λ_c = λ_c,\n",
    "            λ_l1 = λ_l1)\n",
    "    end\n",
    "end\n",
    "\n",
    "\"\"\"\n",
    "    loss_MulDtO_oneset(trajectory, θ; λ_c=1e1, λ_l1=1e1, nunroll, nintervals, nsamples=nsamples)\n",
    "\n",
    "Compute the loss function for the multiple shooting method with a continuous neural ODE (CNODE) model.\n",
    "Check https://docs.sciml.ai/DiffEqFlux/dev/examples/multiple_shooting/ for more details."
   ],
   "metadata": {},
   "execution_count": null
  },
  {
   "cell_type": "markdown",
   "source": [
    "Arguments"
   ],
   "metadata": {}
  },
  {
   "outputs": [],
   "cell_type": "code",
   "source": [
    "- `trajectory`: The trajectory of the system.\n",
    "- `θ`: The parameters of the CNODE model.\n",
    "- `λ_c`: The weight for the continuity term. It sets how strongly we make the pieces match (continuity term). Default is `1e1`.\n",
    "- `λ_l1`: The weight for the L1 regularization term. Default is `1e1`.\n",
    "- `nunroll`: The number of time steps to unroll the trajectory.\n",
    "- `noverlaps`: The number of time steps that overlaps between each consecutive intervals.\n",
    "- `nintervals`: The number of intervals to divide the trajectory into.\n",
    "- `nsamples`: The number of samples. Default is `nsamples`."
   ],
   "metadata": {},
   "execution_count": null
  },
  {
   "cell_type": "markdown",
   "source": [
    "Returns"
   ],
   "metadata": {}
  },
  {
   "outputs": [],
   "cell_type": "code",
   "source": [
    "- `loss`: The computed loss value.\n",
    "- `nothing`: Placeholder return value.\n",
    "\"\"\"\n",
    "function loss_MulDtO_oneset(trajectory,\n",
    "        θ;\n",
    "        λ_c = 1e1,\n",
    "        λ_l1 = 1e1,\n",
    "        nunroll,\n",
    "        nintervals,\n",
    "        noverlaps,\n",
    "        nsamples = nsamples)"
   ],
   "metadata": {},
   "execution_count": null
  },
  {
   "cell_type": "markdown",
   "source": [
    "Get the timesteps where the intervals start"
   ],
   "metadata": {}
  },
  {
   "outputs": [],
   "cell_type": "code",
   "source": [
    "    #starting_points = [i*(nunroll+1-noverlaps) for i in 1:(nintervals-1)]\n",
    "    #pushfirst!(starting_points,1)\n",
    "    starting_points = [i == 0 ? 1 : i * (nunroll + 1 - noverlaps)\n",
    "                       for i in 0:(nintervals - 1)]"
   ],
   "metadata": {},
   "execution_count": null
  },
  {
   "cell_type": "markdown",
   "source": [
    "Take all the time intervals and concatenate them in the batch dimension"
   ],
   "metadata": {}
  },
  {
   "outputs": [],
   "cell_type": "code",
   "source": [
    "    list_tr = cat([trajectory[:, :, i:(i + nunroll)]\n",
    "                   for i in starting_points]...,\n",
    "        dims = 2)"
   ],
   "metadata": {},
   "execution_count": null
  },
  {
   "cell_type": "markdown",
   "source": [
    "Get all the initial conditions"
   ],
   "metadata": {}
  },
  {
   "outputs": [],
   "cell_type": "code",
   "source": [
    "    list_starts = cat([trajectory[:, :, i] for i in starting_points]...,\n",
    "        dims = 2)"
   ],
   "metadata": {},
   "execution_count": null
  },
  {
   "cell_type": "markdown",
   "source": [
    "Use the differentiable solver to get the predictions"
   ],
   "metadata": {}
  },
  {
   "outputs": [],
   "cell_type": "code",
   "source": [
    "    pred, list_tr = predict_u_CNODE(list_starts, θ, list_tr)"
   ],
   "metadata": {},
   "execution_count": null
  },
  {
   "cell_type": "markdown",
   "source": [
    "the loss is the sum of the differences between the real trajectory and the predicted one"
   ],
   "metadata": {}
  },
  {
   "outputs": [],
   "cell_type": "code",
   "source": [
    "    loss = sum(abs2, list_tr .- pred) ./ sum(abs2, list_tr)\n",
    "\n",
    "    if λ_c > 0 && size(list_tr, 3) == nunroll + 1"
   ],
   "metadata": {},
   "execution_count": null
  },
  {
   "cell_type": "markdown",
   "source": [
    "//TODO check if the continuity term is correct\n",
    "Compute the continuity term by comparing end of one interval with the start of the next one\n",
    "(!) Remind that the trajectory is stored as:\n",
    "  pred[grid, (nintervals*nsamples), nunroll+1]\n",
    "and we need to compare the last noverlaps points of an interval"
   ],
   "metadata": {}
  },
  {
   "outputs": [],
   "cell_type": "code",
   "source": [
    "        pred_end = pred[:, :, (end - noverlaps + 1):end]"
   ],
   "metadata": {},
   "execution_count": null
  },
  {
   "cell_type": "markdown",
   "source": [
    "with the first noverlaps points of the next interval EXCLUDING the initial condition\n",
    "(which is already part of the loss function)"
   ],
   "metadata": {}
  },
  {
   "outputs": [],
   "cell_type": "code",
   "source": [
    "        pred_start = pred[:, :, 2:(1 + noverlaps)]\n",
    "        continuity = 0"
   ],
   "metadata": {},
   "execution_count": null
  },
  {
   "cell_type": "markdown",
   "source": [
    "loop over all the samples, which have been concatenated in dim 2"
   ],
   "metadata": {}
  },
  {
   "outputs": [],
   "cell_type": "code",
   "source": [
    "        for s in 1:nsamples"
   ],
   "metadata": {},
   "execution_count": null
  },
  {
   "cell_type": "markdown",
   "source": [
    "each sample contains nintervals, we need to shift the index by"
   ],
   "metadata": {}
  },
  {
   "outputs": [],
   "cell_type": "code",
   "source": [
    "            s_shift = (s - 1) * nintervals"
   ],
   "metadata": {},
   "execution_count": null
  },
  {
   "cell_type": "markdown",
   "source": [
    "loop over all the intervals for the sample (excluding the last one)"
   ],
   "metadata": {}
  },
  {
   "outputs": [],
   "cell_type": "code",
   "source": [
    "            for i in 1:(nintervals - 1)\n",
    "                continuity += sum(abs,\n",
    "                    pred_end[:, s_shift + i] .- pred_start[:, s_shift + i + 1])\n",
    "            end\n",
    "        end\n",
    "    else\n",
    "        continuity = 0\n",
    "    end\n",
    "\n",
    "    return loss + (continuity * λ_c) + λ_l1 * norm(θ), nothing\n",
    "end"
   ],
   "metadata": {},
   "execution_count": null
  },
  {
   "cell_type": "markdown",
   "source": [
    "---\n",
    "\n",
    "*This notebook was generated using [Literate.jl](https://github.com/fredrikekre/Literate.jl).*"
   ],
   "metadata": {}
  }
 ],
 "nbformat_minor": 3,
 "metadata": {
  "language_info": {
   "file_extension": ".jl",
   "mimetype": "application/julia",
   "name": "julia",
   "version": "1.10.2"
  },
  "kernelspec": {
   "name": "julia-1.10",
   "display_name": "Julia 1.10.2",
   "language": "julia"
  }
 },
 "nbformat": 4
}
