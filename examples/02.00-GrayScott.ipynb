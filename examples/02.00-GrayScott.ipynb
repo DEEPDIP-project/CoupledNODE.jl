{
 "cells": [
  {
   "cell_type": "markdown",
   "source": [
    "# Gray-Scott model - explicit solution\n",
    "In following examples we will use the GS model to showcase how it can be represented as Coupled Neural ODEs (CNODEs). But let us first explore the GS model starting with an explicit solution of it. We will be using [SciML](https://sciml.ai/) package [DiffEqFlux.jl`](https://github.com/SciML/DiffEqFlux.jl) and scpecifically [`NeuralODE`](https://docs.sciml.ai/DiffEqFlux/stable/examples/neural_ode/) for defining and solving the problem."
   ],
   "metadata": {}
  },
  {
   "cell_type": "markdown",
   "source": [
    "The system that we want to solve, called the the Gray-Scott model, is defined by the following equations:\n",
    "\\begin{equation}\\begin{cases} \\frac{du}{dt} = D_u \\Delta u - uv^2 + f(1-u)  \\equiv F_u(u,v) \\\\ \\frac{dv}{dt} = D_v \\Delta v + uv^2 - (f+k)v  \\equiv G_v(u,v)\\end{cases} \\end{equation}\n",
    "where $u(x,y,t):\\mathbb{R}^2\\times \\mathbb{R}\\rightarrow \\mathbb{R}$ is the concentration of species 1, while $v(x,y,t)$ is the concentration of species 2. This model reproduce the effect of the two species diffusing in their environment and reacting together.\n",
    "This effect is captured by the ratios between $D_u$ and $D_v$ (the diffusion coefficients) and $f$ and $k$ (the reaction rates)."
   ],
   "metadata": {}
  },
  {
   "cell_type": "markdown",
   "source": [
    "Let's start creating a grid to discretize the problem. Notice that in literature the coefficients are usually scaled such that $dx=dy=1$, so we will use this scaling to have a direct comparison with literature."
   ],
   "metadata": {}
  },
  {
   "outputs": [],
   "cell_type": "code",
   "source": [
    "import CoupledNODE: Grid\n",
    "dux = duy = dvx = dvy = 1.0\n",
    "nux = nuy = nvx = nvy = 100\n",
    "grid_GS_u = Grid(dim = 2, dx = dux, nx = nux, dy = duy, ny = nuy)\n",
    "grid_GS_v = Grid(dim = 2, dx = dvx, nx = nvx, dy = dvy, ny = nvy)"
   ],
   "metadata": {},
   "execution_count": null
  },
  {
   "cell_type": "markdown",
   "source": [
    "We start defining a central concentration of $v$ and a constant concentration of $u$:"
   ],
   "metadata": {}
  },
  {
   "outputs": [],
   "cell_type": "code",
   "source": [
    "function initialize_uv(grid_u, grid_v, u_bkg, v_bkg, center_size)\n",
    "    u_initial = u_bkg * ones(grid_u.nx, grid_u.ny)\n",
    "    v_initial = zeros(grid_v.nx, grid_v.ny)\n",
    "    v_initial[Int(grid_v.nx / 2 - center_size):Int(grid_v.nx / 2 + center_size), Int(grid_v.ny / 2 - center_size):Int(grid_v.ny / 2 + center_size)] .= v_bkg\n",
    "    return u_initial, v_initial\n",
    "end\n",
    "u_initial, v_initial = initialize_uv(grid_GS_u, grid_GS_v, 0.8, 0.9, 4);"
   ],
   "metadata": {},
   "execution_count": null
  },
  {
   "cell_type": "markdown",
   "source": [
    "We can now define the initial condition as a flattened concatenated array"
   ],
   "metadata": {}
  },
  {
   "outputs": [],
   "cell_type": "code",
   "source": [
    "uv0 = vcat(reshape(u_initial, grid_GS_u.nx * grid_GS_u.ny, 1),\n",
    "    reshape(v_initial, grid_GS_v.nx * grid_GS_v.ny, 1));"
   ],
   "metadata": {},
   "execution_count": null
  },
  {
   "cell_type": "markdown",
   "source": [
    "From the literature, we select the following parameters in order to form nice patterns."
   ],
   "metadata": {}
  },
  {
   "outputs": [],
   "cell_type": "code",
   "source": [
    "D_u = 0.16\n",
    "D_v = 0.08\n",
    "f = 0.055\n",
    "k = 0.062;"
   ],
   "metadata": {},
   "execution_count": null
  },
  {
   "cell_type": "markdown",
   "source": [
    "Define the **right hand sides** of the two equations:"
   ],
   "metadata": {}
  },
  {
   "outputs": [],
   "cell_type": "code",
   "source": [
    "import CoupledNODE: Laplacian\n",
    "function F_u(u, v)\n",
    "    D_u * Laplacian(u, grid_GS_u.dx, grid_GS_u.dy) .- u .* v .^ 2 .+ f .* (1.0 .- u)\n",
    "end\n",
    "function G_v(u, v)\n",
    "    D_v * Laplacian(v, grid_GS_v.dx, grid_GS_v.dy) .+ u .* v .^ 2 .- (f + k) .* v\n",
    "end"
   ],
   "metadata": {},
   "execution_count": null
  },
  {
   "cell_type": "markdown",
   "source": [
    "Once the functions have been defined, we can create the CNODE\n",
    "Notice that in the future, this same constructor will be able to use the user provided neural network to close the equations"
   ],
   "metadata": {}
  },
  {
   "outputs": [],
   "cell_type": "code",
   "source": [
    "import CoupledNODE: create_f_CNODE\n",
    "f_CNODE = create_f_CNODE((F_u, G_v), (grid_GS_u, grid_GS_v); is_closed = false);"
   ],
   "metadata": {},
   "execution_count": null
  },
  {
   "cell_type": "markdown",
   "source": [
    "and we ask Lux for the parameters to train and their structure"
   ],
   "metadata": {}
  },
  {
   "outputs": [],
   "cell_type": "code",
   "source": [
    "import Lux, Random\n",
    "rng = Random.seed!(1234);\n",
    "θ, st = Lux.setup(rng, f_CNODE);"
   ],
   "metadata": {},
   "execution_count": null
  },
  {
   "cell_type": "markdown",
   "source": [
    "in this example we are not training any parameters, so we can confirm that the vector θ is empty"
   ],
   "metadata": {}
  },
  {
   "outputs": [],
   "cell_type": "code",
   "source": [
    "length(θ) == 0;"
   ],
   "metadata": {},
   "execution_count": null
  },
  {
   "cell_type": "markdown",
   "source": [
    "We now do a short *burnout run* to get rid of the initial artifacts. This allows us to discard the transient dynamics and to have a good initial condition for the data collection run."
   ],
   "metadata": {}
  },
  {
   "outputs": [],
   "cell_type": "code",
   "source": [
    "using DifferentialEquations: Tsit5\n",
    "using DiffEqFlux: NeuralODE\n",
    "trange_burn = (0.0, 10.0);\n",
    "dt, saveat = (1e-2, 1);\n",
    "full_CNODE = NeuralODE(f_CNODE,\n",
    "    trange_burn,\n",
    "    Tsit5(),\n",
    "    adaptive = false,\n",
    "    dt = dt,\n",
    "    saveat = saveat);\n",
    "burnout_CNODE_solution = Array(full_CNODE(uv0, θ, st)[1]);"
   ],
   "metadata": {},
   "execution_count": null
  },
  {
   "cell_type": "markdown",
   "source": [
    "**CNODE run**"
   ],
   "metadata": {}
  },
  {
   "cell_type": "markdown",
   "source": [
    "We use the output of the *burnout run* to start a longer simulation"
   ],
   "metadata": {}
  },
  {
   "outputs": [],
   "cell_type": "code",
   "source": [
    "uv0 = burnout_CNODE_solution[:, :, end];\n",
    "trange = (0.0, 8000.0);"
   ],
   "metadata": {},
   "execution_count": null
  },
  {
   "cell_type": "markdown",
   "source": [
    "the maximum suggested time step for GS is defined as `1/(4 * Dmax)`"
   ],
   "metadata": {}
  },
  {
   "outputs": [],
   "cell_type": "code",
   "source": [
    "dt, saveat = (1 / (4 * max(D_u, D_v)), 25);\n",
    "full_CNODE = NeuralODE(f_CNODE, trange, Tsit5(), adaptive = false, dt = dt, saveat = saveat);\n",
    "untrained_CNODE_solution = Array(full_CNODE(uv0, θ, st)[1]);"
   ],
   "metadata": {},
   "execution_count": null
  },
  {
   "cell_type": "markdown",
   "source": [
    "And we unpack the solution to get the two species. Remember that we have concatenated $u$ and $v$ in the same array."
   ],
   "metadata": {}
  },
  {
   "outputs": [],
   "cell_type": "code",
   "source": [
    "u = reshape(untrained_CNODE_solution[1:(grid_GS_u.N), :, :],\n",
    "    grid_GS_u.nx,\n",
    "    grid_GS_u.ny,\n",
    "    size(untrained_CNODE_solution, 2),\n",
    "    :);\n",
    "v = reshape(untrained_CNODE_solution[(grid_GS_u.N + 1):end, :, :],\n",
    "    grid_GS_v.nx,\n",
    "    grid_GS_v.ny,\n",
    "    size(untrained_CNODE_solution, 2),\n",
    "    :);"
   ],
   "metadata": {},
   "execution_count": null
  },
  {
   "cell_type": "markdown",
   "source": [
    "Finally, plot the solution as an animation"
   ],
   "metadata": {}
  },
  {
   "outputs": [],
   "cell_type": "code",
   "source": [
    "using Plots\n",
    "anim = Animation()\n",
    "fig = plot(layout = (1, 2), size = (600, 300))\n",
    "@gif for i in 1:2:size(u, 4)\n",
    "    p1 = heatmap(u[:, :, 1, i],\n",
    "        axis = false,\n",
    "        bar = true,\n",
    "        aspect_ratio = 1,\n",
    "        color = :reds,\n",
    "        title = \"u(x,y)\")\n",
    "    p2 = heatmap(v[:, :, 1, i],\n",
    "        axis = false,\n",
    "        bar = true,\n",
    "        aspect_ratio = 1,\n",
    "        color = :blues,\n",
    "        title = \"v(x,y)\")\n",
    "    time = round(i * saveat, digits = 0)\n",
    "    fig = plot(p1, p2, layout = (1, 2), plot_title = \"time = $(time)\")\n",
    "    frame(anim, fig)\n",
    "end\n",
    "if isdir(\"./plots\")\n",
    "    gif(anim, \"./plots/02.00.GS.gif\", fps = 10)\n",
    "else\n",
    "    gif(anim, \"examples/plots/02.00.GS.gif\", fps = 10)\n",
    "end"
   ],
   "metadata": {},
   "execution_count": null
  },
  {
   "cell_type": "markdown",
   "source": [
    "---\n",
    "\n",
    "*This notebook was generated using [Literate.jl](https://github.com/fredrikekre/Literate.jl).*"
   ],
   "metadata": {}
  }
 ],
 "nbformat_minor": 3,
 "metadata": {
  "language_info": {
   "file_extension": ".jl",
   "mimetype": "application/julia",
   "name": "julia",
   "version": "1.10.3"
  },
  "kernelspec": {
   "name": "julia-1.10",
   "display_name": "Julia 1.10.3",
   "language": "julia"
  }
 },
 "nbformat": 4
}
